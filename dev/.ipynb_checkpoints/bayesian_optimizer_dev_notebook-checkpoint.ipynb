{
 "cells": [
  {
   "cell_type": "code",
   "execution_count": null,
   "metadata": {
    "collapsed": true
   },
   "outputs": [],
   "source": []
  },
  {
   "cell_type": "code",
   "execution_count": null,
   "metadata": {
    "collapsed": true
   },
   "outputs": [],
   "source": []
  },
  {
   "cell_type": "code",
   "execution_count": null,
   "metadata": {
    "collapsed": true
   },
   "outputs": [],
   "source": []
  },
  {
   "cell_type": "markdown",
   "metadata": {},
   "source": [
    "### Custom GP regressor"
   ]
  },
  {
   "cell_type": "code",
   "execution_count": 2,
   "metadata": {
    "collapsed": true
   },
   "outputs": [],
   "source": [
    "from sklearn.base import BaseEstimator, ClassifierMixin\n",
    "from sklearn.preprocessing import StandardScaler\n",
    "from sklearn.gaussian_process import GaussianProcessRegressor\n",
    "from sklearn.gaussian_process.kernels import Matern\n",
    "from sklearn.gaussian_process.kernels import WhiteKernel\n",
    "from numpy import array\n",
    "\n",
    "class GaussianProcessRegressor_(BaseEstimator, ClassifierMixin):\n",
    "    #standard init function\n",
    "    def __init__(self, nu = 1.5):\n",
    "        self.nu = nu\n",
    "        return None\n",
    "    #creates an explicit pipeline so that special features of the gp regressor can be accessed\n",
    "    def fit(self, X, y, dy = None):\n",
    "        #transformers\n",
    "        self.standard_scaler_ = StandardScaler()\n",
    "        self.standard_scaler_y_ = StandardScaler()\n",
    "        #predictor\n",
    "        dimensions = len(X[0])\n",
    "        kernel = (Matern(length_scale = [1.0 for axis in range(dimensions)], nu = self.nu) \n",
    "                  + WhiteKernel(noise_level=1.0, noise_level_bounds=(1e-05, 100000.0)))\n",
    "        if dy is None:\n",
    "            self.gaussian_process_ = GaussianProcessRegressor(kernel = kernel, n_restarts_optimizer = 10)\n",
    "        else:\n",
    "            self.gaussian_process_ = GaussianProcessRegressor(kernel = kernel, alpha = dy, n_restarts_optimizer = 10)\n",
    "        #transform and fit\n",
    "        X = self.standard_scaler_.fit_transform(X)\n",
    "        y = array(y)\n",
    "        y.shape = (len(y), 1)\n",
    "        y = self.standard_scaler_y_.fit_transform(y)\n",
    "        y.shape = (1, len(y))\n",
    "        y = y[0]\n",
    "        self.gaussian_process_.fit(X, y)\n",
    "        return self\n",
    "    #predict the thing and inverse transform the predicted scaled output  \n",
    "    def predict(self, X, y = None, return_std = False):\n",
    "        X = self.standard_scaler_.transform(X)\n",
    "        y_predict_scaled = self.gaussian_process_.predict(X)\n",
    "        if not return_std:\n",
    "            y_predict_scaled = self.gaussian_process_.predict(X)\n",
    "            y_predict = self.standard_scaler_y_.inverse_transform(y_predict_scaled)\n",
    "            return y_predict\n",
    "        else:\n",
    "            y_predict_scaled, y_std_scaled = self.gaussian_process_.predict(X, return_std = True)\n",
    "            y_predict = self.standard_scaler_y_.inverse_transform(y_predict_scaled)\n",
    "            y_upper = self.standard_scaler_y_.inverse_transform(y_predict_scaled + y_std_scaled)\n",
    "            return y_predict, (y_upper - y_predict)"
   ]
  },
  {
   "cell_type": "code",
   "execution_count": null,
   "metadata": {
    "collapsed": true
   },
   "outputs": [],
   "source": []
  },
  {
   "cell_type": "markdown",
   "metadata": {},
   "source": [
    "### Optimization wrapper for GP regressor"
   ]
  },
  {
   "cell_type": "code",
   "execution_count": 189,
   "metadata": {
    "collapsed": false
   },
   "outputs": [],
   "source": [
    "#this is the protocol for storing the bayesian optimizer object\n",
    "#from gaussian_process_regressor_ import GaussianProcessRegressor_\n",
    "import dill\n",
    "#from scipy.optimize import anneal\n",
    "from scipy.optimize import minimize\n",
    "from numpy import array\n",
    "from random import random\n",
    "from numpy import exp, pi, sqrt\n",
    "from scipy.special import erf\n",
    "\n",
    "class BayesianOptimizer:\n",
    "    #if a previous bayesian optimzer was made it can be loaded\n",
    "    #else we do not do anything\n",
    "    def __init__(self, filename = None):\n",
    "        return None     \n",
    "    #establish the regressor        \n",
    "    def InitalizeRegressor(self, nu = 1.5):\n",
    "        self.gaussian_process_regressor_ = GaussianProcessRegressor_(nu = nu)\n",
    "        return None   \n",
    "    #set the various simulated annealing parameters    \n",
    "    def InitializeOptimizer(self, rand_starts=1000, tol=1e-10):\n",
    "        self.rand_starts_ = rand_starts\n",
    "        self.tol_ = tol\n",
    "        None\n",
    "    #sets the maximum fitness value based on either standard or knowledge gradient\n",
    "    def SetMaxFitness(self):\n",
    "        self.y_max_real_and_virtual_ = max(self.y_ + self.y_virtual_)\n",
    "        return None\n",
    "    #establish a library of initial samples to seed the model with\n",
    "    def InitialSamples(self, features, fitness):\n",
    "        self.X_ = features\n",
    "        self.y_ = fitness\n",
    "        self.X_virtual_ = []\n",
    "        self.y_virtual_ = []\n",
    "        self.SetMaxFitness()\n",
    "        return None\n",
    "    #adds samples - typically this is a result of doing new experiments\n",
    "    def AddSamples(self, features, fitness):\n",
    "        self.X_ = self.X_ + features\n",
    "        self.y_ = self.y_ + fitness\n",
    "        self.SetMaxFitness()\n",
    "        return None\n",
    "    #this controls the range of valid possible values for each axis\n",
    "    def SetRanges(self, ranges):\n",
    "        self.ranges_ = ranges\n",
    "        return None\n",
    "    #adds some virtual samples - this is relevant to multipoint optimization\n",
    "    def AddVirtualSamples(self, features, fitness):\n",
    "        self.X_virtual_ = self.X_virtual_ + features\n",
    "        self.y_virtual_ = self.y_virtual_ + fitness\n",
    "        self.SetMaxFitness()\n",
    "        return None\n",
    "    #the fitness landscape to optimize and find the best fitness\n",
    "    def ExpectedImprovement(self, x):\n",
    "        f_mean, f_stdev  = self.gaussian_process_regressor_.predict(array([x]), return_std = True)\n",
    "        f_mean = f_mean[0]\n",
    "        f_stdev = f_stdev[0]\n",
    "        f_max = self.y_max_real_and_virtual_\n",
    "        f1 = exp(-((f_max - f_mean)**2.0)/(2.0*f_stdev**2.0))/(2.0*pi)\n",
    "        f2 = (f_mean - f_max)/(f_stdev*2.0*sqrt(2.0*pi))\n",
    "        f3 = (f_max - f_mean)*erf((f_max - f_mean)/(sqrt(2.0)*f_stdev))/(2.0*sqrt(2.0*pi)*f_stdev)\n",
    "        f = f1 + f2 + f3\n",
    "        #print f\n",
    "        return f    \n",
    "    #just the negative of the expected improvement\n",
    "    def NegativeExpectedImprovement(self, x):\n",
    "        return -1.0*self.ExpectedImprovement(x)\n",
    "    #wrapper for the scipy l-bfgs-b optimizer\n",
    "    #perform some number of random initializations and take the best result    \n",
    "    def Optimize(self):\n",
    "        rand_starts = max(1, self.rand_starts_)\n",
    "        ei_x__best = (0.0, None)\n",
    "        for iteration in range(self.rand_starts_):\n",
    "            #generate a random initial guess\n",
    "            x0 = array([uniform(lower, upper) for lower, upper in self.ranges_])\n",
    "            #optimize the expected improvement over the valid ranges along each axis\n",
    "            result = minimize(self.NegativeExpectedImprovement, x0, \n",
    "                              method='L-BFGS-B', tol=self.tol_, bounds=self.ranges_, options={'disp': True})\n",
    "            ei_x = (self.ExpectedImprovement(result.x), result.x)\n",
    "            if ei_x[0] != ei_x__best[0]:\n",
    "                ei_x__best = max(ei_x, ei_x__best)\n",
    "            else:\n",
    "                ei_x__best = ei_x\n",
    "        return ei_x__best\n",
    "    #optimize the fitness and find a good suggested point to try next\n",
    "    def Suggest(self, num_suggestions = 1, method = 'kg'):      \n",
    "        #train model\n",
    "        self.X_virtual_ = []\n",
    "        self.y_virtual_ = []\n",
    "        self.gaussian_process_regressor_.fit(self.X_ + self.X_virtual_, self.y_ + self.y_virtual_)\n",
    "        #use either knowledge gradient or standard approach\n",
    "        f, x = self.Optimize()\n",
    "        return x.tolist()\n",
    "        \n",
    "        #for multipoint we must add virtual samples and repeat\n",
    "        #for i in range(num_suggestions - 1):\n",
    "        #    \n",
    "        #    x = Optimize(rand_starts=20)\n",
    "        "
   ]
  },
  {
   "cell_type": "code",
   "execution_count": null,
   "metadata": {
    "collapsed": true
   },
   "outputs": [],
   "source": []
  },
  {
   "cell_type": "code",
   "execution_count": 151,
   "metadata": {
    "collapsed": true
   },
   "outputs": [],
   "source": [
    "#this is the protocol for storing the bayesian optimizer object\n",
    "#from gaussian_process_regressor_ import GaussianProcessRegressor_\n",
    "import dill\n",
    "#from scipy.optimize import anneal\n",
    "from scipy.optimize import minimize\n",
    "from numpy import array\n",
    "from random import random\n",
    "from numpy import exp, pi, sqrt\n",
    "from scipy.special import erf\n",
    "import pathos.multiprocessing as mp\n",
    "#import scipy\n",
    "\n",
    "class BayesianOptimizer:\n",
    "    #if a previous bayesian optimzer was made it can be loaded\n",
    "    #else we do not do anything\n",
    "    def __init__(self, filename = None):\n",
    "        return None     \n",
    "    #establish the regressor        \n",
    "    def InitalizeRegressor(self, nu = 1.5):\n",
    "        self.gaussian_process_regressor_ = GaussianProcessRegressor_(nu = nu)\n",
    "        return None   \n",
    "    #set the various simulated annealing parameters    \n",
    "    def InitializeOptimizer(self, rand_starts=10000, tol=1e-20):\n",
    "        self.rand_starts_ = rand_starts\n",
    "        self.tol_ = tol\n",
    "        None\n",
    "    #sets the maximum fitness value based on either standard or knowledge gradient\n",
    "    def SetMaxFitness(self):\n",
    "        self.y_max_real_and_virtual_ = max(self.y_ + self.y_virtual_)\n",
    "        return None\n",
    "    #establish a library of initial samples to seed the model with\n",
    "    def InitialSamples(self, features, fitness):\n",
    "        self.X_ = features\n",
    "        self.y_ = fitness\n",
    "        self.X_virtual_ = []\n",
    "        self.y_virtual_ = []\n",
    "        self.SetMaxFitness()\n",
    "        return None\n",
    "    #adds samples - typically this is a result of doing new experiments\n",
    "    def AddSamples(self, features, fitness):\n",
    "        self.X_ = self.X_ + features\n",
    "        self.y_ = self.y_ + fitness\n",
    "        self.SetMaxFitness()\n",
    "        return None\n",
    "    #this controls the range of valid possible values for each axis\n",
    "    def SetRanges(self, ranges):\n",
    "        self.ranges_ = ranges\n",
    "        return None\n",
    "    #adds some virtual samples - this is relevant to multipoint optimization\n",
    "    def AddVirtualSamples(self, features, fitness):\n",
    "        self.X_virtual_ = self.X_virtual_ + features\n",
    "        self.y_virtual_ = self.y_virtual_ + fitness\n",
    "        self.SetMaxFitness()\n",
    "        return None\n",
    "    #the fitness landscape to optimize and find the best fitness\n",
    "    def ExpectedImprovement(self, x):\n",
    "        from numpy import array\n",
    "        from numpy import exp, pi, sqrt\n",
    "        from scipy.special import erf\n",
    "        f_mean, f_stdev  = self.gaussian_process_regressor_.predict(array([x]), return_std = True)\n",
    "        f_mean = f_mean[0]\n",
    "        f_stdev = f_stdev[0]\n",
    "        f_max = self.y_max_real_and_virtual_\n",
    "        f1 = exp(-((f_max - f_mean)**2.0)/(2.0*f_stdev**2.0))/(2.0*pi)\n",
    "        f2 = (f_mean - f_max)/(f_stdev*2.0*sqrt(2.0*pi))\n",
    "        f3 = (f_max - f_mean)*erf((f_max - f_mean)/(sqrt(2.0)*f_stdev))/(2.0*sqrt(2.0*pi)*f_stdev)\n",
    "        f = f1 + f2 + f3\n",
    "        #print f\n",
    "        return f    \n",
    "    #just the negative of the expected improvement\n",
    "    def NegativeExpectedImprovement(self, x):\n",
    "        return -1.0*self.ExpectedImprovement(x)\n",
    "    \n",
    "    \n",
    "    def Minimize_(self, x0):\n",
    "        result = minimize(self.NegativeExpectedImprovement, x0, \n",
    "                              method='L-BFGS-B', bounds=self.ranges_, options={'disp': True})\n",
    "        return result\n",
    "    #wrapper for the scipy l-bfgs-b optimizer\n",
    "    #perform some number of random initializations and take the best result        \n",
    "    def Optimize(self):\n",
    "        from scipy.optimize import minimize\n",
    "        from numpy import array\n",
    "        p = mp.ProcessingPool(2)\n",
    "        rand_starts = max(1, self.rand_starts_)\n",
    "        ei_x__best = (0.0, None)\n",
    "        x0s = [array([uniform(lower, upper) for lower, upper in self.ranges_]) for iteration in range(self.rand_starts_)]\n",
    "        minimize_ = lambda q: minimize(self.NegativeExpectedImprovement, q, \n",
    "                              method='L-BFGS-B', bounds=self.ranges_, options={'disp': True})\n",
    "        results = p.map(minimize_, x0s)\n",
    "        for result in results:\n",
    "            ei_x = (self.ExpectedImprovement(result.x), result.x)\n",
    "            try:\n",
    "                ei_x__best = max(ei_x, ei_x__best)\n",
    "            except:\n",
    "                None\n",
    "        return ei_x__best\n",
    "    #optimize the fitness and find a good suggested point to try next\n",
    "    def Suggest(self, num_suggestions = 1, method = 'kg'):      \n",
    "        #train model\n",
    "        self.X_virtual_ = []\n",
    "        self.y_virtual_ = []\n",
    "        self.gaussian_process_regressor_.fit(self.X_ + self.X_virtual_, self.y_ + self.y_virtual_)\n",
    "        #use either knowledge gradient or standard approach\n",
    "        f, x = self.Optimize()\n",
    "        return x.tolist()\n",
    "        \n",
    "        #for multipoint we must add virtual samples and repeat\n",
    "        #for i in range(num_suggestions - 1):\n",
    "        #    \n",
    "        #    x = Optimize(rand_starts=20)\n",
    "        "
   ]
  },
  {
   "cell_type": "code",
   "execution_count": null,
   "metadata": {
    "collapsed": true
   },
   "outputs": [],
   "source": []
  },
  {
   "cell_type": "code",
   "execution_count": 33,
   "metadata": {
    "collapsed": true
   },
   "outputs": [],
   "source": [
    "from random import uniform"
   ]
  },
  {
   "cell_type": "code",
   "execution_count": 34,
   "metadata": {
    "collapsed": true
   },
   "outputs": [],
   "source": [
    "def rosen(x):\n",
    "    \"\"\"The Rosenbrock function\"\"\"\n",
    "    return -1.0*sum(100.0*(x[1:]-x[:-1]**2.0)**2.0 + (1-x[:-1])**2.0)"
   ]
  },
  {
   "cell_type": "code",
   "execution_count": 35,
   "metadata": {
    "collapsed": true
   },
   "outputs": [],
   "source": [
    "ranges = [(-1.2,1.2), (-1.2,1.2), (-1.2,1.2), (-1.2,1.2)]"
   ]
  },
  {
   "cell_type": "code",
   "execution_count": 36,
   "metadata": {
    "collapsed": false
   },
   "outputs": [],
   "source": [
    "features = []\n",
    "fitness = []\n",
    "for i in range(20):\n",
    "    x_rand = array([uniform(lower, upper) for lower, upper in ranges])\n",
    "    features.append(x_rand.tolist())\n",
    "    fitness.append(rosen(x_rand))"
   ]
  },
  {
   "cell_type": "code",
   "execution_count": null,
   "metadata": {
    "collapsed": true
   },
   "outputs": [],
   "source": []
  },
  {
   "cell_type": "code",
   "execution_count": null,
   "metadata": {
    "collapsed": true
   },
   "outputs": [],
   "source": []
  },
  {
   "cell_type": "code",
   "execution_count": null,
   "metadata": {
    "collapsed": true
   },
   "outputs": [],
   "source": []
  },
  {
   "cell_type": "code",
   "execution_count": 155,
   "metadata": {
    "collapsed": true
   },
   "outputs": [],
   "source": [
    "bayesian_optimizer = BayesianOptimizer()"
   ]
  },
  {
   "cell_type": "code",
   "execution_count": 156,
   "metadata": {
    "collapsed": false
   },
   "outputs": [],
   "source": [
    "bayesian_optimizer.InitalizeRegressor()\n",
    "bayesian_optimizer.InitializeOptimizer(rand_starts = 100, tol=1e-5)"
   ]
  },
  {
   "cell_type": "code",
   "execution_count": 157,
   "metadata": {
    "collapsed": false
   },
   "outputs": [],
   "source": [
    "bayesian_optimizer.InitialSamples(features, fitness)"
   ]
  },
  {
   "cell_type": "code",
   "execution_count": 158,
   "metadata": {
    "collapsed": true
   },
   "outputs": [],
   "source": [
    "def rosen(x):\n",
    "    \"\"\"The Rosenbrock function\"\"\"\n",
    "    return -1.0*sum(100.0*(x[1:]-x[:-1]**2.0)**2.0 + (1-x[:-1])**2.0)"
   ]
  },
  {
   "cell_type": "code",
   "execution_count": 159,
   "metadata": {
    "collapsed": true
   },
   "outputs": [],
   "source": [
    "ranges = [(-3,3), (-3,3), (-3,3), (-3,3)]\n",
    "ranges = [(0.5,1.5), (0.5,1.5), (0.5,1.5), (0.5,1.5)]"
   ]
  },
  {
   "cell_type": "code",
   "execution_count": 94,
   "metadata": {
    "collapsed": false
   },
   "outputs": [],
   "source": [
    "features = []\n",
    "fitness = []\n",
    "for i in range(20):\n",
    "    x_rand = array([uniform(lower, upper) for lower, upper in ranges])\n",
    "    features.append(x_rand.tolist())\n",
    "    fitness.append(rosen(x_rand))"
   ]
  },
  {
   "cell_type": "code",
   "execution_count": 95,
   "metadata": {
    "collapsed": false
   },
   "outputs": [
    {
     "data": {
      "text/plain": [
       "[-2.9158679973101065,\n",
       " -405.09354154545906,\n",
       " -176.87747193066508,\n",
       " -132.08779865575417,\n",
       " -41.663847691071318,\n",
       " -102.21477949174168,\n",
       " -53.376407928191497,\n",
       " -246.10047446236496,\n",
       " -248.49110038697455,\n",
       " -33.372852745319733,\n",
       " -373.26449696252598,\n",
       " -108.52379957404094,\n",
       " -22.583267346681772,\n",
       " -31.203588359631564,\n",
       " -262.85564712964003,\n",
       " -46.963031405948669,\n",
       " -59.140998948280185,\n",
       " -119.22311288406789,\n",
       " -27.637184802696545,\n",
       " -75.092445147766014]"
      ]
     },
     "execution_count": 95,
     "metadata": {},
     "output_type": "execute_result"
    }
   ],
   "source": [
    "fitness"
   ]
  },
  {
   "cell_type": "code",
   "execution_count": 64,
   "metadata": {
    "collapsed": false
   },
   "outputs": [],
   "source": [
    "bayesian_optimizer.InitialSamples(features, fitness)"
   ]
  },
  {
   "cell_type": "code",
   "execution_count": 65,
   "metadata": {
    "collapsed": true
   },
   "outputs": [],
   "source": [
    "bayesian_optimizer.SetRanges(ranges)"
   ]
  },
  {
   "cell_type": "code",
   "execution_count": 66,
   "metadata": {
    "collapsed": false
   },
   "outputs": [
    {
     "name": "stdout",
     "output_type": "stream",
     "text": [
      "0\n"
     ]
    },
    {
     "name": "stderr",
     "output_type": "stream",
     "text": [
      "C:\\Users\\rbj428\\AppData\\Local\\Continuum\\Anaconda2_3\\lib\\site-packages\\ipykernel\\__main__.py:83: FutureWarning: comparison to `None` will result in an elementwise object comparison in the future.\n"
     ]
    },
    {
     "data": {
      "text/plain": [
       "[1.0328136676628734, 1.0661435986679049, 1.1351630443366159, 1.210582393381338]"
      ]
     },
     "execution_count": 66,
     "metadata": {},
     "output_type": "execute_result"
    }
   ],
   "source": [
    "bayesian_optimizer.Suggest()"
   ]
  },
  {
   "cell_type": "code",
   "execution_count": 67,
   "metadata": {
    "collapsed": false
   },
   "outputs": [
    {
     "name": "stdout",
     "output_type": "stream",
     "text": [
      "0\n"
     ]
    },
    {
     "name": "stderr",
     "output_type": "stream",
     "text": [
      "C:\\Users\\rbj428\\AppData\\Local\\Continuum\\Anaconda2_3\\lib\\site-packages\\ipykernel\\__main__.py:83: FutureWarning: comparison to `None` will result in an elementwise object comparison in the future.\n"
     ]
    },
    {
     "data": {
      "text/plain": [
       "[1.0329008260431334, 1.0659563471185693, 1.1357148022031975, 1.207764674191187]"
      ]
     },
     "execution_count": 67,
     "metadata": {},
     "output_type": "execute_result"
    }
   ],
   "source": [
    "bayesian_optimizer.Suggest()"
   ]
  },
  {
   "cell_type": "code",
   "execution_count": null,
   "metadata": {
    "collapsed": true
   },
   "outputs": [],
   "source": []
  },
  {
   "cell_type": "code",
   "execution_count": null,
   "metadata": {
    "collapsed": true
   },
   "outputs": [],
   "source": []
  },
  {
   "cell_type": "code",
   "execution_count": null,
   "metadata": {
    "collapsed": true
   },
   "outputs": [],
   "source": []
  },
  {
   "cell_type": "code",
   "execution_count": 353,
   "metadata": {
    "collapsed": false
   },
   "outputs": [
    {
     "name": "stdout",
     "output_type": "stream",
     "text": [
      "0\n",
      "100\n",
      "200\n",
      "300\n",
      "400\n",
      "500\n",
      "600\n",
      "700\n",
      "800\n",
      "900\n"
     ]
    },
    {
     "data": {
      "text/plain": [
       "[0.21263814533992242,\n",
       " 1.4324832371853715,\n",
       " -0.3825618979108294,\n",
       " -2.943100426444561]"
      ]
     },
     "execution_count": 353,
     "metadata": {},
     "output_type": "execute_result"
    }
   ],
   "source": [
    "bayesian_optimizer.Suggest()"
   ]
  },
  {
   "cell_type": "code",
   "execution_count": null,
   "metadata": {
    "collapsed": true
   },
   "outputs": [],
   "source": []
  },
  {
   "cell_type": "code",
   "execution_count": null,
   "metadata": {
    "collapsed": true
   },
   "outputs": [],
   "source": []
  },
  {
   "cell_type": "code",
   "execution_count": null,
   "metadata": {
    "collapsed": true
   },
   "outputs": [],
   "source": []
  },
  {
   "cell_type": "code",
   "execution_count": null,
   "metadata": {
    "collapsed": true
   },
   "outputs": [],
   "source": [
    "def rosen(x):\n",
    "    \"\"\"The Rosenbrock function\"\"\"\n",
    "    return -1.0*sum(100.0*(x[1:]-x[:-1]**2.0)**2.0 + (1-x[:-1])**2.0)"
   ]
  },
  {
   "cell_type": "code",
   "execution_count": null,
   "metadata": {
    "collapsed": true
   },
   "outputs": [],
   "source": [
    "ranges = [(0.5,1.5), (0.5,1.5), (0.5,1.5), (0.5,1.5)]\n",
    "features = []\n",
    "fitness = []\n",
    "for i in range(20):\n",
    "    x_rand = array([uniform(lower, upper) for lower, upper in ranges])\n",
    "    features.append(x_rand.tolist())\n",
    "    fitness.append(rosen(x_rand))"
   ]
  },
  {
   "cell_type": "code",
   "execution_count": 192,
   "metadata": {
    "collapsed": true
   },
   "outputs": [],
   "source": [
    "bayesian_optimizer = BayesianOptimizer()\n",
    "bayesian_optimizer.InitalizeRegressor()\n",
    "bayesian_optimizer.InitializeOptimizer(rand_starts = 50, tol=1e-5)"
   ]
  },
  {
   "cell_type": "code",
   "execution_count": 195,
   "metadata": {
    "collapsed": false
   },
   "outputs": [
    {
     "name": "stdout",
     "output_type": "stream",
     "text": [
      "iteration 0\n",
      "iteration 1\n",
      "iteration 2\n",
      "iteration 3\n",
      "iteration 4\n",
      "iteration 5\n",
      "iteration 6\n",
      "iteration 7\n",
      "iteration 8\n",
      "iteration 9\n",
      "iteration 10\n",
      "iteration 11\n",
      "iteration 12\n",
      "iteration 13\n",
      "iteration 14\n",
      "iteration 15\n",
      "iteration 16\n",
      "iteration 17\n",
      "iteration 18\n",
      "iteration 19\n",
      "iteration 20\n",
      "iteration 21\n",
      "iteration 22\n",
      "iteration 23\n",
      "iteration 24\n",
      "iteration 25\n",
      "iteration 26\n",
      "iteration 27\n",
      "iteration 28\n",
      "iteration 29\n",
      "82.099714516\n"
     ]
    }
   ],
   "source": [
    "bayesian_optimizer.InitialSamples(features, fitness)\n",
    "bayesian_optimizer.SetRanges(ranges)\n",
    "xs = []\n",
    "ys = []\n",
    "start_time = timeit.default_timer()\n",
    "for i in range(30):\n",
    "    print 'iteration %i' % i\n",
    "    x_new = bayesian_optimizer.Suggest()\n",
    "    y_new = rosen(array(x_new))\n",
    "    xs.append(x_new)\n",
    "    ys.append(y_new)\n",
    "    bayesian_optimizer.AddSamples([x_new], [y_new])\n",
    "elapsed = timeit.default_timer() - start_time\n",
    "print elapsed"
   ]
  },
  {
   "cell_type": "code",
   "execution_count": 194,
   "metadata": {
    "collapsed": false
   },
   "outputs": [
    {
     "data": {
      "text/plain": [
       "[-0.97412586483487407,\n",
       " -1.1617567133221414,\n",
       " -2.0402741460216887,\n",
       " -0.94737208422844277,\n",
       " -1.0160048961196888,\n",
       " -2.1444777541949547,\n",
       " -11.870687109830396,\n",
       " -2.28594618452024,\n",
       " -1.1780902341620663,\n",
       " -2.0140915244806137,\n",
       " -2.1154318557925329,\n",
       " -1.1475572460862229,\n",
       " -1.4254802655134409,\n",
       " -0.91559733448718439,\n",
       " -12.206294599527551,\n",
       " -0.96843771393635203,\n",
       " -1.158992627010927,\n",
       " -0.91317583102853395,\n",
       " -2.1689332504226,\n",
       " -8.3226027279139316,\n",
       " -0.99123828192265773,\n",
       " -0.92690233752421047,\n",
       " -1.6192679260779135,\n",
       " -0.93340560675377948,\n",
       " -3.0528452441386147,\n",
       " -1.0709224918647269,\n",
       " -0.98269381828860292,\n",
       " -2.979254954520564,\n",
       " -1.1635390016245482,\n",
       " -10.398620147457272]"
      ]
     },
     "execution_count": 194,
     "metadata": {},
     "output_type": "execute_result"
    }
   ],
   "source": [
    "ys"
   ]
  },
  {
   "cell_type": "code",
   "execution_count": 196,
   "metadata": {
    "collapsed": false
   },
   "outputs": [
    {
     "data": {
      "text/plain": [
       "[-2.9219635149796517,\n",
       " -6.349551394265136,\n",
       " -4.6354396447215294,\n",
       " -2.0524680001741746,\n",
       " -19.35207032885782,\n",
       " -1.6910402168825045,\n",
       " -1.3993413223115341,\n",
       " -1.2153547610681636,\n",
       " -1.1093424084284649,\n",
       " -1.0470096932019426,\n",
       " -0.97976011569888377,\n",
       " -0.9089691700206769,\n",
       " -0.84732474575071026,\n",
       " -0.81263529734007078,\n",
       " -0.84635335773580789,\n",
       " -0.77119014099202365,\n",
       " -0.7252757917046404,\n",
       " -0.66827598091659102,\n",
       " -0.57964750271366927,\n",
       " -0.47108446862746639,\n",
       " -0.38322353358714167,\n",
       " -0.34352868596830499,\n",
       " -0.33722357500415906,\n",
       " -0.33922169550719911,\n",
       " -0.33955607656291315,\n",
       " -0.33956583946531538,\n",
       " -0.33753498015505023,\n",
       " -0.33940329432046268,\n",
       " -0.33639939662220314,\n",
       " -0.339442749182429]"
      ]
     },
     "execution_count": 196,
     "metadata": {},
     "output_type": "execute_result"
    }
   ],
   "source": [
    "ys"
   ]
  },
  {
   "cell_type": "code",
   "execution_count": 178,
   "metadata": {
    "collapsed": false
   },
   "outputs": [
    {
     "data": {
      "text/plain": [
       "-29.485683241212509"
      ]
     },
     "execution_count": 178,
     "metadata": {},
     "output_type": "execute_result"
    }
   ],
   "source": [
    "max(fitness)"
   ]
  },
  {
   "cell_type": "code",
   "execution_count": 188,
   "metadata": {
    "collapsed": false
   },
   "outputs": [
    {
     "data": {
      "text/plain": [
       "[-1.6083908786652357,\n",
       " -8.1138135095277697,\n",
       " -1.0080787765535961,\n",
       " -12.676456084310898,\n",
       " -1.2139096063411134,\n",
       " -1.1151256110182823,\n",
       " -1.1854025257066576,\n",
       " -0.90277628027896661,\n",
       " -0.80423418596446261,\n",
       " -0.72693478385668764,\n",
       " -0.69073338561955622,\n",
       " -0.70583857523994276,\n",
       " -0.756643378683581,\n",
       " -0.66123714173282333,\n",
       " -0.60134417394235573,\n",
       " -0.50854257788608037,\n",
       " -0.46624722637449123,\n",
       " -0.4836355147349376,\n",
       " -0.45473310940065087,\n",
       " -0.57256976484278699,\n",
       " -0.50138223886934552,\n",
       " -0.51884028223605161,\n",
       " -0.35476792609533825,\n",
       " -0.45857083292988687,\n",
       " -0.71138880208979804,\n",
       " -2.6680289711555365,\n",
       " -0.8090432187818688,\n",
       " -0.32631234754516386,\n",
       " -0.77825194503468453,\n",
       " -0.32422075071326334]"
      ]
     },
     "execution_count": 188,
     "metadata": {},
     "output_type": "execute_result"
    }
   ],
   "source": [
    "ys"
   ]
  },
  {
   "cell_type": "code",
   "execution_count": null,
   "metadata": {
    "collapsed": true
   },
   "outputs": [],
   "source": []
  },
  {
   "cell_type": "code",
   "execution_count": null,
   "metadata": {
    "collapsed": true
   },
   "outputs": [],
   "source": []
  },
  {
   "cell_type": "code",
   "execution_count": null,
   "metadata": {
    "collapsed": true
   },
   "outputs": [],
   "source": []
  },
  {
   "cell_type": "code",
   "execution_count": 146,
   "metadata": {
    "collapsed": true
   },
   "outputs": [],
   "source": [
    "import timeit"
   ]
  },
  {
   "cell_type": "code",
   "execution_count": 162,
   "metadata": {
    "collapsed": false
   },
   "outputs": [
    {
     "name": "stdout",
     "output_type": "stream",
     "text": [
      "iteration 0\n",
      "0\n",
      "100\n",
      "200\n",
      "300\n",
      "400\n",
      "500\n",
      "600\n",
      "700\n",
      "800\n",
      "900\n",
      "iteration 1\n",
      "0\n",
      "100\n",
      "200\n",
      "300\n",
      "400\n",
      "500\n",
      "600\n",
      "700\n",
      "800\n",
      "900\n",
      "58.5018798046\n"
     ]
    }
   ],
   "source": [
    "bayesian_optimizer.InitialSamples(features, fitness)\n",
    "bayesian_optimizer.SetRanges(ranges)\n",
    "xs = []\n",
    "ys = []\n",
    "start_time = timeit.default_timer()\n",
    "for i in range(2):\n",
    "    print 'iteration %i' % i\n",
    "    x_new = bayesian_optimizer.Suggest()\n",
    "    y_new = rosen(array(x_new))\n",
    "    xs.append(x_new)\n",
    "    ys.append(y_new)\n",
    "    bayesian_optimizer.AddSamples([x_new], [y_new])\n",
    "elapsed = timeit.default_timer() - start_time\n",
    "print elapsed"
   ]
  },
  {
   "cell_type": "code",
   "execution_count": 150,
   "metadata": {
    "collapsed": false
   },
   "outputs": [
    {
     "name": "stdout",
     "output_type": "stream",
     "text": [
      "iteration 0\n",
      "iteration 1\n",
      "98.2092614918\n"
     ]
    }
   ],
   "source": [
    "bayesian_optimizer.InitialSamples(features, fitness)\n",
    "bayesian_optimizer.SetRanges(ranges)\n",
    "xs = []\n",
    "ys = []\n",
    "start_time = timeit.default_timer()\n",
    "for i in range(2):\n",
    "    print 'iteration %i' % i\n",
    "    x_new = bayesian_optimizer.Suggest()\n",
    "    y_new = rosen(array(x_new))\n",
    "    xs.append(x_new)\n",
    "    ys.append(y_new)\n",
    "    bayesian_optimizer.AddSamples([x_new], [y_new])\n",
    "elapsed = timeit.default_timer() - start_time\n",
    "print elapsed"
   ]
  },
  {
   "cell_type": "code",
   "execution_count": 153,
   "metadata": {
    "collapsed": false
   },
   "outputs": [
    {
     "name": "stdout",
     "output_type": "stream",
     "text": [
      "iteration 0\n",
      "iteration 1\n",
      "89.5332763313\n"
     ]
    }
   ],
   "source": [
    "bayesian_optimizer.InitialSamples(features, fitness)\n",
    "bayesian_optimizer.SetRanges(ranges)\n",
    "xs = []\n",
    "ys = []\n",
    "start_time = timeit.default_timer()\n",
    "for i in range(2):\n",
    "    print 'iteration %i' % i\n",
    "    x_new = bayesian_optimizer.Suggest()\n",
    "    y_new = rosen(array(x_new))\n",
    "    xs.append(x_new)\n",
    "    ys.append(y_new)\n",
    "    bayesian_optimizer.AddSamples([x_new], [y_new])\n",
    "elapsed = timeit.default_timer() - start_time\n",
    "print elapsed"
   ]
  },
  {
   "cell_type": "code",
   "execution_count": 107,
   "metadata": {
    "collapsed": false
   },
   "outputs": [
    {
     "data": {
      "text/plain": [
       "[-2.4139698697553706,\n",
       " -2.7183738179399528,\n",
       " -4.1915549096068343,\n",
       " -1.5070386349609499,\n",
       " -3.686148217241231,\n",
       " -128.9981894121795,\n",
       " -0.98910660410109996,\n",
       " -0.69782958416594765,\n",
       " -0.6129857957606325,\n",
       " -0.6450511636618399,\n",
       " -0.5549724762644217,\n",
       " -0.49680064107290328,\n",
       " -0.49422405613349268,\n",
       " -0.50193302175962373,\n",
       " -0.4877607144700703,\n",
       " -0.45749341312611586,\n",
       " -0.35822169765243028,\n",
       " -0.26677099814555638,\n",
       " -0.2167260400984678,\n",
       " -0.19442497651580026,\n",
       " -0.18505052869507754,\n",
       " -0.18264075938024923,\n",
       " -1.1024884450958856,\n",
       " -0.17455004265482177,\n",
       " -0.17522627453830708,\n",
       " -0.17413990224668996,\n",
       " -0.17327388502196162,\n",
       " -0.17535776267643005,\n",
       " -0.17481111074476513,\n",
       " -0.17432689000537466]"
      ]
     },
     "execution_count": 107,
     "metadata": {},
     "output_type": "execute_result"
    }
   ],
   "source": [
    "ys"
   ]
  },
  {
   "cell_type": "code",
   "execution_count": 108,
   "metadata": {
    "collapsed": false
   },
   "outputs": [
    {
     "data": {
      "text/plain": [
       "[-2.9158679973101065,\n",
       " -405.09354154545906,\n",
       " -176.87747193066508,\n",
       " -132.08779865575417,\n",
       " -41.663847691071318,\n",
       " -102.21477949174168,\n",
       " -53.376407928191497,\n",
       " -246.10047446236496,\n",
       " -248.49110038697455,\n",
       " -33.372852745319733,\n",
       " -373.26449696252598,\n",
       " -108.52379957404094,\n",
       " -22.583267346681772,\n",
       " -31.203588359631564,\n",
       " -262.85564712964003,\n",
       " -46.963031405948669,\n",
       " -59.140998948280185,\n",
       " -119.22311288406789,\n",
       " -27.637184802696545,\n",
       " -75.092445147766014]"
      ]
     },
     "execution_count": 108,
     "metadata": {},
     "output_type": "execute_result"
    }
   ],
   "source": [
    "fitness"
   ]
  },
  {
   "cell_type": "code",
   "execution_count": 23,
   "metadata": {
    "collapsed": false
   },
   "outputs": [
    {
     "name": "stdout",
     "output_type": "stream",
     "text": [
      "iteration 0\n",
      "0\n",
      "iteration 1\n",
      "0\n",
      "iteration 2\n",
      "0\n",
      "iteration 3\n",
      "0\n",
      "iteration 4\n",
      "0\n",
      "iteration 5\n",
      "0\n",
      "iteration 6\n",
      "0\n",
      "iteration 7\n",
      "0\n",
      "iteration 8\n",
      "0\n",
      "iteration 9\n",
      "0\n",
      "iteration 10\n",
      "0\n"
     ]
    },
    {
     "name": "stderr",
     "output_type": "stream",
     "text": [
      "C:\\Users\\rbj428\\AppData\\Local\\Continuum\\Anaconda2_3\\lib\\site-packages\\ipykernel\\__main__.py:83: FutureWarning: comparison to `None` will result in an elementwise object comparison in the future.\n"
     ]
    },
    {
     "name": "stdout",
     "output_type": "stream",
     "text": [
      "iteration 11\n",
      "0\n",
      "iteration 12\n",
      "0\n",
      "iteration 13\n",
      "0\n",
      "iteration 14\n",
      "0\n",
      "iteration 15\n",
      "0\n",
      "iteration 16\n",
      "0\n",
      "iteration 17\n",
      "0\n",
      "iteration 18\n",
      "0\n",
      "iteration 19\n",
      "0\n",
      "iteration 20\n",
      "0\n",
      "iteration 21\n",
      "0\n",
      "iteration 22\n",
      "0\n",
      "iteration 23\n",
      "0\n",
      "iteration 24\n",
      "0\n",
      "iteration 25\n",
      "0\n",
      "iteration 26\n",
      "0\n",
      "iteration 27\n",
      "0\n",
      "iteration 28\n",
      "0\n",
      "iteration 29\n",
      "0\n",
      "iteration 30\n",
      "0\n",
      "iteration 31\n",
      "0\n",
      "iteration 32\n",
      "0\n",
      "iteration 33\n",
      "0\n",
      "iteration 34\n",
      "0\n",
      "iteration 35\n",
      "0\n",
      "iteration 36\n",
      "0\n",
      "iteration 37\n",
      "0\n",
      "iteration 38\n",
      "0\n",
      "iteration 39\n",
      "0\n",
      "iteration 40\n",
      "0\n",
      "iteration 41\n",
      "0\n",
      "iteration 42\n",
      "0\n",
      "iteration 43\n",
      "0\n",
      "iteration 44\n",
      "0\n",
      "iteration 45\n",
      "0\n",
      "iteration 46\n",
      "0\n",
      "iteration 47\n",
      "0\n",
      "iteration 48\n",
      "0\n",
      "iteration 49\n",
      "0\n",
      "iteration 50\n",
      "0\n",
      "iteration 51\n",
      "0\n",
      "iteration 52\n",
      "0\n",
      "iteration 53\n",
      "0\n",
      "iteration 54\n",
      "0\n",
      "iteration 55\n",
      "0\n",
      "iteration 56\n",
      "0\n",
      "iteration 57\n",
      "0\n",
      "iteration 58\n",
      "0\n",
      "iteration 59\n",
      "0\n"
     ]
    }
   ],
   "source": [
    "bayesian_optimizer.InitialSamples(features, fitness)\n",
    "ranges = [(-3,3), (-3,3), (-3,3), (-3,3)]\n",
    "bayesian_optimizer.SetRanges(ranges)\n",
    "xs = []\n",
    "ys = []\n",
    "for i in range(60):\n",
    "    print 'iteration %i' % i\n",
    "    x_new = bayesian_optimizer.Suggest()\n",
    "    y_new = rosen(array(x_new))\n",
    "    xs.append(x_new)\n",
    "    ys.append(y_new)\n",
    "    bayesian_optimizer.AddSamples([x_new], [y_new])\n",
    "    "
   ]
  },
  {
   "cell_type": "code",
   "execution_count": 24,
   "metadata": {
    "collapsed": false
   },
   "outputs": [
    {
     "data": {
      "text/plain": [
       "[-304.39007831532189,\n",
       " -469.10196213697543,\n",
       " -209.8365429316288,\n",
       " -489.59400940037898,\n",
       " -82.935374986250594,\n",
       " -58.127665884707618,\n",
       " -53.88587076278462,\n",
       " -48.447066968979748,\n",
       " -44.164713459141467,\n",
       " -251.39595899441636,\n",
       " -40.522825094375392,\n",
       " -37.84423185601058,\n",
       " -36.64828561594863,\n",
       " -36.543412211227199,\n",
       " -36.735974047688707,\n",
       " -35.973050418609475,\n",
       " -34.261709042540858,\n",
       " -32.478573778850418,\n",
       " -30.776573367034267,\n",
       " -29.239381751157929,\n",
       " -28.292760571163072,\n",
       " -28.122683968118707,\n",
       " -28.245467919039029,\n",
       " -27.977827695738913,\n",
       " -27.933140471175676,\n",
       " -27.955676144574387,\n",
       " -28.039975930959216,\n",
       " -27.856535820102,\n",
       " -28.501916659398191,\n",
       " -27.145761670697087,\n",
       " -26.547207834407235,\n",
       " -26.495099441235705,\n",
       " -26.882614378588478,\n",
       " -25.166211090240456,\n",
       " -22.784114773346978,\n",
       " -20.968069177632561,\n",
       " -19.585153817299627,\n",
       " -18.935058393643011,\n",
       " -18.894855074051534,\n",
       " -65.980975263068316,\n",
       " -185.87559295519947,\n",
       " -18.596024870272707,\n",
       " -18.858348077644411,\n",
       " -17.833716804242716,\n",
       " -16.807779616888769,\n",
       " -16.357352402002533,\n",
       " -16.35176739368951,\n",
       " -16.377207057273509,\n",
       " -16.297781751494867,\n",
       " -19.314128932519932,\n",
       " -79.791061357161908,\n",
       " -31.11538477686301,\n",
       " -32.460864169051597,\n",
       " -15.751744861902717,\n",
       " -22.944257373383437,\n",
       " -16.037539521661341,\n",
       " -16.529531407305285,\n",
       " -13.85313242536413,\n",
       " -62.765538336341876,\n",
       " -12.679913999554167]"
      ]
     },
     "execution_count": 24,
     "metadata": {},
     "output_type": "execute_result"
    }
   ],
   "source": [
    "ys"
   ]
  },
  {
   "cell_type": "code",
   "execution_count": 523,
   "metadata": {
    "collapsed": false
   },
   "outputs": [
    {
     "data": {
      "text/plain": [
       "[[0.8326930444563336,\n",
       "  0.28804476048531086,\n",
       "  1.0574907567062508,\n",
       "  -0.018285997713875093],\n",
       " [0.8716733693058609,\n",
       "  0.30110352815475,\n",
       "  1.0595335148465623,\n",
       "  0.0038769146390718445],\n",
       " [-0.26302539857205337,\n",
       "  0.25923235653249305,\n",
       "  1.0576408734076457,\n",
       "  0.02652052919665926],\n",
       " [-2.0956113746357516,\n",
       "  0.1650526687093348,\n",
       "  1.0539634994828606,\n",
       "  0.09235500462660617],\n",
       " [-0.1068679970390355,\n",
       "  0.28818271328419404,\n",
       "  1.0585974415942176,\n",
       "  0.020415387341477687],\n",
       " [1.684746919977236,\n",
       "  1.2716109379798395,\n",
       "  0.6785613781448621,\n",
       "  -1.4668685126554173],\n",
       " [-0.11905987500258527,\n",
       "  0.2443333086466741,\n",
       "  1.0604785581131475,\n",
       "  0.03273533602776593],\n",
       " [-0.10088617019774099,\n",
       "  0.44290588069557746,\n",
       "  1.0550725127128584,\n",
       "  0.008495340657700808],\n",
       " [0.47855253035720724,\n",
       "  -1.2679359076776868,\n",
       "  1.0298956776586528,\n",
       "  0.021770515555093503],\n",
       " [-0.09748462286221145,\n",
       "  1.8470392713031536,\n",
       "  1.058891348901641,\n",
       "  -0.014996808665569017],\n",
       " [0.3711563328197094,\n",
       "  0.07043997380332667,\n",
       "  1.0264595983394302,\n",
       "  0.010486447071282115],\n",
       " [-0.06264118608262313,\n",
       "  0.30421116968865247,\n",
       "  1.0439397186225237,\n",
       "  -0.014504573430698138],\n",
       " [0.5628586835325572,\n",
       "  -0.02137381008167002,\n",
       "  1.0299715040428925,\n",
       "  0.05892761240991065],\n",
       " [0.39659911825280736,\n",
       "  0.11888598703597968,\n",
       "  1.0343386803286865,\n",
       "  0.0070488813661458895],\n",
       " [0.6227300426277985,\n",
       "  -0.09768820235666695,\n",
       "  1.0113532772486056,\n",
       "  0.019498096017304317],\n",
       " [0.3438524776713486,\n",
       "  0.07953592228069511,\n",
       "  1.0351746449986425,\n",
       "  0.05560115436120884],\n",
       " [0.31942080598610506,\n",
       "  0.10290539795350265,\n",
       "  1.0378734837161012,\n",
       "  0.09123889993981066],\n",
       " [0.31618377654979835,\n",
       "  0.1300248265613996,\n",
       "  1.0387815820469,\n",
       "  0.13181791151461017],\n",
       " [0.33826467785239783,\n",
       "  0.14707108283874473,\n",
       "  1.0385802021077297,\n",
       "  0.18146214389691248],\n",
       " [0.4013482998891839,\n",
       "  0.13366409395787168,\n",
       "  1.0375626892048497,\n",
       "  0.2392031983008729],\n",
       " [0.49382854081222954,\n",
       "  0.08638329745941604,\n",
       "  1.0369731317712443,\n",
       "  0.2996456625189982],\n",
       " [0.5664281203988487,\n",
       "  0.015393316322548754,\n",
       "  1.036281200212249,\n",
       "  0.3480319184417462],\n",
       " [0.5092567185327125,\n",
       "  0.06839277108690855,\n",
       "  1.0389030629835854,\n",
       "  0.327197296684671],\n",
       " [0.5321412291456791,\n",
       "  0.04399501743606426,\n",
       "  1.0433466896519268,\n",
       "  0.35133773502319837],\n",
       " [0.5622123228110049,\n",
       "  0.10075743279862283,\n",
       "  1.0395261587192839,\n",
       "  0.34754813104440035],\n",
       " [0.6024501493645074,\n",
       "  0.1777313554279775,\n",
       "  1.0386960055320773,\n",
       "  0.349136255703715],\n",
       " [0.7001932392034311,\n",
       "  0.21288396945821522,\n",
       "  1.036554208292454,\n",
       "  0.36157364566378875],\n",
       " [0.7514799329649353,\n",
       "  0.2062428552876299,\n",
       "  1.0341964816626315,\n",
       "  0.37160611477373795],\n",
       " [0.714663161107949,\n",
       "  0.22114002919422127,\n",
       "  1.040131907628028,\n",
       "  0.3460114786683888],\n",
       " [0.6518069688246914,\n",
       "  0.20015727750829565,\n",
       "  1.0239688659497281,\n",
       "  0.3422714606498381]]"
      ]
     },
     "execution_count": 523,
     "metadata": {},
     "output_type": "execute_result"
    }
   ],
   "source": [
    "xs"
   ]
  },
  {
   "cell_type": "code",
   "execution_count": 408,
   "metadata": {
    "collapsed": false
   },
   "outputs": [
    {
     "data": {
      "text/plain": [
       "-0.4176180000000011"
      ]
     },
     "execution_count": 408,
     "metadata": {},
     "output_type": "execute_result"
    }
   ],
   "source": [
    "rosen(array([0.98,1.01,1.01,0.98]))"
   ]
  },
  {
   "cell_type": "code",
   "execution_count": 436,
   "metadata": {
    "collapsed": false
   },
   "outputs": [],
   "source": [
    "import pathos.multiprocessing as mp"
   ]
  },
  {
   "cell_type": "code",
   "execution_count": 32,
   "metadata": {
    "collapsed": false
   },
   "outputs": [
    {
     "data": {
      "text/plain": [
       "(-0.8856658834479298,\n",
       " 0.7794761429062657,\n",
       " -1.0753451740209397,\n",
       " -0.6699516428775749,\n",
       " 0.5220336657592312,\n",
       " 0.16722006293693353,\n",
       " 0.14579379375695053,\n",
       " 0.11719411989555382,\n",
       " 0.09064355023544096,\n",
       " 1.2585596589101635,\n",
       " 0.06692481579103074,\n",
       " 0.043324635053183895,\n",
       " 0.021413812973911213,\n",
       " 0.0033767123114945333,\n",
       " 0.005095967608958329,\n",
       " -0.0035189676682394985,\n",
       " -0.030262680635309114,\n",
       " -0.056320763546144736,\n",
       " -0.08049092356348628,\n",
       " -0.10488225772430645,\n",
       " -0.1273837563889018,\n",
       " -0.14916247593479987,\n",
       " -0.1553282003138263,\n",
       " -0.14005315283867195,\n",
       " -0.12846356533213216,\n",
       " -0.12640904109707274,\n",
       " -0.13206819661291513,\n",
       " -0.1210462182610965,\n",
       " -0.12395464963211089,\n",
       " -0.1266391988351735,\n",
       " -0.11775939617268753,\n",
       " -0.11118249716670756,\n",
       " -0.12433217058098159,\n",
       " -0.10155735405620687,\n",
       " -0.07898850103230913,\n",
       " -0.0613029675343736,\n",
       " -0.04127708759351171,\n",
       " -0.014496359744930621,\n",
       " 0.007625341124839893,\n",
       " 0.5234549835681406,\n",
       " 0.8918135052984955,\n",
       " -0.002358613753894017,\n",
       " -0.00226874102109235,\n",
       " -0.01293299916360551,\n",
       " -0.03246399353604557,\n",
       " -0.05317119485468679,\n",
       " -0.06996549443891978,\n",
       " -0.10693311444541091,\n",
       " -0.08346326604165968,\n",
       " -0.21591781112708694,\n",
       " -0.5372029566213333,\n",
       " -0.46123731587191985,\n",
       " -0.43087308502275073,\n",
       " -0.07857898302923087,\n",
       " -0.1101090102882506,\n",
       " -0.05912343783711263,\n",
       " -0.060339681299060345,\n",
       " -0.11043550295105019,\n",
       " -0.4923097757580759,\n",
       " -0.11528317931220172)"
      ]
     },
     "execution_count": 32,
     "metadata": {},
     "output_type": "execute_result"
    }
   ],
   "source": [
    "zip(*xs)[1]"
   ]
  },
  {
   "cell_type": "code",
   "execution_count": 253,
   "metadata": {
    "collapsed": false
   },
   "outputs": [
    {
     "data": {
      "text/plain": [
       "[[3, 4, 5]]"
      ]
     },
     "execution_count": 253,
     "metadata": {},
     "output_type": "execute_result"
    }
   ],
   "source": [
    "array([array([3,4,5])]).tolist()"
   ]
  },
  {
   "cell_type": "code",
   "execution_count": null,
   "metadata": {
    "collapsed": true
   },
   "outputs": [],
   "source": []
  },
  {
   "cell_type": "code",
   "execution_count": null,
   "metadata": {
    "collapsed": true
   },
   "outputs": [],
   "source": []
  },
  {
   "cell_type": "code",
   "execution_count": null,
   "metadata": {
    "collapsed": true
   },
   "outputs": [],
   "source": []
  },
  {
   "cell_type": "code",
   "execution_count": null,
   "metadata": {
    "collapsed": true
   },
   "outputs": [],
   "source": []
  },
  {
   "cell_type": "code",
   "execution_count": null,
   "metadata": {
    "collapsed": true
   },
   "outputs": [],
   "source": []
  },
  {
   "cell_type": "code",
   "execution_count": 63,
   "metadata": {
    "collapsed": true
   },
   "outputs": [],
   "source": [
    "def rosen(x):\n",
    "    \"\"\"The Rosenbrock function\"\"\"\n",
    "    return sum(100.0*(x[1:]-x[:-1]**2.0)**2.0 + (1-x[:-1])**2.0)"
   ]
  },
  {
   "cell_type": "code",
   "execution_count": null,
   "metadata": {
    "collapsed": true
   },
   "outputs": [],
   "source": [
    "bayesian_optimizer.InitialSamples(features, fitness)"
   ]
  },
  {
   "cell_type": "code",
   "execution_count": null,
   "metadata": {
    "collapsed": true
   },
   "outputs": [],
   "source": []
  },
  {
   "cell_type": "code",
   "execution_count": null,
   "metadata": {
    "collapsed": true
   },
   "outputs": [],
   "source": []
  },
  {
   "cell_type": "code",
   "execution_count": null,
   "metadata": {
    "collapsed": true
   },
   "outputs": [],
   "source": []
  },
  {
   "cell_type": "code",
   "execution_count": null,
   "metadata": {
    "collapsed": true
   },
   "outputs": [],
   "source": []
  },
  {
   "cell_type": "code",
   "execution_count": null,
   "metadata": {
    "collapsed": true
   },
   "outputs": [],
   "source": []
  },
  {
   "cell_type": "code",
   "execution_count": null,
   "metadata": {
    "collapsed": true
   },
   "outputs": [],
   "source": []
  },
  {
   "cell_type": "code",
   "execution_count": null,
   "metadata": {
    "collapsed": true
   },
   "outputs": [],
   "source": []
  },
  {
   "cell_type": "code",
   "execution_count": null,
   "metadata": {
    "collapsed": true
   },
   "outputs": [],
   "source": []
  },
  {
   "cell_type": "code",
   "execution_count": null,
   "metadata": {
    "collapsed": true
   },
   "outputs": [],
   "source": []
  },
  {
   "cell_type": "code",
   "execution_count": 3,
   "metadata": {
    "collapsed": true
   },
   "outputs": [],
   "source": [
    "ranges = [(-4,6),(-100,0),(0,2),(5,9)]"
   ]
  },
  {
   "cell_type": "code",
   "execution_count": 4,
   "metadata": {
    "collapsed": true
   },
   "outputs": [],
   "source": [
    "from numpy import array\n",
    "from random import uniform"
   ]
  },
  {
   "cell_type": "code",
   "execution_count": 5,
   "metadata": {
    "collapsed": true
   },
   "outputs": [],
   "source": [
    "x0 = array([uniform(lower, upper) for lower, upper in ranges])"
   ]
  },
  {
   "cell_type": "code",
   "execution_count": 6,
   "metadata": {
    "collapsed": false
   },
   "outputs": [
    {
     "data": {
      "text/plain": [
       "array([  2.6489971 , -83.05540728,   0.76393971,   8.68494422])"
      ]
     },
     "execution_count": 6,
     "metadata": {},
     "output_type": "execute_result"
    }
   ],
   "source": [
    "x0"
   ]
  },
  {
   "cell_type": "code",
   "execution_count": null,
   "metadata": {
    "collapsed": true
   },
   "outputs": [],
   "source": []
  },
  {
   "cell_type": "code",
   "execution_count": null,
   "metadata": {
    "collapsed": true
   },
   "outputs": [],
   "source": []
  },
  {
   "cell_type": "code",
   "execution_count": null,
   "metadata": {
    "collapsed": true
   },
   "outputs": [],
   "source": []
  },
  {
   "cell_type": "code",
   "execution_count": null,
   "metadata": {
    "collapsed": true
   },
   "outputs": [],
   "source": []
  },
  {
   "cell_type": "code",
   "execution_count": 220,
   "metadata": {
    "collapsed": true
   },
   "outputs": [],
   "source": [
    "import numpy as np\n",
    "from scipy.optimize import minimize"
   ]
  },
  {
   "cell_type": "code",
   "execution_count": 221,
   "metadata": {
    "collapsed": true
   },
   "outputs": [],
   "source": [
    "def rosen(x):\n",
    "    \"\"\"The Rosenbrock function\"\"\"\n",
    "    return sum(100.0*(x[1:]-x[:-1]**2.0)**2.0 + (1-x[:-1])**2.0)"
   ]
  },
  {
   "cell_type": "code",
   "execution_count": 231,
   "metadata": {
    "collapsed": false
   },
   "outputs": [
    {
     "name": "stdout",
     "output_type": "stream",
     "text": [
      "hi\n"
     ]
    }
   ],
   "source": [
    "x0 = [1.3, 0.7, 0.8, 1.9, 1.2]\n",
    "res = minimize(rosen, x0, method='L-BFGS-B', bounds=[(-1,2), (0.6,0.9), (0, 9),(-1,2), (-1,2)], tol=1e-30, options={'disp': False})\n",
    "print 'hi'"
   ]
  },
  {
   "cell_type": "code",
   "execution_count": 232,
   "metadata": {
    "collapsed": false
   },
   "outputs": [
    {
     "data": {
      "text/plain": [
       "array([ 0.94882541,  0.9       ,  0.81720332,  0.67111015,  0.45038883])"
      ]
     },
     "execution_count": 232,
     "metadata": {},
     "output_type": "execute_result"
    }
   ],
   "source": [
    "res.x"
   ]
  },
  {
   "cell_type": "code",
   "execution_count": 233,
   "metadata": {
    "collapsed": false
   },
   "outputs": [
    {
     "data": {
      "text/plain": [
       "      fun: 0.16047972744778483\n",
       " hess_inv: <5x5 LbfgsInvHessProduct with dtype=float64>\n",
       "      jac: array([ -5.55111512e-09,  -2.84712449e+00,   3.44169138e-07,\n",
       "         4.41313652e-07,   4.38538095e-07])\n",
       "  message: 'CONVERGENCE: REL_REDUCTION_OF_F_<=_FACTR*EPSMCH'\n",
       "     nfev: 582\n",
       "      nit: 26\n",
       "   status: 0\n",
       "  success: True\n",
       "        x: array([ 0.94882541,  0.9       ,  0.81720332,  0.67111015,  0.45038883])"
      ]
     },
     "execution_count": 233,
     "metadata": {},
     "output_type": "execute_result"
    }
   ],
   "source": [
    "res\n"
   ]
  },
  {
   "cell_type": "code",
   "execution_count": null,
   "metadata": {
    "collapsed": true
   },
   "outputs": [],
   "source": []
  },
  {
   "cell_type": "code",
   "execution_count": null,
   "metadata": {
    "collapsed": true
   },
   "outputs": [],
   "source": []
  },
  {
   "cell_type": "code",
   "execution_count": null,
   "metadata": {
    "collapsed": true
   },
   "outputs": [],
   "source": [
    "def Optimize(self, rand_starts = 10000):\n",
    "        rand_starts = max(1, rand_starts)\n",
    "        ei_x__best = (0.0, None)\n",
    "        for iteration in range(rand_starts):\n",
    "            #generate a random initial guess\n",
    "            x0 = array([uniform(lower, upper) for lower, upper in self.ranges_])\n",
    "            #optimize the expected improvement over the valid ranges along each axis\n",
    "            result = anneal(self.NegativeExpectedImprovement, x0, schedule='boltzmann',\n",
    "                          full_output=False, maxiter=500, lower=self.lower_,\n",
    "                          upper=self.upper_, dwell=250, disp=True)\n",
    "            ei_x = (-1.0*result[1], result[0])\n",
    "            ei_x__best = max(ei_x, ei_x__best)\n",
    "        return ei_x__best"
   ]
  }
 ],
 "metadata": {
  "kernelspec": {
   "display_name": "Python 2",
   "language": "python",
   "name": "python2"
  },
  "language_info": {
   "codemirror_mode": {
    "name": "ipython",
    "version": 2
   },
   "file_extension": ".py",
   "mimetype": "text/x-python",
   "name": "python",
   "nbconvert_exporter": "python",
   "pygments_lexer": "ipython2",
   "version": "2.7.13"
  }
 },
 "nbformat": 4,
 "nbformat_minor": 2
}
