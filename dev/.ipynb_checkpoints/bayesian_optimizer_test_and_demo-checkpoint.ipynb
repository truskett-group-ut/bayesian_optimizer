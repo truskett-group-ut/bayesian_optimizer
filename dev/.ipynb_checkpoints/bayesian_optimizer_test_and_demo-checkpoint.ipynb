{
 "cells": [
  {
   "cell_type": "markdown",
   "metadata": {},
   "source": [
    "# Bayesian optimizer test and demo notebook"
   ]
  },
  {
   "cell_type": "code",
   "execution_count": 3,
   "metadata": {
    "collapsed": false
   },
   "outputs": [],
   "source": [
    "from bayesian_optimizer import BayesianOptimizer\n",
    "from random import uniform\n",
    "from numpy import array, arange\n",
    "import matplotlib.pyplot as plt\n",
    "%matplotlib inline "
   ]
  },
  {
   "cell_type": "markdown",
   "metadata": {},
   "source": [
    "### I. Demo optimization of a 4D Rosenbrock function (this is hard for BO)"
   ]
  },
  {
   "cell_type": "code",
   "execution_count": 2,
   "metadata": {
    "collapsed": true
   },
   "outputs": [],
   "source": [
    "def Rosen(x):\n",
    "    \"\"\"The Rosenbrock function\"\"\"\n",
    "    return -1.0*sum(100.0*(x[1:]-x[:-1]**2.0)**2.0 + (1-x[:-1])**2.0)"
   ]
  },
  {
   "cell_type": "markdown",
   "metadata": {},
   "source": [
    "**Generate a random sampling of the function to be optimized**"
   ]
  },
  {
   "cell_type": "code",
   "execution_count": 13,
   "metadata": {
    "collapsed": true
   },
   "outputs": [],
   "source": [
    "ranges = [(0.0,2.0), (0.0,2.0), (0.0,2.0), (0.0,2.0)]\n",
    "bayesian_optimizer = BayesianOptimizer()\n",
    "bayesian_optimizer.SetRanges(ranges)"
   ]
  },
  {
   "cell_type": "code",
   "execution_count": 14,
   "metadata": {
    "collapsed": false
   },
   "outputs": [],
   "source": [
    "features = bayesian_optimizer.SuggestInitialSamples(num_samples=20)\n",
    "fitness = [Rosen(array(feature)) for feature in features]"
   ]
  },
  {
   "cell_type": "code",
   "execution_count": 15,
   "metadata": {
    "collapsed": false
   },
   "outputs": [
    {
     "name": "stdout",
     "output_type": "stream",
     "text": [
      "[-13.360161249685058, -213.83736457545979, -578.44746818709177, -335.64609452617373, -750.92397227173876, -230.20581596928352, -447.76744550358637, -837.6930369463654, -912.19267151860004, -104.38112181966183, -430.40156973720491, -109.39268920037318, -105.94339947557086, -1065.4725088684531, -909.51739051188872, -204.98322039871991, -625.93794162298525, -277.12773384104929, -755.66292264728827, -830.94732586007058]\n"
     ]
    }
   ],
   "source": [
    "print fitness"
   ]
  },
  {
   "cell_type": "markdown",
   "metadata": {},
   "source": [
    "**Initialize the optimizer and regressor using the \"expected improvement\"**"
   ]
  },
  {
   "cell_type": "code",
   "execution_count": 21,
   "metadata": {
    "collapsed": false
   },
   "outputs": [],
   "source": [
    "bayesian_optimizer.InitalizeRegressor()\n",
    "bayesian_optimizer.InitializeSuggestionEngine(num_suggestions=4, method='ei')\n",
    "bayesian_optimizer.InitializeOptimizer(rand_starts=100, tol=1e-5)\n",
    "bayesian_optimizer.InitialSamples(features, fitness)"
   ]
  },
  {
   "cell_type": "markdown",
   "metadata": {},
   "source": [
    "**Basic loop to iteratively optimize**"
   ]
  },
  {
   "cell_type": "code",
   "execution_count": 22,
   "metadata": {
    "collapsed": false
   },
   "outputs": [
    {
     "name": "stdout",
     "output_type": "stream",
     "text": [
      "iteration 0\n",
      "iteration 10\n",
      "iteration 20\n"
     ]
    }
   ],
   "source": [
    "xs = []\n",
    "ys = []\n",
    "for i in range(30):\n",
    "    if i % 10 == 0:\n",
    "        print 'iteration %i' % i\n",
    "    suggestions = bayesian_optimizer.Suggest()\n",
    "    xs_batch = []\n",
    "    ys_batch = []\n",
    "    for suggestion in suggestions:\n",
    "        xs_batch.append(suggestion)\n",
    "        ys_batch.append(Rosen(array(suggestion)))\n",
    "    xs.append(xs_batch)\n",
    "    ys.append(ys_batch)\n",
    "    bayesian_optimizer.AddSamples(xs_batch, ys_batch)"
   ]
  },
  {
   "cell_type": "code",
   "execution_count": 25,
   "metadata": {
    "collapsed": false
   },
   "outputs": [
    {
     "data": {
      "text/plain": [
       "[-0.19787949110847625,\n",
       " -5.4794868210682743,\n",
       " -0.79385496909614484,\n",
       " -2.1426594738464853]"
      ]
     },
     "execution_count": 25,
     "metadata": {},
     "output_type": "execute_result"
    }
   ],
   "source": [
    "ys[-1]"
   ]
  },
  {
   "cell_type": "markdown",
   "metadata": {},
   "source": [
    "**Initialize the optimizer and regressor using the \"knowledge gradient\"**"
   ]
  },
  {
   "cell_type": "code",
   "execution_count": 26,
   "metadata": {
    "collapsed": true
   },
   "outputs": [],
   "source": [
    "bayesian_optimizer.InitalizeRegressor()\n",
    "bayesian_optimizer.InitializeSuggestionEngine(num_suggestions=4, method='kg', rand_starts__max_pred_fitness=200)\n",
    "bayesian_optimizer.InitializeOptimizer(rand_starts=100, tol=1e-5)\n",
    "bayesian_optimizer.InitialSamples(features, fitness)"
   ]
  },
  {
   "cell_type": "code",
   "execution_count": 27,
   "metadata": {
    "collapsed": false
   },
   "outputs": [
    {
     "name": "stdout",
     "output_type": "stream",
     "text": [
      "iteration 0\n",
      "iteration 10\n",
      "iteration 20\n"
     ]
    }
   ],
   "source": [
    "xs = []\n",
    "ys = []\n",
    "for i in range(30):\n",
    "    if i % 10 == 0:\n",
    "        print 'iteration %i' % i\n",
    "    suggestions = bayesian_optimizer.Suggest()\n",
    "    xs_batch = []\n",
    "    ys_batch = []\n",
    "    for suggestion in suggestions:\n",
    "        xs_batch.append(suggestion)\n",
    "        ys_batch.append(Rosen(array(suggestion)))\n",
    "    xs.append(xs_batch)\n",
    "    ys.append(ys_batch)\n",
    "    bayesian_optimizer.AddSamples(xs_batch, ys_batch)"
   ]
  },
  {
   "cell_type": "code",
   "execution_count": 32,
   "metadata": {
    "collapsed": false
   },
   "outputs": [
    {
     "data": {
      "text/plain": [
       "(-56.731452710842319,\n",
       " -828.07768177720232,\n",
       " -28.939273643911768,\n",
       " -16.430840591100377,\n",
       " -27.366453914247302,\n",
       " -18.477552981257645,\n",
       " -14.351942892713666,\n",
       " -4.5339706094171266,\n",
       " -2.094523013917323,\n",
       " -9.9458017092342779,\n",
       " -6.3496000803315411,\n",
       " -21.289495128235288,\n",
       " -3.2330902702110444,\n",
       " -4.6188628166716246,\n",
       " -1.7793858943268595,\n",
       " -5.5680033295557072,\n",
       " -19.256656675351046,\n",
       " -4.3234393131677722,\n",
       " -12.742780496213641,\n",
       " -0.91276464860432061,\n",
       " -4.6392851979992802,\n",
       " -1.1119262373838839,\n",
       " -1.0215015131845846,\n",
       " -0.86369487056692218,\n",
       " -0.66276918038100341,\n",
       " -4.5134492966379751,\n",
       " -1.2636272121579541,\n",
       " -1.9048585763895345,\n",
       " -0.53242875396047662,\n",
       " -2.1016347131688073)"
      ]
     },
     "execution_count": 32,
     "metadata": {},
     "output_type": "execute_result"
    }
   ],
   "source": [
    "zip(*ys)[0]"
   ]
  },
  {
   "cell_type": "code",
   "execution_count": null,
   "metadata": {
    "collapsed": true
   },
   "outputs": [],
   "source": []
  },
  {
   "cell_type": "markdown",
   "metadata": {
    "collapsed": true
   },
   "source": [
    "### II. Demo optimization of a simple 1D polynomial landscape"
   ]
  },
  {
   "cell_type": "code",
   "execution_count": 37,
   "metadata": {
    "collapsed": true
   },
   "outputs": [],
   "source": [
    "def Polynomial(x):\n",
    "    return 1.5 - 2.0*x + 3.3*x**2.0 - 0.1*x**4.0"
   ]
  },
  {
   "cell_type": "markdown",
   "metadata": {},
   "source": [
    "**Generate a random sampling of the function to be optimized**"
   ]
  },
  {
   "cell_type": "code",
   "execution_count": 38,
   "metadata": {
    "collapsed": true
   },
   "outputs": [],
   "source": [
    "ranges = [(-6.0,6.0)]\n",
    "bayesian_optimizer = BayesianOptimizer()\n",
    "bayesian_optimizer.SetRanges(ranges)"
   ]
  },
  {
   "cell_type": "code",
   "execution_count": 39,
   "metadata": {
    "collapsed": true
   },
   "outputs": [],
   "source": [
    "features = bayesian_optimizer.SuggestInitialSamples(num_samples=3)\n",
    "fitness = [Polynomial(array(feature))[0] for feature in features]"
   ]
  },
  {
   "cell_type": "code",
   "execution_count": 40,
   "metadata": {
    "collapsed": false
   },
   "outputs": [
    {
     "name": "stdout",
     "output_type": "stream",
     "text": [
      "[1.5, 29.100000000000001, 17.100000000000001]\n"
     ]
    }
   ],
   "source": [
    "print fitness"
   ]
  },
  {
   "cell_type": "markdown",
   "metadata": {},
   "source": [
    "**Initialize the optimizer and regressor using the \"expected improvement\"**"
   ]
  },
  {
   "cell_type": "code",
   "execution_count": 41,
   "metadata": {
    "collapsed": true
   },
   "outputs": [],
   "source": [
    "bayesian_optimizer.InitalizeRegressor()\n",
    "bayesian_optimizer.InitializeSuggestionEngine(num_suggestions=1, method='ei')\n",
    "bayesian_optimizer.InitializeOptimizer(rand_starts=100, tol=1e-5)\n",
    "bayesian_optimizer.InitialSamples(features, fitness)"
   ]
  },
  {
   "cell_type": "markdown",
   "metadata": {},
   "source": [
    "**Basic loop to iteratively optimize**"
   ]
  },
  {
   "cell_type": "code",
   "execution_count": 42,
   "metadata": {
    "collapsed": false
   },
   "outputs": [
    {
     "name": "stdout",
     "output_type": "stream",
     "text": [
      "iteration 0\n",
      "iteration 10\n",
      "iteration 20\n",
      "iteration 30\n",
      "iteration 40\n",
      "iteration 50\n",
      "iteration 60\n",
      "iteration 70\n",
      "iteration 80\n",
      "iteration 90\n"
     ]
    }
   ],
   "source": [
    "Y_pred = []\n",
    "EI_pred = []\n",
    "xs = []\n",
    "ys = []\n",
    "for i in range(100):\n",
    "    if i % 10 == 0:\n",
    "        print 'iteration %i' % i\n",
    "    suggestions = bayesian_optimizer.Suggest()\n",
    "    Y_pred.append(array([bayesian_optimizer.gaussian_process_regressor_.predict([[x]], return_std = False)[0] for x in x_points]))\n",
    "    EI_pred.append(array([bayesian_optimizer.ExpectedImprovement(array([x])) for x in x_points]))\n",
    "    xs_batch = []\n",
    "    ys_batch = []\n",
    "    for suggestion in suggestions:\n",
    "        xs_batch.append(suggestion)\n",
    "        ys_batch.append(Polynomial(suggestion[0]))\n",
    "    xs.append(xs_batch)\n",
    "    ys.append(ys_batch)\n",
    "    bayesian_optimizer.AddSamples(xs_batch, ys_batch)"
   ]
  },
  {
   "cell_type": "markdown",
   "metadata": {},
   "source": [
    "**Check out the optimization results**"
   ]
  },
  {
   "cell_type": "code",
   "execution_count": 43,
   "metadata": {
    "collapsed": true
   },
   "outputs": [],
   "source": [
    "x_points = arange(-6, 6, 0.1)\n",
    "y_points = Polynomial(x_points)"
   ]
  },
  {
   "cell_type": "markdown",
   "metadata": {},
   "source": [
    "Expected value"
   ]
  },
  {
   "cell_type": "code",
   "execution_count": 52,
   "metadata": {
    "collapsed": false
   },
   "outputs": [
    {
     "data": {
      "image/png": "[encoded data removed]",
      "text/plain": [
       "<matplotlib.figure.Figure at 0xd4b1d30>"
      ]
     },
     "metadata": {},
     "output_type": "display_data"
    }
   ],
   "source": [
    "#things to plot\n",
    "lw = 0.04\n",
    "plt.plot(x_points, y_points, c=\"r\", linestyle = '-', linewidth = 5, label = \"Train\")\n",
    "for y_pred in Y_pred[0:]:\n",
    "    plt.plot(x_points, y_pred, linestyle = '-', c = 'b', linewidth =lw, label = \"Train\")\n",
    "    lw = lw + 0.04"
   ]
  },
  {
   "cell_type": "markdown",
   "metadata": {},
   "source": [
    "Expected improvement"
   ]
  },
  {
   "cell_type": "code",
   "execution_count": 45,
   "metadata": {
    "collapsed": false
   },
   "outputs": [
    {
     "data": {
      "image/png": "[encoded data removed]",
      "text/plain": [
       "<matplotlib.figure.Figure at 0x9a30cc0>"
      ]
     },
     "metadata": {},
     "output_type": "display_data"
    }
   ],
   "source": [
    "#things to plot\n",
    "lw = 0.02\n",
    "#plt.plot(x_points, y_points, c=\"r\", linestyle = '-', linewidth = 5, label = \"Train\")\n",
    "for ei_pred in EI_pred[0:]:\n",
    "    plt.plot(x_points, ei_pred, linestyle = '-', c = 'b', linewidth =lw, label = \"Train\")\n",
    "    lw = lw + 0.02\n",
    "plt.ylim(0.000000000001, 10)\n",
    "plt.yscale('log')"
   ]
  },
  {
   "cell_type": "code",
   "execution_count": null,
   "metadata": {
    "collapsed": true
   },
   "outputs": [],
   "source": []
  },
  {
   "cell_type": "code",
   "execution_count": null,
   "metadata": {
    "collapsed": true
   },
   "outputs": [],
   "source": []
  }
 ],
 "metadata": {
  "kernelspec": {
   "display_name": "Python 2",
   "language": "python",
   "name": "python2"
  },
  "language_info": {
   "codemirror_mode": {
    "name": "ipython",
    "version": 2
   },
   "file_extension": ".py",
   "mimetype": "text/x-python",
   "name": "python",
   "nbconvert_exporter": "python",
   "pygments_lexer": "ipython2",
   "version": "2.7.13"
  }
 },
 "nbformat": 4,
 "nbformat_minor": 2
}
