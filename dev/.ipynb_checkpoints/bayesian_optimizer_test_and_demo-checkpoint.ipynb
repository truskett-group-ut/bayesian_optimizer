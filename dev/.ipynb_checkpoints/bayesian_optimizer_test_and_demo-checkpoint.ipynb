{
 "cells": [
  {
   "cell_type": "markdown",
   "metadata": {},
   "source": [
    "# Bayesian optimizer test and demo notebook"
   ]
  },
  {
   "cell_type": "code",
   "execution_count": 1,
   "metadata": {
    "collapsed": false
   },
   "outputs": [],
   "source": [
    "from bayesian_optimizer import BayesianOptimizer\n",
    "from random import uniform\n",
    "from numpy import array"
   ]
  },
  {
   "cell_type": "markdown",
   "metadata": {},
   "source": [
    "### (1) Demo optimization of a 4D Rosenbrock function (this is hard for BO)"
   ]
  },
  {
   "cell_type": "code",
   "execution_count": 2,
   "metadata": {
    "collapsed": true
   },
   "outputs": [],
   "source": [
    "def Rosen(x):\n",
    "    \"\"\"The Rosenbrock function\"\"\"\n",
    "    return -1.0*sum(100.0*(x[1:]-x[:-1]**2.0)**2.0 + (1-x[:-1])**2.0)"
   ]
  },
  {
   "cell_type": "markdown",
   "metadata": {},
   "source": [
    "**Generate a random sampling of the function to be optimized**"
   ]
  },
  {
   "cell_type": "code",
   "execution_count": 3,
   "metadata": {
    "collapsed": false
   },
   "outputs": [],
   "source": [
    "ranges = [(0.5,1.5), (0.5,1.5), (0.5,1.5), (0.5,1.5)]\n",
    "ranges = [(0.0,2.0), (0.0,2.0), (0.0,2.0), (0.0,2.0)]\n",
    "features = []\n",
    "fitness = []\n",
    "for i in range(20):\n",
    "    x_rand = array([uniform(lower, upper) for lower, upper in ranges])\n",
    "    features.append(x_rand.tolist())\n",
    "    fitness.append(Rosen(x_rand))"
   ]
  },
  {
   "cell_type": "code",
   "execution_count": 4,
   "metadata": {
    "collapsed": false
   },
   "outputs": [
    {
     "name": "stdout",
     "output_type": "stream",
     "text": [
      "[-199.51410281626232, -219.10943051744778, -906.21769063924933, -167.30126084515678, -1003.8977574175101, -388.92336666194268, -297.1593921820745, -455.21053711865227, -75.637566725778527, -533.36947217538227, -304.88801717680622, -663.9522339839516, -60.518205316818367, -800.34864680955184, -56.166260779243984, -1506.8908300183271, -179.38757866726837, -723.62699017024158, -800.67122079237424, -210.99978507212703]\n"
     ]
    }
   ],
   "source": [
    "print fitness"
   ]
  },
  {
   "cell_type": "markdown",
   "metadata": {},
   "source": [
    "**Initialize the optimizer and regressor**"
   ]
  },
  {
   "cell_type": "code",
   "execution_count": 10,
   "metadata": {
    "collapsed": false
   },
   "outputs": [],
   "source": [
    "bayesian_optimizer = BayesianOptimizer()\n",
    "bayesian_optimizer.InitalizeRegressor()\n",
    "bayesian_optimizer.InitializeSuggestionEngine(num_suggestions=3, method='ei')\n",
    "bayesian_optimizer.InitializeOptimizer(rand_starts=50, tol=1e-5)\n",
    "bayesian_optimizer.InitialSamples(features, fitness)\n",
    "bayesian_optimizer.SetRanges(ranges)"
   ]
  },
  {
   "cell_type": "markdown",
   "metadata": {},
   "source": [
    "**Basic loop to iteratively optimize**"
   ]
  },
  {
   "cell_type": "code",
   "execution_count": 11,
   "metadata": {
    "collapsed": false
   },
   "outputs": [
    {
     "name": "stdout",
     "output_type": "stream",
     "text": [
      "iteration 0\n",
      "iteration 10\n"
     ]
    },
    {
     "name": "stderr",
     "output_type": "stream",
     "text": [
      "C:\\Users\\rbj428\\AppData\\Local\\Continuum\\Anaconda2_3\\lib\\site-packages\\sklearn\\gaussian_process\\gpr.py:427: UserWarning: fmin_l_bfgs_b terminated abnormally with the  state: {'warnflag': 2, 'task': 'ABNORMAL_TERMINATION_IN_LNSRCH', 'grad': array([ -5.87759319e-05,   1.66159412e-06,   2.97148270e-07,\n",
      "        -5.78043025e-06,   2.18045062e+00]), 'nit': 13, 'funcalls': 62}\n",
      "  \" state: %s\" % convergence_dict)\n",
      "C:\\Users\\rbj428\\AppData\\Local\\Continuum\\Anaconda2_3\\lib\\site-packages\\sklearn\\gaussian_process\\gpr.py:427: UserWarning: fmin_l_bfgs_b terminated abnormally with the  state: {'warnflag': 2, 'task': 'ABNORMAL_TERMINATION_IN_LNSRCH', 'grad': array([  2.78163486e-06,   7.99858310e-06,   4.35750582e-05,\n",
      "         2.83509463e-06,   1.19584831e+01]), 'nit': 23, 'funcalls': 84}\n",
      "  \" state: %s\" % convergence_dict)\n"
     ]
    },
    {
     "name": "stdout",
     "output_type": "stream",
     "text": [
      "iteration 20\n"
     ]
    }
   ],
   "source": [
    "xs = []\n",
    "ys = []\n",
    "for i in range(30):\n",
    "    if i % 10 == 0:\n",
    "        print 'iteration %i' % i\n",
    "    suggestions = bayesian_optimizer.Suggest()\n",
    "    xs_batch = []\n",
    "    ys_batch = []\n",
    "    for suggestion in suggestions:\n",
    "        xs_batch.append(suggestion)\n",
    "        ys_batch.append(Rosen(array(suggestion)))\n",
    "    xs.append(xs_batch)\n",
    "    ys.append(ys_batch)\n",
    "    bayesian_optimizer.AddSamples(xs_batch, ys_batch)"
   ]
  },
  {
   "cell_type": "code",
   "execution_count": 12,
   "metadata": {
    "collapsed": false
   },
   "outputs": [
    {
     "data": {
      "text/plain": [
       "[[-49.569509648869982, -43.002738300352561, -42.573808699934084],\n",
       " [-35.379013849938971, -38.379386747117806, -47.842507093691843],\n",
       " [-1317.694214237838, -1366.1379910447229, -93.893063719942305],\n",
       " [-31.271946822054513, -27.70671836103649, -25.171068679588213],\n",
       " [-25.058405312835813, -30.514725282468415, -37.294765723466419],\n",
       " [-23.390778079938894, -21.599281959192702, -21.575925886571735],\n",
       " [-56.750005870895919, -54.412175372073548, -52.120186278029223],\n",
       " [-12.245500002735097, -11.693059933330964, -11.163904644166514],\n",
       " [-10.79364106515539, -10.583187876532532, -10.590837035297923],\n",
       " [-10.746476573857633, -10.888091856082351, -10.833482866247319],\n",
       " [-9.4620573732707296, -8.4938466158586934, -7.8942462978595653],\n",
       " [-5.6131605598719823, -3.9145127928670647, -2.7206852735226263],\n",
       " [-2.1879635095426782, -1.8798561158821159, -1.7482891268751706],\n",
       " [-1.6469822229739368, -1.6713415283705144, -1.6649457828217016],\n",
       " [-1.6145207526339442, -1.725528280450312, -1.6553368137112492],\n",
       " [-1.5257707796012896, -1.563192354500015, -1.5813929059013256],\n",
       " [-1.6094279345510283, -1.7421942039185561, -1.552281646405874],\n",
       " [-1.3922637726114353, -1.3849858221951952, -1.6267186745435365],\n",
       " [-1.1415365872326941, -1.2564922196143966, -1.2522226106385381],\n",
       " [-0.90214315185150951, -0.88812504531041325, -0.89453810943679968],\n",
       " [-0.77168881035851322, -0.74183699558299332, -0.87895126677341451],\n",
       " [-0.65978141537605728, -0.74075820212698074, -0.79838593740189956],\n",
       " [-0.58983074134911007, -0.58193746790098166, -0.58977495998788021],\n",
       " [-0.52577990772275329, -2.0049419117505884, -0.57576807897353954],\n",
       " [-0.58883062507892459, -1.444407425666083, -1.5655858207538902],\n",
       " [-2.9455411468028601, -1.1733680016025212, -1.0350696267296837],\n",
       " [-2.3618827143995587, -1.0626595282904385, -3.6393173965408083],\n",
       " [-3.1291159616377056, -1.6358902321828799, -11.388576245588963],\n",
       " [-0.80169629857259894, -3.1266804134354773, -13.962488325918208],\n",
       " [-1.8306263869441881, -0.72654393621444702, -2.7437723359096662]]"
      ]
     },
     "execution_count": 12,
     "metadata": {},
     "output_type": "execute_result"
    }
   ],
   "source": [
    "ys"
   ]
  },
  {
   "cell_type": "code",
   "execution_count": 5,
   "metadata": {
    "collapsed": true
   },
   "outputs": [],
   "source": [
    "bayesian_optimizer = BayesianOptimizer()\n",
    "bayesian_optimizer.InitalizeRegressor()\n",
    "bayesian_optimizer.InitializeSuggestionEngine(num_suggestions=3, method='kg', rand_starts__max_pred_fitness=200)\n",
    "bayesian_optimizer.InitializeOptimizer(rand_starts=50, tol=1e-5)\n",
    "bayesian_optimizer.InitialSamples(features, fitness)\n",
    "bayesian_optimizer.SetRanges(ranges)"
   ]
  },
  {
   "cell_type": "code",
   "execution_count": 6,
   "metadata": {
    "collapsed": false
   },
   "outputs": [
    {
     "name": "stdout",
     "output_type": "stream",
     "text": [
      "iteration 0\n",
      "iteration 10\n",
      "iteration 20\n"
     ]
    }
   ],
   "source": [
    "xs = []\n",
    "ys = []\n",
    "for i in range(30):\n",
    "    if i % 10 == 0:\n",
    "        print 'iteration %i' % i\n",
    "    suggestions = bayesian_optimizer.Suggest()\n",
    "    xs_batch = []\n",
    "    ys_batch = []\n",
    "    for suggestion in suggestions:\n",
    "        xs_batch.append(suggestion)\n",
    "        ys_batch.append(Rosen(array(suggestion)))\n",
    "    xs.append(xs_batch)\n",
    "    ys.append(ys_batch)\n",
    "    bayesian_optimizer.AddSamples(xs_batch, ys_batch)"
   ]
  },
  {
   "cell_type": "code",
   "execution_count": 9,
   "metadata": {
    "collapsed": false
   },
   "outputs": [
    {
     "data": {
      "text/plain": [
       "[[-65.403542576718067, -75.603695263825657, -379.35168464461839],\n",
       " [-32.206852830727819, -35.701691230892365, -36.716176582406675],\n",
       " [-24.261455922313917, -27.788085850343609, -28.73291976880822],\n",
       " [-15.876272481506163, -15.999510138731733, -15.991378139410461],\n",
       " [-12.308132232280828, -12.290578369075487, -12.277783076327601],\n",
       " [-122.26728339995175, -9.1946002095957251, -8.4440169979818638],\n",
       " [-8.4538528313976844, -8.6571842904219825, -8.7134983992586523],\n",
       " [-7.8305700424320719, -7.8493812068104205, -7.8524932534050755],\n",
       " [-49.068986296491694, -68.342412794042275, -56.277372112779879],\n",
       " [-7.4952396661302654, -41.496643131017592, -7.4286153890145279],\n",
       " [-7.4665125437541278, -8.0920272493853087, -7.6048152356416967],\n",
       " [-7.189689449091512, -1203.0, -30.35997977204336],\n",
       " [-6.399702437436309, -6.3636287536512013, -7.1175613115962797],\n",
       " [-5.62051467174126, -5.6153678904000977, -5.5055972907534692],\n",
       " [-4.9279598013403891, -4.9200801975174819, -4.9561694783324395],\n",
       " [-4.5435044046758772, -5.2600908326464619, -4.6035197025077146],\n",
       " [-3.7252288050954334, -35.674573354451233, -41.953347464310134],\n",
       " [-12.326556553488366, -34.705800940352205, -54.258792918969171],\n",
       " [-16.346325902279659, -7.3991479799138862, -3.7250563449697189],\n",
       " [-9.8326135735214031, -17.09711555166361, -19.311392581934697],\n",
       " [-31.512903081315738, -31.337790895402293, -31.452404048876542],\n",
       " [-3.7620221473898612, -3.7312964119598226, -3.7307551905773706],\n",
       " [-3.0, -3.0, -3.0],\n",
       " [-3.0139098045165138, -3.0145372271711697, -3.0142748310937137],\n",
       " [-2.9901171446843056, -2.9901198654719408, -2.9901189946630509],\n",
       " [-2.9901428463979309, -2.9901442309557309, -2.9901462087560571],\n",
       " [-2.9901567494834538, -2.9901564830086378, -2.990159709250662],\n",
       " [-2.9901662084992799, -2.9901610630197402, -3.0],\n",
       " [-2.9901509685170273, -2.990152525083948, -2.9901509947364966],\n",
       " [-3.0, -2.9901567680273957, -2.9901588855109482]]"
      ]
     },
     "execution_count": 9,
     "metadata": {},
     "output_type": "execute_result"
    }
   ],
   "source": [
    "ys"
   ]
  },
  {
   "cell_type": "code",
   "execution_count": 13,
   "metadata": {
    "collapsed": false
   },
   "outputs": [
    {
     "data": {
      "text/plain": [
       "[-199.51410281626232,\n",
       " -219.10943051744778,\n",
       " -906.21769063924933,\n",
       " -167.30126084515678,\n",
       " -1003.8977574175101,\n",
       " -388.92336666194268,\n",
       " -297.1593921820745,\n",
       " -455.21053711865227,\n",
       " -75.637566725778527,\n",
       " -533.36947217538227,\n",
       " -304.88801717680622,\n",
       " -663.9522339839516,\n",
       " -60.518205316818367,\n",
       " -800.34864680955184,\n",
       " -56.166260779243984,\n",
       " -1506.8908300183271,\n",
       " -179.38757866726837,\n",
       " -723.62699017024158,\n",
       " -800.67122079237424,\n",
       " -210.99978507212703]"
      ]
     },
     "execution_count": 13,
     "metadata": {},
     "output_type": "execute_result"
    }
   ],
   "source": [
    "fitness"
   ]
  },
  {
   "cell_type": "code",
   "execution_count": null,
   "metadata": {
    "collapsed": true
   },
   "outputs": [],
   "source": []
  },
  {
   "cell_type": "code",
   "execution_count": 20,
   "metadata": {
    "collapsed": false
   },
   "outputs": [
    {
     "data": {
      "text/plain": [
       "-1.0990169904400786"
      ]
     },
     "execution_count": 20,
     "metadata": {},
     "output_type": "execute_result"
    }
   ],
   "source": [
    "max(ys)"
   ]
  },
  {
   "cell_type": "code",
   "execution_count": 21,
   "metadata": {
    "collapsed": false
   },
   "outputs": [
    {
     "data": {
      "text/plain": [
       "-68.451172236287661"
      ]
     },
     "execution_count": 21,
     "metadata": {},
     "output_type": "execute_result"
    }
   ],
   "source": [
    "max(fitness)"
   ]
  },
  {
   "cell_type": "code",
   "execution_count": 9,
   "metadata": {
    "collapsed": false
   },
   "outputs": [
    {
     "data": {
      "text/plain": [
       "[-2.2523411253730359, -1.0712801624597716, -21.958882413405973]"
      ]
     },
     "execution_count": 9,
     "metadata": {},
     "output_type": "execute_result"
    }
   ],
   "source": [
    "bayesian_optimizer.y_virtual_"
   ]
  },
  {
   "cell_type": "code",
   "execution_count": 13,
   "metadata": {
    "collapsed": false
   },
   "outputs": [
    {
     "data": {
      "text/plain": [
       "-22.332366058439675"
      ]
     },
     "execution_count": 13,
     "metadata": {},
     "output_type": "execute_result"
    }
   ],
   "source": [
    " Rosen(array(bayesian_optimizer.X_virtual_[0]))"
   ]
  },
  {
   "cell_type": "code",
   "execution_count": 10,
   "metadata": {
    "collapsed": false
   },
   "outputs": [
    {
     "data": {
      "text/plain": [
       "[[0.9362230305436231,\n",
       "  0.9635284796419378,\n",
       "  0.9398963470769153,\n",
       "  0.9303873443549345],\n",
       " [0.8842444802700317,\n",
       "  0.8705418100500977,\n",
       "  0.8002847818305886,\n",
       "  0.692575036421395],\n",
       " [0.5552498831551947,\n",
       "  0.7278643335063496,\n",
       "  0.5629005252360438,\n",
       "  0.2408752733307346]]"
      ]
     },
     "execution_count": 10,
     "metadata": {},
     "output_type": "execute_result"
    }
   ],
   "source": [
    "bayesian_optimizer.X_virtual_"
   ]
  },
  {
   "cell_type": "code",
   "execution_count": null,
   "metadata": {
    "collapsed": true
   },
   "outputs": [],
   "source": []
  }
 ],
 "metadata": {
  "kernelspec": {
   "display_name": "Python 2",
   "language": "python",
   "name": "python2"
  },
  "language_info": {
   "codemirror_mode": {
    "name": "ipython",
    "version": 2
   },
   "file_extension": ".py",
   "mimetype": "text/x-python",
   "name": "python",
   "nbconvert_exporter": "python",
   "pygments_lexer": "ipython2",
   "version": "2.7.13"
  }
 },
 "nbformat": 4,
 "nbformat_minor": 2
}
