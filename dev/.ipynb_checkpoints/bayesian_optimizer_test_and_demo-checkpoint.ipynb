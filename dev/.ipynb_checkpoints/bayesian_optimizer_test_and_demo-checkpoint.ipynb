{
 "cells": [
  {
   "cell_type": "markdown",
   "metadata": {},
   "source": [
    "# Bayesian optimizer test and demo notebook"
   ]
  },
  {
   "cell_type": "code",
   "execution_count": 1,
   "metadata": {
    "collapsed": true
   },
   "outputs": [],
   "source": [
    "from bayesian_optimizer import BayesianOptimizer\n",
    "from random import uniform\n",
    "from numpy import array"
   ]
  },
  {
   "cell_type": "markdown",
   "metadata": {},
   "source": [
    "### (1) Demo optimization of a 4D Rosenbrock function (this is hard for BO)"
   ]
  },
  {
   "cell_type": "code",
   "execution_count": 2,
   "metadata": {
    "collapsed": true
   },
   "outputs": [],
   "source": [
    "def Rosen(x):\n",
    "    \"\"\"The Rosenbrock function\"\"\"\n",
    "    return -1.0*sum(100.0*(x[1:]-x[:-1]**2.0)**2.0 + (1-x[:-1])**2.0)"
   ]
  },
  {
   "cell_type": "markdown",
   "metadata": {},
   "source": [
    "**Generate a random sampling of the function to be optimized**"
   ]
  },
  {
   "cell_type": "code",
   "execution_count": 11,
   "metadata": {
    "collapsed": false
   },
   "outputs": [],
   "source": [
    "ranges = [(0.5,1.5), (0.5,1.5), (0.5,1.5), (0.5,1.5)]\n",
    "features = []\n",
    "fitness = []\n",
    "for i in range(20):\n",
    "    x_rand = array([uniform(lower, upper) for lower, upper in ranges])\n",
    "    features.append(x_rand.tolist())\n",
    "    fitness.append(Rosen(x_rand))"
   ]
  },
  {
   "cell_type": "code",
   "execution_count": 12,
   "metadata": {
    "collapsed": false
   },
   "outputs": [
    {
     "name": "stdout",
     "output_type": "stream",
     "text": [
      "[-255.43669754299512, -207.83109761652548, -129.98788694144699, -42.476674251777737, -239.85568841937865, -36.886515234213611, -37.58560507391946, -31.637128608900809, -310.50688186198425, -24.931854454742556, -129.70541002773609, -238.82538535275552, -439.97850792285891, -136.75937285749126, -70.900401751900574, -57.345490270712332, -29.538572201600005, -59.250635984879793, -67.560580979497786, -30.339049515065518]\n"
     ]
    }
   ],
   "source": [
    "print fitness"
   ]
  },
  {
   "cell_type": "markdown",
   "metadata": {},
   "source": [
    "**Initialize the optimizer and regressor**"
   ]
  },
  {
   "cell_type": "code",
   "execution_count": 14,
   "metadata": {
    "collapsed": false
   },
   "outputs": [],
   "source": [
    "bayesian_optimizer = BayesianOptimizer()\n",
    "bayesian_optimizer.InitalizeRegressor()\n",
    "bayesian_optimizer.InitializeOptimizer(rand_starts = 50, tol=1e-5)"
   ]
  },
  {
   "cell_type": "markdown",
   "metadata": {},
   "source": [
    "**Basic loop to iteratively optimize**"
   ]
  },
  {
   "cell_type": "code",
   "execution_count": 15,
   "metadata": {
    "collapsed": false
   },
   "outputs": [
    {
     "name": "stdout",
     "output_type": "stream",
     "text": [
      "iteration 0\n",
      "iteration 10\n",
      "iteration 20\n",
      "iteration 30\n"
     ]
    }
   ],
   "source": [
    "bayesian_optimizer.InitialSamples(features, fitness)\n",
    "bayesian_optimizer.SetRanges(ranges)\n",
    "xs = []\n",
    "ys = []\n",
    "for i in range(40):\n",
    "    if i % 10 == 0:\n",
    "        print 'iteration %i' % i\n",
    "    x_new = bayesian_optimizer.Suggest()\n",
    "    y_new = Rosen(array(x_new))\n",
    "    xs.append(x_new)\n",
    "    ys.append(y_new)\n",
    "    bayesian_optimizer.AddSamples([x_new], [y_new])"
   ]
  },
  {
   "cell_type": "code",
   "execution_count": 18,
   "metadata": {
    "collapsed": false
   },
   "outputs": [
    {
     "name": "stdout",
     "output_type": "stream",
     "text": [
      "[-110.91962362138776, -9.464812792093058, -8.6670194745410321, -7.7465587726616087, -6.9807259116429314, -6.2785965545371401, -5.6095768630740839, -4.9614386823624361, -4.3300093513629552, -3.7311649760652292, -3.1874024843686222, -2.6825097141366769, -2.2344024899070645, -1.8355854356456058, -1.5096100724452093, -1.2430224526976457, -1.0381905613516238, -0.89437478800505665, -0.80670701763050756, -0.77941204183617552, -0.79925487396665107, -0.74892580521617924, -0.64822471398051906, -0.54477106162663091, -0.49804154549707313, -0.45256837682933149, -0.37354442096659402, -0.28686555865240876, -0.22484400603716154, -0.17175907366996296, -0.13293188967110509, -0.11400296476799081, -0.11179293385344903, -0.11366212512374739, -0.10748080450935275, -0.11680498155315888, -0.11497376641066223, -0.10578710312499719, -0.10618142525237086, -0.13379180112261649]\n"
     ]
    }
   ],
   "source": [
    "print ys"
   ]
  },
  {
   "cell_type": "code",
   "execution_count": 19,
   "metadata": {
    "collapsed": false
   },
   "outputs": [
    {
     "data": {
      "text/plain": [
       "-0.10578710312499719"
      ]
     },
     "execution_count": 19,
     "metadata": {},
     "output_type": "execute_result"
    }
   ],
   "source": [
    "max(ys)"
   ]
  },
  {
   "cell_type": "code",
   "execution_count": 20,
   "metadata": {
    "collapsed": false
   },
   "outputs": [
    {
     "data": {
      "text/plain": [
       "-24.931854454742556"
      ]
     },
     "execution_count": 20,
     "metadata": {},
     "output_type": "execute_result"
    }
   ],
   "source": [
    "max(fitness)"
   ]
  },
  {
   "cell_type": "code",
   "execution_count": null,
   "metadata": {
    "collapsed": true
   },
   "outputs": [],
   "source": []
  }
 ],
 "metadata": {
  "kernelspec": {
   "display_name": "Python 2",
   "language": "python",
   "name": "python2"
  },
  "language_info": {
   "codemirror_mode": {
    "name": "ipython",
    "version": 2
   },
   "file_extension": ".py",
   "mimetype": "text/x-python",
   "name": "python",
   "nbconvert_exporter": "python",
   "pygments_lexer": "ipython2",
   "version": "2.7.13"
  }
 },
 "nbformat": 4,
 "nbformat_minor": 2
}
