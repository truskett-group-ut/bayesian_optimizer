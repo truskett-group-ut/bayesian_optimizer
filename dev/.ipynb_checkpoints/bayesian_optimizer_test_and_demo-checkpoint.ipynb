{
 "cells": [
  {
   "cell_type": "markdown",
   "metadata": {},
   "source": [
    "# Bayesian optimizer test and demo notebook"
   ]
  },
  {
   "cell_type": "code",
   "execution_count": 1,
   "metadata": {
    "collapsed": false
   },
   "outputs": [],
   "source": [
    "from bayesian_optimizer import BayesianOptimizer\n",
    "from random import uniform\n",
    "from numpy import array, arange\n",
    "\n",
    "import matplotlib.pyplot as plt\n",
    "%matplotlib inline "
   ]
  },
  {
   "cell_type": "markdown",
   "metadata": {},
   "source": [
    "### (1) Demo optimization of a 4D Rosenbrock function (this is hard for BO)"
   ]
  },
  {
   "cell_type": "code",
   "execution_count": 14,
   "metadata": {
    "collapsed": true
   },
   "outputs": [],
   "source": [
    "def Rosen(x):\n",
    "    \"\"\"The Rosenbrock function\"\"\"\n",
    "    return -1.0*sum(100.0*(x[1:]-x[:-1]**2.0)**2.0 + (1-x[:-1])**2.0)"
   ]
  },
  {
   "cell_type": "markdown",
   "metadata": {},
   "source": [
    "**Generate a random sampling of the function to be optimized**"
   ]
  },
  {
   "cell_type": "code",
   "execution_count": 15,
   "metadata": {
    "collapsed": false
   },
   "outputs": [],
   "source": [
    "ranges = [(0.5,1.5), (0.5,1.5), (0.5,1.5), (0.5,1.5)]\n",
    "#ranges = [(0.0,2.0), (0.0,2.0), (0.0,2.0), (0.0,2.0)]\n",
    "halton = Halton(ranges)\n",
    "features = []\n",
    "fitness = []\n",
    "for i in range(20):\n",
    "    #x_rand = array([uniform(lower, upper) for lower, upper in ranges])\n",
    "    x_rand = array(halton.Get())\n",
    "    features.append(x_rand.tolist())\n",
    "    fitness.append(Rosen(x_rand))"
   ]
  },
  {
   "cell_type": "code",
   "execution_count": 16,
   "metadata": {
    "collapsed": false
   },
   "outputs": [
    {
     "name": "stdout",
     "output_type": "stream",
     "text": [
      "[-5.2351725875535422, -57.923339159737914, -151.44452402142841, -85.816785224499341, -204.85688368714963, -70.654369659546887, -86.106718127218741, -218.1303743163221, -243.85574945472987, -45.324941210887175, -95.232903297624318, -42.17455619727258, -23.161787484336216, -217.3469048337935, -180.40299468874153, -82.275181904723055, -116.49456204899694, -93.846689851752473, -147.72020258346728, -235.86870918991823]\n"
     ]
    }
   ],
   "source": [
    "print fitness"
   ]
  },
  {
   "cell_type": "markdown",
   "metadata": {},
   "source": [
    "**Initialize the optimizer and regressor**"
   ]
  },
  {
   "cell_type": "code",
   "execution_count": 18,
   "metadata": {
    "collapsed": false
   },
   "outputs": [],
   "source": [
    "bayesian_optimizer = BayesianOptimizer()\n",
    "bayesian_optimizer.InitalizeRegressor()\n",
    "bayesian_optimizer.InitializeSuggestionEngine(num_suggestions=1, method='kg')\n",
    "bayesian_optimizer.InitializeOptimizer(rand_starts=50, tol=1e-5)\n",
    "bayesian_optimizer.InitialSamples(features, fitness)\n",
    "bayesian_optimizer.SetRanges(ranges)"
   ]
  },
  {
   "cell_type": "markdown",
   "metadata": {},
   "source": [
    "**Basic loop to iteratively optimize**"
   ]
  },
  {
   "cell_type": "code",
   "execution_count": 19,
   "metadata": {
    "collapsed": false
   },
   "outputs": [
    {
     "name": "stdout",
     "output_type": "stream",
     "text": [
      "iteration 0\n",
      "iteration 10\n",
      "iteration 20\n"
     ]
    }
   ],
   "source": [
    "xs = []\n",
    "ys = []\n",
    "for i in range(30):\n",
    "    if i % 10 == 0:\n",
    "        print 'iteration %i' % i\n",
    "    suggestions = bayesian_optimizer.Suggest()\n",
    "    xs_batch = []\n",
    "    ys_batch = []\n",
    "    for suggestion in suggestions:\n",
    "        xs_batch.append(suggestion)\n",
    "        ys_batch.append(Rosen(array(suggestion)))\n",
    "    xs.append(xs_batch)\n",
    "    ys.append(ys_batch)\n",
    "    bayesian_optimizer.AddSamples(xs_batch, ys_batch)"
   ]
  },
  {
   "cell_type": "code",
   "execution_count": 21,
   "metadata": {
    "collapsed": false
   },
   "outputs": [
    {
     "data": {
      "text/plain": [
       "[[-3.4606322197008987],\n",
       " [-5.5832232641227026],\n",
       " [-36.567877510547277],\n",
       " [-181.51831802848946],\n",
       " [-11.347927145492958],\n",
       " [-14.823187473575455],\n",
       " [-3.2608194693771457],\n",
       " [-19.499664941050451],\n",
       " [-26.180727875864783],\n",
       " [-8.5360104026338544],\n",
       " [-0.7034669730433829],\n",
       " [-1.3344797426351076],\n",
       " [-1.7057483067605068],\n",
       " [-27.425465390730871],\n",
       " [-4.8801488830062922],\n",
       " [-14.856285030125802],\n",
       " [-0.381557488637711],\n",
       " [-70.808597713276015],\n",
       " [-2.5207720206170219],\n",
       " [-0.63493688762595746],\n",
       " [-1.8042880176688547],\n",
       " [-7.5512459021110656],\n",
       " [-0.55056569700965585],\n",
       " [-1.66526208668038],\n",
       " [-1.9875316991027379],\n",
       " [-1.7552465822148413],\n",
       " [-1.3089332775161848],\n",
       " [-0.035967643510371738],\n",
       " [-1.6232353201594183],\n",
       " [-0.67188384817175051]]"
      ]
     },
     "execution_count": 21,
     "metadata": {},
     "output_type": "execute_result"
    }
   ],
   "source": [
    "ys[0:]"
   ]
  },
  {
   "cell_type": "code",
   "execution_count": 5,
   "metadata": {
    "collapsed": true
   },
   "outputs": [],
   "source": [
    "bayesian_optimizer = BayesianOptimizer()\n",
    "bayesian_optimizer.InitalizeRegressor()\n",
    "bayesian_optimizer.InitializeSuggestionEngine(num_suggestions=3, method='kg', rand_starts__max_pred_fitness=200)\n",
    "bayesian_optimizer.InitializeOptimizer(rand_starts=50, tol=1e-5)\n",
    "bayesian_optimizer.InitialSamples(features, fitness)\n",
    "bayesian_optimizer.SetRanges(ranges)"
   ]
  },
  {
   "cell_type": "code",
   "execution_count": 6,
   "metadata": {
    "collapsed": false
   },
   "outputs": [
    {
     "name": "stdout",
     "output_type": "stream",
     "text": [
      "iteration 0\n",
      "iteration 10\n",
      "iteration 20\n"
     ]
    }
   ],
   "source": [
    "xs = []\n",
    "ys = []\n",
    "for i in range(30):\n",
    "    if i % 10 == 0:\n",
    "        print 'iteration %i' % i\n",
    "    suggestions = bayesian_optimizer.Suggest()\n",
    "    xs_batch = []\n",
    "    ys_batch = []\n",
    "    for suggestion in suggestions:\n",
    "        xs_batch.append(suggestion)\n",
    "        ys_batch.append(Rosen(array(suggestion)))\n",
    "    xs.append(xs_batch)\n",
    "    ys.append(ys_batch)\n",
    "    bayesian_optimizer.AddSamples(xs_batch, ys_batch)"
   ]
  },
  {
   "cell_type": "code",
   "execution_count": 9,
   "metadata": {
    "collapsed": false
   },
   "outputs": [
    {
     "data": {
      "text/plain": [
       "[[-65.403542576718067, -75.603695263825657, -379.35168464461839],\n",
       " [-32.206852830727819, -35.701691230892365, -36.716176582406675],\n",
       " [-24.261455922313917, -27.788085850343609, -28.73291976880822],\n",
       " [-15.876272481506163, -15.999510138731733, -15.991378139410461],\n",
       " [-12.308132232280828, -12.290578369075487, -12.277783076327601],\n",
       " [-122.26728339995175, -9.1946002095957251, -8.4440169979818638],\n",
       " [-8.4538528313976844, -8.6571842904219825, -8.7134983992586523],\n",
       " [-7.8305700424320719, -7.8493812068104205, -7.8524932534050755],\n",
       " [-49.068986296491694, -68.342412794042275, -56.277372112779879],\n",
       " [-7.4952396661302654, -41.496643131017592, -7.4286153890145279],\n",
       " [-7.4665125437541278, -8.0920272493853087, -7.6048152356416967],\n",
       " [-7.189689449091512, -1203.0, -30.35997977204336],\n",
       " [-6.399702437436309, -6.3636287536512013, -7.1175613115962797],\n",
       " [-5.62051467174126, -5.6153678904000977, -5.5055972907534692],\n",
       " [-4.9279598013403891, -4.9200801975174819, -4.9561694783324395],\n",
       " [-4.5435044046758772, -5.2600908326464619, -4.6035197025077146],\n",
       " [-3.7252288050954334, -35.674573354451233, -41.953347464310134],\n",
       " [-12.326556553488366, -34.705800940352205, -54.258792918969171],\n",
       " [-16.346325902279659, -7.3991479799138862, -3.7250563449697189],\n",
       " [-9.8326135735214031, -17.09711555166361, -19.311392581934697],\n",
       " [-31.512903081315738, -31.337790895402293, -31.452404048876542],\n",
       " [-3.7620221473898612, -3.7312964119598226, -3.7307551905773706],\n",
       " [-3.0, -3.0, -3.0],\n",
       " [-3.0139098045165138, -3.0145372271711697, -3.0142748310937137],\n",
       " [-2.9901171446843056, -2.9901198654719408, -2.9901189946630509],\n",
       " [-2.9901428463979309, -2.9901442309557309, -2.9901462087560571],\n",
       " [-2.9901567494834538, -2.9901564830086378, -2.990159709250662],\n",
       " [-2.9901662084992799, -2.9901610630197402, -3.0],\n",
       " [-2.9901509685170273, -2.990152525083948, -2.9901509947364966],\n",
       " [-3.0, -2.9901567680273957, -2.9901588855109482]]"
      ]
     },
     "execution_count": 9,
     "metadata": {},
     "output_type": "execute_result"
    }
   ],
   "source": [
    "ys"
   ]
  },
  {
   "cell_type": "code",
   "execution_count": 13,
   "metadata": {
    "collapsed": false
   },
   "outputs": [
    {
     "data": {
      "text/plain": [
       "[-199.51410281626232,\n",
       " -219.10943051744778,\n",
       " -906.21769063924933,\n",
       " -167.30126084515678,\n",
       " -1003.8977574175101,\n",
       " -388.92336666194268,\n",
       " -297.1593921820745,\n",
       " -455.21053711865227,\n",
       " -75.637566725778527,\n",
       " -533.36947217538227,\n",
       " -304.88801717680622,\n",
       " -663.9522339839516,\n",
       " -60.518205316818367,\n",
       " -800.34864680955184,\n",
       " -56.166260779243984,\n",
       " -1506.8908300183271,\n",
       " -179.38757866726837,\n",
       " -723.62699017024158,\n",
       " -800.67122079237424,\n",
       " -210.99978507212703]"
      ]
     },
     "execution_count": 13,
     "metadata": {},
     "output_type": "execute_result"
    }
   ],
   "source": [
    "fitness"
   ]
  },
  {
   "cell_type": "code",
   "execution_count": null,
   "metadata": {
    "collapsed": true
   },
   "outputs": [],
   "source": []
  },
  {
   "cell_type": "code",
   "execution_count": 20,
   "metadata": {
    "collapsed": false
   },
   "outputs": [
    {
     "data": {
      "text/plain": [
       "-1.0990169904400786"
      ]
     },
     "execution_count": 20,
     "metadata": {},
     "output_type": "execute_result"
    }
   ],
   "source": [
    "max(ys)"
   ]
  },
  {
   "cell_type": "code",
   "execution_count": 21,
   "metadata": {
    "collapsed": false
   },
   "outputs": [
    {
     "data": {
      "text/plain": [
       "-68.451172236287661"
      ]
     },
     "execution_count": 21,
     "metadata": {},
     "output_type": "execute_result"
    }
   ],
   "source": [
    "max(fitness)"
   ]
  },
  {
   "cell_type": "code",
   "execution_count": 9,
   "metadata": {
    "collapsed": false
   },
   "outputs": [
    {
     "data": {
      "text/plain": [
       "[-2.2523411253730359, -1.0712801624597716, -21.958882413405973]"
      ]
     },
     "execution_count": 9,
     "metadata": {},
     "output_type": "execute_result"
    }
   ],
   "source": [
    "bayesian_optimizer.y_virtual_"
   ]
  },
  {
   "cell_type": "code",
   "execution_count": 13,
   "metadata": {
    "collapsed": false
   },
   "outputs": [
    {
     "data": {
      "text/plain": [
       "-22.332366058439675"
      ]
     },
     "execution_count": 13,
     "metadata": {},
     "output_type": "execute_result"
    }
   ],
   "source": [
    " Rosen(array(bayesian_optimizer.X_virtual_[0]))"
   ]
  },
  {
   "cell_type": "code",
   "execution_count": 10,
   "metadata": {
    "collapsed": false
   },
   "outputs": [
    {
     "data": {
      "text/plain": [
       "[[0.9362230305436231,\n",
       "  0.9635284796419378,\n",
       "  0.9398963470769153,\n",
       "  0.9303873443549345],\n",
       " [0.8842444802700317,\n",
       "  0.8705418100500977,\n",
       "  0.8002847818305886,\n",
       "  0.692575036421395],\n",
       " [0.5552498831551947,\n",
       "  0.7278643335063496,\n",
       "  0.5629005252360438,\n",
       "  0.2408752733307346]]"
      ]
     },
     "execution_count": 10,
     "metadata": {},
     "output_type": "execute_result"
    }
   ],
   "source": [
    "bayesian_optimizer.X_virtual_"
   ]
  },
  {
   "cell_type": "code",
   "execution_count": null,
   "metadata": {
    "collapsed": true
   },
   "outputs": [],
   "source": []
  },
  {
   "cell_type": "code",
   "execution_count": null,
   "metadata": {
    "collapsed": true
   },
   "outputs": [],
   "source": []
  },
  {
   "cell_type": "markdown",
   "metadata": {},
   "source": [
    "**Checking to see if it reproduces a function properly**"
   ]
  },
  {
   "cell_type": "code",
   "execution_count": 2,
   "metadata": {
    "collapsed": true
   },
   "outputs": [],
   "source": [
    "from halton import Halton"
   ]
  },
  {
   "cell_type": "code",
   "execution_count": 3,
   "metadata": {
    "collapsed": true
   },
   "outputs": [],
   "source": [
    "def Polynomial(x):\n",
    "    return 1.5 - 2.0*x + 3.3*x**2.0 - 0.1*x**4.0"
   ]
  },
  {
   "cell_type": "code",
   "execution_count": 4,
   "metadata": {
    "collapsed": false
   },
   "outputs": [],
   "source": [
    "ranges = [(-6.0,6.0)]\n",
    "halton = Halton(ranges)\n",
    "features = []\n",
    "fitness = []\n",
    "for i in range(1):\n",
    "    #x_rand = array([uniform(lower, upper) for lower, upper in ranges])\n",
    "    x_rand = array(halton.Get())\n",
    "    features.append(x_rand.tolist())\n",
    "    fitness.append(Polynomial(x_rand[0]))"
   ]
  },
  {
   "cell_type": "code",
   "execution_count": 5,
   "metadata": {
    "collapsed": false
   },
   "outputs": [
    {
     "name": "stdout",
     "output_type": "stream",
     "text": [
      "[[0.0]]\n"
     ]
    }
   ],
   "source": [
    "print features"
   ]
  },
  {
   "cell_type": "code",
   "execution_count": 6,
   "metadata": {
    "collapsed": false
   },
   "outputs": [
    {
     "name": "stdout",
     "output_type": "stream",
     "text": [
      "[1.5]\n"
     ]
    }
   ],
   "source": [
    "print fitness"
   ]
  },
  {
   "cell_type": "code",
   "execution_count": 7,
   "metadata": {
    "collapsed": false
   },
   "outputs": [],
   "source": [
    "bayesian_optimizer = BayesianOptimizer()\n",
    "bayesian_optimizer.InitalizeRegressor(white_noise=True)\n",
    "bayesian_optimizer.InitializeSuggestionEngine(num_suggestions=1, method='kg')\n",
    "bayesian_optimizer.InitializeOptimizer(rand_starts=100, tol=1e-5)\n",
    "bayesian_optimizer.InitialSamples(features, fitness)\n",
    "bayesian_optimizer.SetRanges(ranges)"
   ]
  },
  {
   "cell_type": "code",
   "execution_count": 8,
   "metadata": {
    "collapsed": false
   },
   "outputs": [],
   "source": [
    "x_points = arange(-6, 6, 0.1)\n",
    "y_points = Polynomial(x_points)"
   ]
  },
  {
   "cell_type": "code",
   "execution_count": 9,
   "metadata": {
    "collapsed": false
   },
   "outputs": [
    {
     "name": "stdout",
     "output_type": "stream",
     "text": [
      "iteration 0\n",
      "iteration 10\n",
      "iteration 20\n",
      "iteration 30\n",
      "iteration 40\n",
      "iteration 50\n",
      "iteration 60\n",
      "iteration 70\n",
      "iteration 80\n",
      "iteration 90\n"
     ]
    }
   ],
   "source": [
    "Y_pred = []\n",
    "EI_pred = []\n",
    "xs = []\n",
    "ys = []\n",
    "for i in range(100):\n",
    "    if i % 10 == 0:\n",
    "        print 'iteration %i' % i\n",
    "    suggestions = bayesian_optimizer.Suggest()\n",
    "    Y_pred.append(array([bayesian_optimizer.gaussian_process_regressor_.predict([[x]], return_std = False)[0] for x in x_points]))\n",
    "    EI_pred.append(array([bayesian_optimizer.ExpectedImprovement(array([x])) for x in x_points]))\n",
    "    xs_batch = []\n",
    "    ys_batch = []\n",
    "    for suggestion in suggestions:\n",
    "        xs_batch.append(suggestion)\n",
    "        ys_batch.append(Polynomial(suggestion[0]))\n",
    "    xs.append(xs_batch)\n",
    "    ys.append(ys_batch)\n",
    "    bayesian_optimizer.AddSamples(xs_batch, ys_batch)"
   ]
  },
  {
   "cell_type": "code",
   "execution_count": 14,
   "metadata": {
    "collapsed": false
   },
   "outputs": [
    {
     "data": {
      "text/plain": [
       "array([ -6.00000000e+00,  -5.90000000e+00,  -5.80000000e+00,\n",
       "        -5.70000000e+00,  -5.60000000e+00,  -5.50000000e+00,\n",
       "        -5.40000000e+00,  -5.30000000e+00,  -5.20000000e+00,\n",
       "        -5.10000000e+00,  -5.00000000e+00,  -4.90000000e+00,\n",
       "        -4.80000000e+00,  -4.70000000e+00,  -4.60000000e+00,\n",
       "        -4.50000000e+00,  -4.40000000e+00,  -4.30000000e+00,\n",
       "        -4.20000000e+00,  -4.10000000e+00,  -4.00000000e+00,\n",
       "        -3.90000000e+00,  -3.80000000e+00,  -3.70000000e+00,\n",
       "        -3.60000000e+00,  -3.50000000e+00,  -3.40000000e+00,\n",
       "        -3.30000000e+00,  -3.20000000e+00,  -3.10000000e+00,\n",
       "        -3.00000000e+00,  -2.90000000e+00,  -2.80000000e+00,\n",
       "        -2.70000000e+00,  -2.60000000e+00,  -2.50000000e+00,\n",
       "        -2.40000000e+00,  -2.30000000e+00,  -2.20000000e+00,\n",
       "        -2.10000000e+00,  -2.00000000e+00,  -1.90000000e+00,\n",
       "        -1.80000000e+00,  -1.70000000e+00,  -1.60000000e+00,\n",
       "        -1.50000000e+00,  -1.40000000e+00,  -1.30000000e+00,\n",
       "        -1.20000000e+00,  -1.10000000e+00,  -1.00000000e+00,\n",
       "        -9.00000000e-01,  -8.00000000e-01,  -7.00000000e-01,\n",
       "        -6.00000000e-01,  -5.00000000e-01,  -4.00000000e-01,\n",
       "        -3.00000000e-01,  -2.00000000e-01,  -1.00000000e-01,\n",
       "        -2.13162821e-14,   1.00000000e-01,   2.00000000e-01,\n",
       "         3.00000000e-01,   4.00000000e-01,   5.00000000e-01,\n",
       "         6.00000000e-01,   7.00000000e-01,   8.00000000e-01,\n",
       "         9.00000000e-01,   1.00000000e+00,   1.10000000e+00,\n",
       "         1.20000000e+00,   1.30000000e+00,   1.40000000e+00,\n",
       "         1.50000000e+00,   1.60000000e+00,   1.70000000e+00,\n",
       "         1.80000000e+00,   1.90000000e+00,   2.00000000e+00,\n",
       "         2.10000000e+00,   2.20000000e+00,   2.30000000e+00,\n",
       "         2.40000000e+00,   2.50000000e+00,   2.60000000e+00,\n",
       "         2.70000000e+00,   2.80000000e+00,   2.90000000e+00,\n",
       "         3.00000000e+00,   3.10000000e+00,   3.20000000e+00,\n",
       "         3.30000000e+00,   3.40000000e+00,   3.50000000e+00,\n",
       "         3.60000000e+00,   3.70000000e+00,   3.80000000e+00,\n",
       "         3.90000000e+00,   4.00000000e+00,   4.10000000e+00,\n",
       "         4.20000000e+00,   4.30000000e+00,   4.40000000e+00,\n",
       "         4.50000000e+00,   4.60000000e+00,   4.70000000e+00,\n",
       "         4.80000000e+00,   4.90000000e+00,   5.00000000e+00,\n",
       "         5.10000000e+00,   5.20000000e+00,   5.30000000e+00,\n",
       "         5.40000000e+00,   5.50000000e+00,   5.60000000e+00,\n",
       "         5.70000000e+00,   5.80000000e+00,   5.90000000e+00])"
      ]
     },
     "execution_count": 14,
     "metadata": {},
     "output_type": "execute_result"
    }
   ],
   "source": [
    "x_points"
   ]
  },
  {
   "cell_type": "code",
   "execution_count": 10,
   "metadata": {
    "collapsed": false
   },
   "outputs": [
    {
     "data": {
      "image/png": "[encoded data removed]",
      "text/plain": [
       "<matplotlib.figure.Figure at 0x97f0e80>"
      ]
     },
     "metadata": {},
     "output_type": "display_data"
    }
   ],
   "source": [
    "#things to plot\n",
    "lw = 0.05\n",
    "plt.plot(x_points, y_points, c=\"r\", linestyle = '-', linewidth = 5, label = \"Train\")\n",
    "for y_pred in Y_pred[0:100]:\n",
    "    plt.plot(x_points, y_pred, linestyle = '-', c = 'b', linewidth =lw, label = \"Train\")\n",
    "    lw = lw + 0.05\n",
    "    \n",
    "#model = bayesian_random_forest_optimizer.bootstrap_models[0]\n",
    "#y_pred = model.predict(x_col)\n",
    "#plt.plot(x, y_pred, c=\"b\", linestyle = '-', linewidth = 5, label = \"Train\")\n",
    "#plt.scatter(points, fitness, c=\"b\", s=90, alpha=0.9)"
   ]
  },
  {
   "cell_type": "code",
   "execution_count": 11,
   "metadata": {
    "collapsed": false
   },
   "outputs": [
    {
     "data": {
      "image/png": "[encoded data removed]",
      "text/plain": [
       "<matplotlib.figure.Figure at 0xa0fe320>"
      ]
     },
     "metadata": {},
     "output_type": "display_data"
    }
   ],
   "source": [
    "#things to plot\n",
    "lw = 0.02\n",
    "#plt.plot(x_points, y_points, c=\"r\", linestyle = '-', linewidth = 5, label = \"Train\")\n",
    "for ei_pred in EI_pred[0:]:\n",
    "    plt.plot(x_points, ei_pred, linestyle = '-', c = 'b', linewidth =lw, label = \"Train\")\n",
    "    lw = lw + 0.02\n",
    "plt.ylim(0.000000000001, 10)\n",
    "plt.yscale('log')"
   ]
  },
  {
   "cell_type": "code",
   "execution_count": 13,
   "metadata": {
    "collapsed": false
   },
   "outputs": [
    {
     "data": {
      "text/plain": [
       "[[36.99405813217163],\n",
       " [36.991962492655134],\n",
       " [14.635449333801489],\n",
       " [33.77619990287413],\n",
       " [-21.299999999999997],\n",
       " [36.58166310781803],\n",
       " [21.385942850126852],\n",
       " [36.951889794318134],\n",
       " [36.98001287435365],\n",
       " [36.82235084316345],\n",
       " [36.98401582069865],\n",
       " [36.9952764504155],\n",
       " [36.98271345697367],\n",
       " [36.99383400651516],\n",
       " [36.99507136224299],\n",
       " [36.979063239814636],\n",
       " [36.99341729726014],\n",
       " [36.9936515957843],\n",
       " [36.99183028217477],\n",
       " [36.994838821919885],\n",
       " [36.975076019058115],\n",
       " [36.99060521112631],\n",
       " [36.99522285562426],\n",
       " [36.99522587348502],\n",
       " [36.99472731367294],\n",
       " [36.99115407781893],\n",
       " [36.99349578385613],\n",
       " [36.99514452159785],\n",
       " [36.99478830534062],\n",
       " [36.991816139340465],\n",
       " [36.99185169518056],\n",
       " [36.993837135914276],\n",
       " [36.99527860103164],\n",
       " [36.99453775056048],\n",
       " [36.969559797352304],\n",
       " [36.99149623388351],\n",
       " [36.995285468892575],\n",
       " [36.995164835156274],\n",
       " [36.995176721718565],\n",
       " [36.99525539437192],\n",
       " [36.9843847716227],\n",
       " [36.99463448541667],\n",
       " [36.99471163225002],\n",
       " [36.99525008186051],\n",
       " [36.99270990605068],\n",
       " [36.99528630580559],\n",
       " [36.97868793364165],\n",
       " [36.99528644432705],\n",
       " [36.99308133750941],\n",
       " [36.99120775032101],\n",
       " [36.99508564596738],\n",
       " [36.99464567439771],\n",
       " [36.99520644583215],\n",
       " [36.9952598590225],\n",
       " [36.99527314530248],\n",
       " [36.99527058683941],\n",
       " [36.994314912023114],\n",
       " [36.99501452414969],\n",
       " [36.99523773057756],\n",
       " [36.99527961812436],\n",
       " [36.9950724396853],\n",
       " [36.99523104980692],\n",
       " [36.994848792317285],\n",
       " [36.995286429029846],\n",
       " [36.9949185996627],\n",
       " [36.993002557645056],\n",
       " [36.99460342539565],\n",
       " [36.995212687476865],\n",
       " [36.985479983282474],\n",
       " [36.99518074197837],\n",
       " [36.99522353439996],\n",
       " [36.99528239841898],\n",
       " [36.9952441943928],\n",
       " [36.995280255189755],\n",
       " [36.99524661498373],\n",
       " [36.994608047255824],\n",
       " [36.9946193079457],\n",
       " [36.99515286828179],\n",
       " [36.995134635784225],\n",
       " [36.995284302501254],\n",
       " [36.995240284393184],\n",
       " [36.9949322044576],\n",
       " [36.99485797085982],\n",
       " [36.99524377694897],\n",
       " [36.995214971700506],\n",
       " [36.994733906435826],\n",
       " [36.99527024709313],\n",
       " [36.99499846593261],\n",
       " [36.99528473580199],\n",
       " [36.994838283543245],\n",
       " [36.99145548346981],\n",
       " [36.995211006748065],\n",
       " [36.99146790829448],\n",
       " [36.99499125931888],\n",
       " [36.99498905355408],\n",
       " [36.99315923580738],\n",
       " [36.995269138635564],\n",
       " [36.99105065619557],\n",
       " [36.99520593814151],\n",
       " [36.98645996749183]]"
      ]
     },
     "execution_count": 13,
     "metadata": {},
     "output_type": "execute_result"
    }
   ],
   "source": [
    "ys"
   ]
  },
  {
   "cell_type": "code",
   "execution_count": 115,
   "metadata": {
    "collapsed": false
   },
   "outputs": [
    {
     "data": {
      "text/plain": [
       "[[0.0],\n",
       " [-4.21875],\n",
       " [-4.21874997859161],\n",
       " [-4.218750029911325],\n",
       " [-4.218750028495364],\n",
       " [-4.218750161311195],\n",
       " [-4.218750690148054],\n",
       " [-4.218751514864318],\n",
       " [-4.218751184181312],\n",
       " [-4.218751676835951],\n",
       " [-4.218752595703349],\n",
       " [-4.218753507728049],\n",
       " [-4.218754531629923],\n",
       " [-4.218759493207736],\n",
       " [-4.218779344024542],\n",
       " [-4.219024710562787],\n",
       " [-4.22350609799024],\n",
       " [-4.238709367177222],\n",
       " [-4.207048157425576],\n",
       " [-4.203311312606457],\n",
       " [-4.203472859147806],\n",
       " [-4.213813119364362],\n",
       " [-4.203363160711004],\n",
       " [-4.203244805210804],\n",
       " [-4.203314711337923],\n",
       " [-4.203296741942638],\n",
       " [-4.20325640513286],\n",
       " [-4.203235739930815],\n",
       " [-4.203041417378778],\n",
       " [-4.20320686839225],\n",
       " [-4.203180176098715],\n",
       " [-4.203149430328133],\n",
       " [-4.20314682738442],\n",
       " [-4.2031788809966635],\n",
       " [-4.203859637823006],\n",
       " [-4.201909105942445],\n",
       " [-4.203139320915289],\n",
       " [-4.2031955593162404],\n",
       " [-4.184536759064294],\n",
       " [-4.204900861073781],\n",
       " [-4.20478485844727],\n",
       " [-4.204900503118738],\n",
       " [-4.205661370054708],\n",
       " [-4.206356782877366],\n",
       " [-4.204684792360731],\n",
       " [-4.2044007290548295],\n",
       " [-4.205056094359561],\n",
       " [-4.20707873855385],\n",
       " [-4.2048159407515735],\n",
       " [-4.206096156829135],\n",
       " [-4.187711271402808],\n",
       " [-4.205174764968549],\n",
       " [-4.213617180048018],\n",
       " [-4.205225982163689],\n",
       " [-5.286573323239153],\n",
       " [-4.206146270982921],\n",
       " [-4.206139405417818],\n",
       " [-4.205981940037317],\n",
       " [-4.206135629574984],\n",
       " [-4.206084881787615],\n",
       " [-4.2061236998937295],\n",
       " [-4.206110241761984],\n",
       " [-4.206101271380617],\n",
       " [-4.206143876206337],\n",
       " [-4.2060698923058535],\n",
       " [-4.206130083774428],\n",
       " [-4.206118935389524],\n",
       " [-4.206148402312787],\n",
       " [-4.206076947797741],\n",
       " [-4.206132146002231],\n",
       " [-4.206093294766989],\n",
       " [-4.20603790704039],\n",
       " [-4.206114382041804],\n",
       " [-4.206139964236688],\n",
       " [-4.206072622335538],\n",
       " [-4.206126142467459],\n",
       " [-4.206124708548686],\n",
       " [-4.206079877119087],\n",
       " [-4.206060818548804],\n",
       " [-4.206089559298421],\n",
       " [-4.205979804015939],\n",
       " [-4.206029686688112],\n",
       " [-4.206016947640262],\n",
       " [-4.206040849621167],\n",
       " [-4.206040765190752],\n",
       " [-4.20603376569827],\n",
       " [-4.205986338365067],\n",
       " [-4.202246338131527],\n",
       " [-4.205980211639354],\n",
       " [-4.206007944407384],\n",
       " [-4.2060054415911665],\n",
       " [-4.20616019721951],\n",
       " [-4.206003688810573],\n",
       " [-4.2059846450007],\n",
       " [-4.205744966754784],\n",
       " [-4.205997746156018],\n",
       " [-4.206003427943423],\n",
       " [-4.209132571638571],\n",
       " [-4.205992558237728],\n",
       " [-4.205956633550151],\n",
       " [-4.205941364057431]]"
      ]
     },
     "execution_count": 115,
     "metadata": {},
     "output_type": "execute_result"
    }
   ],
   "source": [
    "bayesian_optimizer.X_"
   ]
  },
  {
   "cell_type": "code",
   "execution_count": 47,
   "metadata": {
    "collapsed": false
   },
   "outputs": [],
   "source": [
    "x = arange(-6, 6, 0.1)"
   ]
  },
  {
   "cell_type": "code",
   "execution_count": 48,
   "metadata": {
    "collapsed": false
   },
   "outputs": [
    {
     "data": {
      "text/plain": [
       "array([ -6.00000000e+00,  -5.90000000e+00,  -5.80000000e+00,\n",
       "        -5.70000000e+00,  -5.60000000e+00,  -5.50000000e+00,\n",
       "        -5.40000000e+00,  -5.30000000e+00,  -5.20000000e+00,\n",
       "        -5.10000000e+00,  -5.00000000e+00,  -4.90000000e+00,\n",
       "        -4.80000000e+00,  -4.70000000e+00,  -4.60000000e+00,\n",
       "        -4.50000000e+00,  -4.40000000e+00,  -4.30000000e+00,\n",
       "        -4.20000000e+00,  -4.10000000e+00,  -4.00000000e+00,\n",
       "        -3.90000000e+00,  -3.80000000e+00,  -3.70000000e+00,\n",
       "        -3.60000000e+00,  -3.50000000e+00,  -3.40000000e+00,\n",
       "        -3.30000000e+00,  -3.20000000e+00,  -3.10000000e+00,\n",
       "        -3.00000000e+00,  -2.90000000e+00,  -2.80000000e+00,\n",
       "        -2.70000000e+00,  -2.60000000e+00,  -2.50000000e+00,\n",
       "        -2.40000000e+00,  -2.30000000e+00,  -2.20000000e+00,\n",
       "        -2.10000000e+00,  -2.00000000e+00,  -1.90000000e+00,\n",
       "        -1.80000000e+00,  -1.70000000e+00,  -1.60000000e+00,\n",
       "        -1.50000000e+00,  -1.40000000e+00,  -1.30000000e+00,\n",
       "        -1.20000000e+00,  -1.10000000e+00,  -1.00000000e+00,\n",
       "        -9.00000000e-01,  -8.00000000e-01,  -7.00000000e-01,\n",
       "        -6.00000000e-01,  -5.00000000e-01,  -4.00000000e-01,\n",
       "        -3.00000000e-01,  -2.00000000e-01,  -1.00000000e-01,\n",
       "        -2.13162821e-14,   1.00000000e-01,   2.00000000e-01,\n",
       "         3.00000000e-01,   4.00000000e-01,   5.00000000e-01,\n",
       "         6.00000000e-01,   7.00000000e-01,   8.00000000e-01,\n",
       "         9.00000000e-01,   1.00000000e+00,   1.10000000e+00,\n",
       "         1.20000000e+00,   1.30000000e+00,   1.40000000e+00,\n",
       "         1.50000000e+00,   1.60000000e+00,   1.70000000e+00,\n",
       "         1.80000000e+00,   1.90000000e+00,   2.00000000e+00,\n",
       "         2.10000000e+00,   2.20000000e+00,   2.30000000e+00,\n",
       "         2.40000000e+00,   2.50000000e+00,   2.60000000e+00,\n",
       "         2.70000000e+00,   2.80000000e+00,   2.90000000e+00,\n",
       "         3.00000000e+00,   3.10000000e+00,   3.20000000e+00,\n",
       "         3.30000000e+00,   3.40000000e+00,   3.50000000e+00,\n",
       "         3.60000000e+00,   3.70000000e+00,   3.80000000e+00,\n",
       "         3.90000000e+00,   4.00000000e+00,   4.10000000e+00,\n",
       "         4.20000000e+00,   4.30000000e+00,   4.40000000e+00,\n",
       "         4.50000000e+00,   4.60000000e+00,   4.70000000e+00,\n",
       "         4.80000000e+00,   4.90000000e+00,   5.00000000e+00,\n",
       "         5.10000000e+00,   5.20000000e+00,   5.30000000e+00,\n",
       "         5.40000000e+00,   5.50000000e+00,   5.60000000e+00,\n",
       "         5.70000000e+00,   5.80000000e+00,   5.90000000e+00])"
      ]
     },
     "execution_count": 48,
     "metadata": {},
     "output_type": "execute_result"
    }
   ],
   "source": [
    "x"
   ]
  },
  {
   "cell_type": "code",
   "execution_count": null,
   "metadata": {
    "collapsed": true
   },
   "outputs": [],
   "source": []
  },
  {
   "cell_type": "code",
   "execution_count": 58,
   "metadata": {
    "collapsed": false
   },
   "outputs": [
    {
     "data": {
      "text/plain": [
       "6.1062782093520092"
      ]
     },
     "execution_count": 58,
     "metadata": {},
     "output_type": "execute_result"
    }
   ],
   "source": [
    "bayesian_optimizer.gaussian_process_regressor_.predict([[2.4]], return_std = False)[0]"
   ]
  },
  {
   "cell_type": "code",
   "execution_count": 7,
   "metadata": {
    "collapsed": false
   },
   "outputs": [
    {
     "data": {
      "text/plain": [
       "GaussianProcessRegressor_(nu=1.5)"
      ]
     },
     "execution_count": 7,
     "metadata": {},
     "output_type": "execute_result"
    }
   ],
   "source": [
    "bayesian_optimizer.gaussian_process_regressor_"
   ]
  },
  {
   "cell_type": "code",
   "execution_count": 23,
   "metadata": {
    "collapsed": true
   },
   "outputs": [],
   "source": [
    "import ghalton\n",
    "sequencer = ghalton.Halton(3)"
   ]
  },
  {
   "cell_type": "code",
   "execution_count": 31,
   "metadata": {
    "collapsed": false
   },
   "outputs": [
    {
     "data": {
      "text/plain": [
       "[[0.75, 0.1111111111111111, 0.6]]"
      ]
     },
     "execution_count": 31,
     "metadata": {},
     "output_type": "execute_result"
    }
   ],
   "source": [
    "points = sequencer.get(1)\n",
    "points"
   ]
  },
  {
   "cell_type": "code",
   "execution_count": 16,
   "metadata": {
    "collapsed": false
   },
   "outputs": [
    {
     "data": {
      "text/plain": [
       "-1"
      ]
     },
     "execution_count": 16,
     "metadata": {},
     "output_type": "execute_result"
    }
   ],
   "source": [
    "0-1"
   ]
  },
  {
   "cell_type": "code",
   "execution_count": null,
   "metadata": {
    "collapsed": true
   },
   "outputs": [],
   "source": [
    "x_l x_u"
   ]
  },
  {
   "cell_type": "code",
   "execution_count": null,
   "metadata": {
    "collapsed": true
   },
   "outputs": [],
   "source": [
    "[x_l - x_l, x_u - x_l]"
   ]
  },
  {
   "cell_type": "code",
   "execution_count": 33,
   "metadata": {
    "collapsed": false
   },
   "outputs": [],
   "source": [
    "import ghalton\n",
    "\n",
    "class Halton:\n",
    "    def __init__(self, ranges):\n",
    "        self.num_dim = len(ranges)\n",
    "        self.lower, self.upper = zip(*ranges)\n",
    "        self.sequencer = ghalton.Halton(self.num_dim)\n",
    "        return None\n",
    "    def Get(self, num_points=1):\n",
    "        point = self.sequencer.get(1)[0]\n",
    "        scaled_point = []\n",
    "        for i in range(self.num_dim):\n",
    "            scaled_point.append(point[i]*(self.upper[i] - self.lower[i]) + self.lower[i])\n",
    "        return scaled_point"
   ]
  },
  {
   "cell_type": "code",
   "execution_count": 34,
   "metadata": {
    "collapsed": false
   },
   "outputs": [],
   "source": [
    "halton = Halton([(-2,0),(-12,-11),(0,1)])"
   ]
  },
  {
   "cell_type": "code",
   "execution_count": 38,
   "metadata": {
    "collapsed": false
   },
   "outputs": [
    {
     "data": {
      "text/plain": [
       "[-1.75, -11.555555555555555, 0.8]"
      ]
     },
     "execution_count": 38,
     "metadata": {},
     "output_type": "execute_result"
    }
   ],
   "source": [
    "halton.Get()"
   ]
  },
  {
   "cell_type": "code",
   "execution_count": 32,
   "metadata": {
    "collapsed": false
   },
   "outputs": [
    {
     "data": {
      "text/plain": [
       "-11.8888888889"
      ]
     },
     "execution_count": 32,
     "metadata": {},
     "output_type": "execute_result"
    }
   ],
   "source": [
    "(-11 - (-12))*0.1111111111 + -12"
   ]
  },
  {
   "cell_type": "code",
   "execution_count": null,
   "metadata": {
    "collapsed": true
   },
   "outputs": [],
   "source": []
  }
 ],
 "metadata": {
  "kernelspec": {
   "display_name": "Python 2",
   "language": "python",
   "name": "python2"
  },
  "language_info": {
   "codemirror_mode": {
    "name": "ipython",
    "version": 2
   },
   "file_extension": ".py",
   "mimetype": "text/x-python",
   "name": "python",
   "nbconvert_exporter": "python",
   "pygments_lexer": "ipython2",
   "version": "2.7.13"
  }
 },
 "nbformat": 4,
 "nbformat_minor": 2
}
