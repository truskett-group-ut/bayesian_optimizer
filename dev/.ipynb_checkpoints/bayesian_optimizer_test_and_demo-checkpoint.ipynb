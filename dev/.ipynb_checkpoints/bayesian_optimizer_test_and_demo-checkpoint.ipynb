{
 "cells": [
  {
   "cell_type": "markdown",
   "metadata": {},
   "source": [
    "# Bayesian optimizer test and demo notebook"
   ]
  },
  {
   "cell_type": "code",
   "execution_count": 1,
   "metadata": {
    "collapsed": false
   },
   "outputs": [],
   "source": [
    "from bayesian_optimizer import BayesianOptimizer\n",
    "from random import uniform\n",
    "from numpy import array, arange\n",
    "import matplotlib.pyplot as plt\n",
    "%matplotlib inline "
   ]
  },
  {
   "cell_type": "markdown",
   "metadata": {},
   "source": [
    "### I. Demo optimization of a 4D Rosenbrock function (this is hard for BO)"
   ]
  },
  {
   "cell_type": "code",
   "execution_count": 2,
   "metadata": {
    "collapsed": true
   },
   "outputs": [],
   "source": [
    "def Rosen(x):\n",
    "    \"\"\"The Rosenbrock function\"\"\"\n",
    "    return -1.0*sum(100.0*(x[1:]-x[:-1]**2.0)**2.0 + (1-x[:-1])**2.0)"
   ]
  },
  {
   "cell_type": "markdown",
   "metadata": {},
   "source": [
    "**Generate a random sampling of the function to be optimized**"
   ]
  },
  {
   "cell_type": "code",
   "execution_count": 13,
   "metadata": {
    "collapsed": true
   },
   "outputs": [],
   "source": [
    "ranges = [(0.0,2.0), (0.0,2.0), (0.0,2.0), (0.0,2.0)]\n",
    "bayesian_optimizer = BayesianOptimizer()\n",
    "bayesian_optimizer.SetRanges(ranges)"
   ]
  },
  {
   "cell_type": "code",
   "execution_count": 14,
   "metadata": {
    "collapsed": false
   },
   "outputs": [],
   "source": [
    "features = bayesian_optimizer.SuggestInitialSamples(num_samples=20)\n",
    "fitness = [Rosen(array(feature)) for feature in features]"
   ]
  },
  {
   "cell_type": "code",
   "execution_count": 15,
   "metadata": {
    "collapsed": false
   },
   "outputs": [
    {
     "name": "stdout",
     "output_type": "stream",
     "text": [
      "[-13.360161249685058, -213.83736457545979, -578.44746818709177, -335.64609452617373, -750.92397227173876, -230.20581596928352, -447.76744550358637, -837.6930369463654, -912.19267151860004, -104.38112181966183, -430.40156973720491, -109.39268920037318, -105.94339947557086, -1065.4725088684531, -909.51739051188872, -204.98322039871991, -625.93794162298525, -277.12773384104929, -755.66292264728827, -830.94732586007058]\n"
     ]
    }
   ],
   "source": [
    "print fitness"
   ]
  },
  {
   "cell_type": "markdown",
   "metadata": {},
   "source": [
    "**Initialize the optimizer and regressor using the \"expected improvement\"**"
   ]
  },
  {
   "cell_type": "code",
   "execution_count": 21,
   "metadata": {
    "collapsed": false
   },
   "outputs": [],
   "source": [
    "bayesian_optimizer.InitalizeRegressor()\n",
    "bayesian_optimizer.InitializeSuggestionEngine(num_suggestions=4, method='ei')\n",
    "bayesian_optimizer.InitializeOptimizer(rand_starts=100, tol=1e-5)\n",
    "bayesian_optimizer.InitialSamples(features, fitness)"
   ]
  },
  {
   "cell_type": "markdown",
   "metadata": {},
   "source": [
    "**Basic loop to iteratively optimize**"
   ]
  },
  {
   "cell_type": "code",
   "execution_count": 22,
   "metadata": {
    "collapsed": false
   },
   "outputs": [
    {
     "name": "stdout",
     "output_type": "stream",
     "text": [
      "iteration 0\n",
      "iteration 10\n",
      "iteration 20\n"
     ]
    }
   ],
   "source": [
    "xs = []\n",
    "ys = []\n",
    "for i in range(30):\n",
    "    if i % 10 == 0:\n",
    "        print 'iteration %i' % i\n",
    "    suggestions = bayesian_optimizer.Suggest()\n",
    "    xs_batch = []\n",
    "    ys_batch = []\n",
    "    for suggestion in suggestions:\n",
    "        xs_batch.append(suggestion)\n",
    "        ys_batch.append(Rosen(array(suggestion)))\n",
    "    xs.append(xs_batch)\n",
    "    ys.append(ys_batch)\n",
    "    bayesian_optimizer.AddSamples(xs_batch, ys_batch)"
   ]
  },
  {
   "cell_type": "code",
   "execution_count": 25,
   "metadata": {
    "collapsed": false
   },
   "outputs": [
    {
     "data": {
      "text/plain": [
       "[-0.19787949110847625,\n",
       " -5.4794868210682743,\n",
       " -0.79385496909614484,\n",
       " -2.1426594738464853]"
      ]
     },
     "execution_count": 25,
     "metadata": {},
     "output_type": "execute_result"
    }
   ],
   "source": [
    "ys[-1]"
   ]
  },
  {
   "cell_type": "markdown",
   "metadata": {},
   "source": [
    "**Initialize the optimizer and regressor using the \"knowledge gradient\"**"
   ]
  },
  {
   "cell_type": "code",
   "execution_count": 26,
   "metadata": {
    "collapsed": true
   },
   "outputs": [],
   "source": [
    "bayesian_optimizer.InitalizeRegressor()\n",
    "bayesian_optimizer.InitializeSuggestionEngine(num_suggestions=4, method='kg', rand_starts__max_pred_fitness=200)\n",
    "bayesian_optimizer.InitializeOptimizer(rand_starts=100, tol=1e-5)\n",
    "bayesian_optimizer.InitialSamples(features, fitness)"
   ]
  },
  {
   "cell_type": "code",
   "execution_count": 27,
   "metadata": {
    "collapsed": false
   },
   "outputs": [
    {
     "name": "stdout",
     "output_type": "stream",
     "text": [
      "iteration 0\n",
      "iteration 10\n",
      "iteration 20\n"
     ]
    }
   ],
   "source": [
    "xs = []\n",
    "ys = []\n",
    "for i in range(30):\n",
    "    if i % 10 == 0:\n",
    "        print 'iteration %i' % i\n",
    "    suggestions = bayesian_optimizer.Suggest()\n",
    "    xs_batch = []\n",
    "    ys_batch = []\n",
    "    for suggestion in suggestions:\n",
    "        xs_batch.append(suggestion)\n",
    "        ys_batch.append(Rosen(array(suggestion)))\n",
    "    xs.append(xs_batch)\n",
    "    ys.append(ys_batch)\n",
    "    bayesian_optimizer.AddSamples(xs_batch, ys_batch)"
   ]
  },
  {
   "cell_type": "code",
   "execution_count": 32,
   "metadata": {
    "collapsed": false
   },
   "outputs": [
    {
     "data": {
      "text/plain": [
       "(-56.731452710842319,\n",
       " -828.07768177720232,\n",
       " -28.939273643911768,\n",
       " -16.430840591100377,\n",
       " -27.366453914247302,\n",
       " -18.477552981257645,\n",
       " -14.351942892713666,\n",
       " -4.5339706094171266,\n",
       " -2.094523013917323,\n",
       " -9.9458017092342779,\n",
       " -6.3496000803315411,\n",
       " -21.289495128235288,\n",
       " -3.2330902702110444,\n",
       " -4.6188628166716246,\n",
       " -1.7793858943268595,\n",
       " -5.5680033295557072,\n",
       " -19.256656675351046,\n",
       " -4.3234393131677722,\n",
       " -12.742780496213641,\n",
       " -0.91276464860432061,\n",
       " -4.6392851979992802,\n",
       " -1.1119262373838839,\n",
       " -1.0215015131845846,\n",
       " -0.86369487056692218,\n",
       " -0.66276918038100341,\n",
       " -4.5134492966379751,\n",
       " -1.2636272121579541,\n",
       " -1.9048585763895345,\n",
       " -0.53242875396047662,\n",
       " -2.1016347131688073)"
      ]
     },
     "execution_count": 32,
     "metadata": {},
     "output_type": "execute_result"
    }
   ],
   "source": [
    "zip(*ys)[0]"
   ]
  },
  {
   "cell_type": "code",
   "execution_count": null,
   "metadata": {
    "collapsed": true
   },
   "outputs": [],
   "source": []
  },
  {
   "cell_type": "code",
   "execution_count": 9,
   "metadata": {
    "collapsed": false
   },
   "outputs": [
    {
     "data": {
      "text/plain": [
       "[[-65.403542576718067, -75.603695263825657, -379.35168464461839],\n",
       " [-32.206852830727819, -35.701691230892365, -36.716176582406675],\n",
       " [-24.261455922313917, -27.788085850343609, -28.73291976880822],\n",
       " [-15.876272481506163, -15.999510138731733, -15.991378139410461],\n",
       " [-12.308132232280828, -12.290578369075487, -12.277783076327601],\n",
       " [-122.26728339995175, -9.1946002095957251, -8.4440169979818638],\n",
       " [-8.4538528313976844, -8.6571842904219825, -8.7134983992586523],\n",
       " [-7.8305700424320719, -7.8493812068104205, -7.8524932534050755],\n",
       " [-49.068986296491694, -68.342412794042275, -56.277372112779879],\n",
       " [-7.4952396661302654, -41.496643131017592, -7.4286153890145279],\n",
       " [-7.4665125437541278, -8.0920272493853087, -7.6048152356416967],\n",
       " [-7.189689449091512, -1203.0, -30.35997977204336],\n",
       " [-6.399702437436309, -6.3636287536512013, -7.1175613115962797],\n",
       " [-5.62051467174126, -5.6153678904000977, -5.5055972907534692],\n",
       " [-4.9279598013403891, -4.9200801975174819, -4.9561694783324395],\n",
       " [-4.5435044046758772, -5.2600908326464619, -4.6035197025077146],\n",
       " [-3.7252288050954334, -35.674573354451233, -41.953347464310134],\n",
       " [-12.326556553488366, -34.705800940352205, -54.258792918969171],\n",
       " [-16.346325902279659, -7.3991479799138862, -3.7250563449697189],\n",
       " [-9.8326135735214031, -17.09711555166361, -19.311392581934697],\n",
       " [-31.512903081315738, -31.337790895402293, -31.452404048876542],\n",
       " [-3.7620221473898612, -3.7312964119598226, -3.7307551905773706],\n",
       " [-3.0, -3.0, -3.0],\n",
       " [-3.0139098045165138, -3.0145372271711697, -3.0142748310937137],\n",
       " [-2.9901171446843056, -2.9901198654719408, -2.9901189946630509],\n",
       " [-2.9901428463979309, -2.9901442309557309, -2.9901462087560571],\n",
       " [-2.9901567494834538, -2.9901564830086378, -2.990159709250662],\n",
       " [-2.9901662084992799, -2.9901610630197402, -3.0],\n",
       " [-2.9901509685170273, -2.990152525083948, -2.9901509947364966],\n",
       " [-3.0, -2.9901567680273957, -2.9901588855109482]]"
      ]
     },
     "execution_count": 9,
     "metadata": {},
     "output_type": "execute_result"
    }
   ],
   "source": [
    "ys"
   ]
  },
  {
   "cell_type": "code",
   "execution_count": 13,
   "metadata": {
    "collapsed": false
   },
   "outputs": [
    {
     "data": {
      "text/plain": [
       "[-199.51410281626232,\n",
       " -219.10943051744778,\n",
       " -906.21769063924933,\n",
       " -167.30126084515678,\n",
       " -1003.8977574175101,\n",
       " -388.92336666194268,\n",
       " -297.1593921820745,\n",
       " -455.21053711865227,\n",
       " -75.637566725778527,\n",
       " -533.36947217538227,\n",
       " -304.88801717680622,\n",
       " -663.9522339839516,\n",
       " -60.518205316818367,\n",
       " -800.34864680955184,\n",
       " -56.166260779243984,\n",
       " -1506.8908300183271,\n",
       " -179.38757866726837,\n",
       " -723.62699017024158,\n",
       " -800.67122079237424,\n",
       " -210.99978507212703]"
      ]
     },
     "execution_count": 13,
     "metadata": {},
     "output_type": "execute_result"
    }
   ],
   "source": [
    "fitness"
   ]
  },
  {
   "cell_type": "code",
   "execution_count": null,
   "metadata": {
    "collapsed": true
   },
   "outputs": [],
   "source": []
  },
  {
   "cell_type": "code",
   "execution_count": 20,
   "metadata": {
    "collapsed": false
   },
   "outputs": [
    {
     "data": {
      "text/plain": [
       "-1.0990169904400786"
      ]
     },
     "execution_count": 20,
     "metadata": {},
     "output_type": "execute_result"
    }
   ],
   "source": [
    "max(ys)"
   ]
  },
  {
   "cell_type": "code",
   "execution_count": 21,
   "metadata": {
    "collapsed": false
   },
   "outputs": [
    {
     "data": {
      "text/plain": [
       "-68.451172236287661"
      ]
     },
     "execution_count": 21,
     "metadata": {},
     "output_type": "execute_result"
    }
   ],
   "source": [
    "max(fitness)"
   ]
  },
  {
   "cell_type": "code",
   "execution_count": 9,
   "metadata": {
    "collapsed": false
   },
   "outputs": [
    {
     "data": {
      "text/plain": [
       "[-2.2523411253730359, -1.0712801624597716, -21.958882413405973]"
      ]
     },
     "execution_count": 9,
     "metadata": {},
     "output_type": "execute_result"
    }
   ],
   "source": [
    "bayesian_optimizer.y_virtual_"
   ]
  },
  {
   "cell_type": "code",
   "execution_count": 13,
   "metadata": {
    "collapsed": false
   },
   "outputs": [
    {
     "data": {
      "text/plain": [
       "-22.332366058439675"
      ]
     },
     "execution_count": 13,
     "metadata": {},
     "output_type": "execute_result"
    }
   ],
   "source": [
    " Rosen(array(bayesian_optimizer.X_virtual_[0]))"
   ]
  },
  {
   "cell_type": "code",
   "execution_count": 10,
   "metadata": {
    "collapsed": false
   },
   "outputs": [
    {
     "data": {
      "text/plain": [
       "[[0.9362230305436231,\n",
       "  0.9635284796419378,\n",
       "  0.9398963470769153,\n",
       "  0.9303873443549345],\n",
       " [0.8842444802700317,\n",
       "  0.8705418100500977,\n",
       "  0.8002847818305886,\n",
       "  0.692575036421395],\n",
       " [0.5552498831551947,\n",
       "  0.7278643335063496,\n",
       "  0.5629005252360438,\n",
       "  0.2408752733307346]]"
      ]
     },
     "execution_count": 10,
     "metadata": {},
     "output_type": "execute_result"
    }
   ],
   "source": [
    "bayesian_optimizer.X_virtual_"
   ]
  },
  {
   "cell_type": "code",
   "execution_count": null,
   "metadata": {
    "collapsed": true
   },
   "outputs": [],
   "source": []
  },
  {
   "cell_type": "code",
   "execution_count": null,
   "metadata": {
    "collapsed": true
   },
   "outputs": [],
   "source": []
  },
  {
   "cell_type": "markdown",
   "metadata": {},
   "source": [
    "**Checking to see if it reproduces a function properly**"
   ]
  },
  {
   "cell_type": "code",
   "execution_count": 4,
   "metadata": {
    "collapsed": true
   },
   "outputs": [],
   "source": [
    "from halton import Halton"
   ]
  },
  {
   "cell_type": "code",
   "execution_count": 5,
   "metadata": {
    "collapsed": true
   },
   "outputs": [],
   "source": [
    "def Polynomial(x):\n",
    "    return 1.5 - 2.0*x + 3.3*x**2.0 - 0.1*x**4.0"
   ]
  },
  {
   "cell_type": "code",
   "execution_count": 9,
   "metadata": {
    "collapsed": false
   },
   "outputs": [],
   "source": [
    "ranges = [(-6.0,6.0)]\n",
    "halton = Halton(ranges)\n",
    "features = []\n",
    "fitness = []\n",
    "for i in range(3):\n",
    "    #x_rand = array([uniform(lower, upper) for lower, upper in ranges])\n",
    "    x_rand = array(halton.Get())\n",
    "    features.append(x_rand.tolist())\n",
    "    fitness.append(Polynomial(x_rand[0]))"
   ]
  },
  {
   "cell_type": "code",
   "execution_count": 10,
   "metadata": {
    "collapsed": false
   },
   "outputs": [
    {
     "name": "stdout",
     "output_type": "stream",
     "text": [
      "[[0.0], [-3.0], [3.0]]\n"
     ]
    }
   ],
   "source": [
    "print features"
   ]
  },
  {
   "cell_type": "code",
   "execution_count": 11,
   "metadata": {
    "collapsed": false
   },
   "outputs": [
    {
     "name": "stdout",
     "output_type": "stream",
     "text": [
      "[1.5, 29.100000000000001, 17.100000000000001]\n"
     ]
    }
   ],
   "source": [
    "print fitness"
   ]
  },
  {
   "cell_type": "code",
   "execution_count": null,
   "metadata": {
    "collapsed": true
   },
   "outputs": [],
   "source": [
    "x_points = arange(-6, 6, 0.1)\n",
    "y_points = Polynomial(x_points)"
   ]
  },
  {
   "cell_type": "code",
   "execution_count": null,
   "metadata": {
    "collapsed": true
   },
   "outputs": [],
   "source": []
  },
  {
   "cell_type": "code",
   "execution_count": 39,
   "metadata": {
    "collapsed": true
   },
   "outputs": [],
   "source": [
    "bayesian_optimizer = BayesianOptimizer()\n",
    "bayesian_optimizer.InitalizeRegressor(white_noise=True)\n",
    "bayesian_optimizer.InitializeSuggestionEngine(num_suggestions=1, method='ei')\n",
    "bayesian_optimizer.InitializeOptimizer(rand_starts=100, tol=1e-5)\n",
    "bayesian_optimizer.InitialSamples(features, fitness)\n",
    "bayesian_optimizer.SetRanges(ranges)"
   ]
  },
  {
   "cell_type": "code",
   "execution_count": 35,
   "metadata": {
    "collapsed": false
   },
   "outputs": [
    {
     "name": "stdout",
     "output_type": "stream",
     "text": [
      "iteration 0\n",
      "iteration 10\n",
      "iteration 20\n",
      "iteration 30\n",
      "iteration 40\n",
      "iteration 50\n",
      "iteration 60\n",
      "iteration 70\n",
      "iteration 80\n"
     ]
    },
    {
     "name": "stderr",
     "output_type": "stream",
     "text": [
      "C:\\Users\\rbj428\\AppData\\Local\\Continuum\\Anaconda2_3\\lib\\site-packages\\sklearn\\gaussian_process\\gpr.py:427: UserWarning: fmin_l_bfgs_b terminated abnormally with the  state: {'warnflag': 2, 'task': 'ABNORMAL_TERMINATION_IN_LNSRCH', 'grad': array([  1.38889322e-05]), 'nit': 5, 'funcalls': 62}\n",
      "  \" state: %s\" % convergence_dict)\n",
      "C:\\Users\\rbj428\\AppData\\Local\\Continuum\\Anaconda2_3\\lib\\site-packages\\sklearn\\gaussian_process\\gpr.py:427: UserWarning: fmin_l_bfgs_b terminated abnormally with the  state: {'warnflag': 2, 'task': 'ABNORMAL_TERMINATION_IN_LNSRCH', 'grad': array([ -1.07131376e-05]), 'nit': 3, 'funcalls': 59}\n",
      "  \" state: %s\" % convergence_dict)\n"
     ]
    },
    {
     "name": "stdout",
     "output_type": "stream",
     "text": [
      "iteration 90\n"
     ]
    }
   ],
   "source": [
    "Y_pred = []\n",
    "EI_pred = []\n",
    "xs = []\n",
    "ys = []\n",
    "for i in range(100):\n",
    "    if i % 10 == 0:\n",
    "        print 'iteration %i' % i\n",
    "    suggestions = bayesian_optimizer.Suggest()\n",
    "    Y_pred.append(array([bayesian_optimizer.gaussian_process_regressor_.predict([[x]], return_std = False)[0] for x in x_points]))\n",
    "    EI_pred.append(array([bayesian_optimizer.ExpectedImprovement(array([x])) for x in x_points]))\n",
    "    xs_batch = []\n",
    "    ys_batch = []\n",
    "    for suggestion in suggestions:\n",
    "        xs_batch.append(suggestion)\n",
    "        ys_batch.append(Polynomial(suggestion[0]))\n",
    "    xs.append(xs_batch)\n",
    "    ys.append(ys_batch)\n",
    "    bayesian_optimizer.AddSamples(xs_batch, ys_batch)"
   ]
  },
  {
   "cell_type": "code",
   "execution_count": 36,
   "metadata": {
    "collapsed": false
   },
   "outputs": [
    {
     "data": {
      "image/png": "[encoded data removed]",
      "text/plain": [
       "<matplotlib.figure.Figure at 0x9e4a048>"
      ]
     },
     "metadata": {},
     "output_type": "display_data"
    }
   ],
   "source": [
    "#things to plot\n",
    "lw = 0.05\n",
    "plt.plot(x_points, y_points, c=\"r\", linestyle = '-', linewidth = 5, label = \"Train\")\n",
    "for y_pred in Y_pred[0:100]:\n",
    "    plt.plot(x_points, y_pred, linestyle = '-', c = 'b', linewidth =lw, label = \"Train\")\n",
    "    lw = lw + 0.05"
   ]
  },
  {
   "cell_type": "code",
   "execution_count": 37,
   "metadata": {
    "collapsed": false
   },
   "outputs": [
    {
     "data": {
      "image/png": "[encoded data removed]",
      "text/plain": [
       "<matplotlib.figure.Figure at 0x9e69cc0>"
      ]
     },
     "metadata": {},
     "output_type": "display_data"
    }
   ],
   "source": [
    "#things to plot\n",
    "lw = 0.02\n",
    "#plt.plot(x_points, y_points, c=\"r\", linestyle = '-', linewidth = 5, label = \"Train\")\n",
    "for ei_pred in EI_pred[0:]:\n",
    "    plt.plot(x_points, ei_pred, linestyle = '-', c = 'b', linewidth =lw, label = \"Train\")\n",
    "    lw = lw + 0.02\n",
    "plt.ylim(0.000000000001, 10)\n",
    "plt.yscale('log')"
   ]
  },
  {
   "cell_type": "code",
   "execution_count": 38,
   "metadata": {
    "collapsed": false
   },
   "outputs": [
    {
     "data": {
      "text/plain": [
       "[[36.99405813217163],\n",
       " [22.99464131532983],\n",
       " [36.16577055928748],\n",
       " [-21.299999999999997],\n",
       " [36.89359743566949],\n",
       " [36.623248578650035],\n",
       " [36.9556414788561],\n",
       " [36.99048430764447],\n",
       " [36.99087450866413],\n",
       " [36.98581525952168],\n",
       " [36.97140516084733],\n",
       " [36.994558174090635],\n",
       " [36.97838790041421],\n",
       " [36.99389906061729],\n",
       " [36.926320094693466],\n",
       " [36.99528153353252],\n",
       " [36.99518305247453],\n",
       " [36.975112382922354],\n",
       " [36.9912448540714],\n",
       " [36.99269045363128],\n",
       " [36.99329341065401],\n",
       " [36.99287420503454],\n",
       " [36.993413073001605],\n",
       " [36.99479890725858],\n",
       " [36.985790137862566],\n",
       " [36.992751269520355],\n",
       " [36.96598418994806],\n",
       " [36.994774405221605],\n",
       " [36.9952770566526],\n",
       " [36.98921706210485],\n",
       " [36.992617642868495],\n",
       " [36.99515323769341],\n",
       " [36.98506782248123],\n",
       " [36.995206955803496],\n",
       " [36.99527129500915],\n",
       " [36.97788975253081],\n",
       " [36.99109287216319],\n",
       " [36.99366199377856],\n",
       " [36.973880824699336],\n",
       " [36.99489677749363],\n",
       " [36.99489355586482],\n",
       " [36.99516343181132],\n",
       " [36.99133549685366],\n",
       " [36.995041738544664],\n",
       " [36.99421648764421],\n",
       " [36.9949512541813],\n",
       " [36.99519502510478],\n",
       " [36.990625802491515],\n",
       " [36.99472401262084],\n",
       " [36.994318798291246],\n",
       " [36.99133097601196],\n",
       " [36.99493964710315],\n",
       " [36.98976109231341],\n",
       " [36.98295513757337],\n",
       " [36.995240093129446],\n",
       " [36.99504148110984],\n",
       " [36.99313064850048],\n",
       " [36.995263495960735],\n",
       " [36.99492018074588],\n",
       " [36.993052795840605],\n",
       " [36.99500875809153],\n",
       " [36.95332966337935],\n",
       " [36.994751364833604],\n",
       " [36.994684528481756],\n",
       " [36.99235370506632],\n",
       " [36.99483524181696],\n",
       " [36.96192905634817],\n",
       " [36.99527862349247],\n",
       " [36.99337042751938],\n",
       " [36.89981300884579],\n",
       " [36.99226913044876],\n",
       " [36.99050483896159],\n",
       " [36.99523357937311],\n",
       " [36.995238331194926],\n",
       " [36.78961216286466],\n",
       " [36.99440305183965],\n",
       " [36.96235913672286],\n",
       " [36.9948853457587],\n",
       " [36.99449218148774],\n",
       " [36.972721119448295],\n",
       " [36.993763791168284],\n",
       " [36.99528482988954],\n",
       " [36.99528628709031],\n",
       " [36.99425834760102],\n",
       " [36.99330439492975],\n",
       " [36.994366531999745],\n",
       " [36.99377762504534],\n",
       " [36.986614551886646],\n",
       " [36.99526983455603],\n",
       " [36.979718537738705],\n",
       " [36.991455530480636],\n",
       " [36.99496252711528],\n",
       " [36.99518309888562],\n",
       " [36.994992172336026],\n",
       " [36.98338706485195],\n",
       " [36.99520196019594],\n",
       " [36.995261829446804],\n",
       " [36.99528646851161],\n",
       " [36.99510113865352],\n",
       " [36.99513227097186]]"
      ]
     },
     "execution_count": 38,
     "metadata": {},
     "output_type": "execute_result"
    }
   ],
   "source": [
    "ys"
   ]
  },
  {
   "cell_type": "code",
   "execution_count": null,
   "metadata": {
    "collapsed": true
   },
   "outputs": [],
   "source": []
  },
  {
   "cell_type": "code",
   "execution_count": null,
   "metadata": {
    "collapsed": true
   },
   "outputs": [],
   "source": []
  },
  {
   "cell_type": "code",
   "execution_count": null,
   "metadata": {
    "collapsed": true
   },
   "outputs": [],
   "source": []
  },
  {
   "cell_type": "code",
   "execution_count": null,
   "metadata": {
    "collapsed": true
   },
   "outputs": [],
   "source": []
  },
  {
   "cell_type": "code",
   "execution_count": 12,
   "metadata": {
    "collapsed": false
   },
   "outputs": [],
   "source": [
    "bayesian_optimizer = BayesianOptimizer()\n",
    "bayesian_optimizer.InitalizeRegressor(white_noise=True)\n",
    "bayesian_optimizer.InitializeSuggestionEngine(num_suggestions=1, method='kg')\n",
    "bayesian_optimizer.InitializeOptimizer(rand_starts=100, tol=1e-5)\n",
    "bayesian_optimizer.InitialSamples(features, fitness)\n",
    "bayesian_optimizer.SetRanges(ranges)"
   ]
  },
  {
   "cell_type": "code",
   "execution_count": 13,
   "metadata": {
    "collapsed": false
   },
   "outputs": [],
   "source": [
    "x_points = arange(-6, 6, 0.1)\n",
    "y_points = Polynomial(x_points)"
   ]
  },
  {
   "cell_type": "code",
   "execution_count": 14,
   "metadata": {
    "collapsed": false
   },
   "outputs": [
    {
     "name": "stdout",
     "output_type": "stream",
     "text": [
      "iteration 0\n",
      "iteration 10\n",
      "iteration 20\n",
      "iteration 30\n",
      "iteration 40\n",
      "iteration 50\n",
      "iteration 60\n",
      "iteration 70\n",
      "iteration 80\n"
     ]
    },
    {
     "name": "stderr",
     "output_type": "stream",
     "text": [
      "C:\\Users\\rbj428\\AppData\\Local\\Continuum\\Anaconda2_3\\lib\\site-packages\\sklearn\\gaussian_process\\gpr.py:427: UserWarning: fmin_l_bfgs_b terminated abnormally with the  state: {'warnflag': 2, 'task': 'ABNORMAL_TERMINATION_IN_LNSRCH', 'grad': array([  1.59296716e-05,   3.59823319e+00]), 'nit': 7, 'funcalls': 55}\n",
      "  \" state: %s\" % convergence_dict)\n"
     ]
    },
    {
     "name": "stdout",
     "output_type": "stream",
     "text": [
      "iteration 90\n"
     ]
    }
   ],
   "source": [
    "Y_pred = []\n",
    "EI_pred = []\n",
    "xs = []\n",
    "ys = []\n",
    "for i in range(100):\n",
    "    if i % 10 == 0:\n",
    "        print 'iteration %i' % i\n",
    "    suggestions = bayesian_optimizer.Suggest()\n",
    "    Y_pred.append(array([bayesian_optimizer.gaussian_process_regressor_.predict([[x]], return_std = False)[0] for x in x_points]))\n",
    "    EI_pred.append(array([bayesian_optimizer.ExpectedImprovement(array([x])) for x in x_points]))\n",
    "    xs_batch = []\n",
    "    ys_batch = []\n",
    "    for suggestion in suggestions:\n",
    "        xs_batch.append(suggestion)\n",
    "        ys_batch.append(Polynomial(suggestion[0]))\n",
    "    xs.append(xs_batch)\n",
    "    ys.append(ys_batch)\n",
    "    bayesian_optimizer.AddSamples(xs_batch, ys_batch)"
   ]
  },
  {
   "cell_type": "code",
   "execution_count": 16,
   "metadata": {
    "collapsed": false
   },
   "outputs": [
    {
     "data": {
      "image/png": "[encoded data removed]",
      "text/plain": [
       "<matplotlib.figure.Figure at 0xa2185c0>"
      ]
     },
     "metadata": {},
     "output_type": "display_data"
    }
   ],
   "source": [
    "#things to plot\n",
    "lw = 0.05\n",
    "plt.plot(x_points, y_points, c=\"r\", linestyle = '-', linewidth = 5, label = \"Train\")\n",
    "for y_pred in Y_pred[0:100]:\n",
    "    plt.plot(x_points, y_pred, linestyle = '-', c = 'b', linewidth =lw, label = \"Train\")\n",
    "    lw = lw + 0.05\n",
    "    \n",
    "#model = bayesian_random_forest_optimizer.bootstrap_models[0]\n",
    "#y_pred = model.predict(x_col)\n",
    "#plt.plot(x, y_pred, c=\"b\", linestyle = '-', linewidth = 5, label = \"Train\")\n",
    "#plt.scatter(points, fitness, c=\"b\", s=90, alpha=0.9)"
   ]
  },
  {
   "cell_type": "code",
   "execution_count": 27,
   "metadata": {
    "collapsed": false
   },
   "outputs": [
    {
     "data": {
      "image/png": "[encoded data removed]",
      "text/plain": [
       "<matplotlib.figure.Figure at 0xd6b1e80>"
      ]
     },
     "metadata": {},
     "output_type": "display_data"
    }
   ],
   "source": [
    "#things to plot\n",
    "lw = 0.02\n",
    "#plt.plot(x_points, y_points, c=\"r\", linestyle = '-', linewidth = 5, label = \"Train\")\n",
    "for ei_pred in EI_pred[0:]:\n",
    "    plt.plot(x_points, ei_pred, linestyle = '-', c = 'b', linewidth =lw, label = \"Train\")\n",
    "    lw = lw + 0.02\n",
    "plt.ylim(0.000000000001, 10)\n",
    "plt.yscale('log')"
   ]
  },
  {
   "cell_type": "code",
   "execution_count": 18,
   "metadata": {
    "collapsed": false
   },
   "outputs": [
    {
     "data": {
      "text/plain": [
       "[[29.00042388140465],\n",
       " [36.387565761981534],\n",
       " [28.89558499129953],\n",
       " [-21.299999999999997],\n",
       " [36.93889498320164],\n",
       " [36.96004873817716],\n",
       " [36.99527379615181],\n",
       " [36.99518185199899],\n",
       " [36.597345648776916],\n",
       " [36.98767900521808],\n",
       " [36.983534551668996],\n",
       " [36.988177506896314],\n",
       " [36.90885562049079],\n",
       " [36.99523021596289],\n",
       " [36.99478110455895],\n",
       " [36.97250550106741],\n",
       " [36.99363551367374],\n",
       " [36.994552307573116],\n",
       " [36.99295804492607],\n",
       " [36.99363434119648],\n",
       " [36.9947595551896],\n",
       " [36.99263150716821],\n",
       " [36.99089419312392],\n",
       " [36.99390620593374],\n",
       " [36.993044714995726],\n",
       " [36.992234216071324],\n",
       " [36.99526515916796],\n",
       " [36.99156395299609],\n",
       " [36.99403923981999],\n",
       " [36.99526336298385],\n",
       " [36.99527792172243],\n",
       " [36.985818391178285],\n",
       " [36.99153244828021],\n",
       " [36.99527610987155],\n",
       " [36.995146859910705],\n",
       " [36.99095769926999],\n",
       " [36.99479448189817],\n",
       " [36.9952168740576],\n",
       " [36.98496321445608],\n",
       " [36.99501603821302],\n",
       " [36.995268813480045],\n",
       " [36.99447333870012],\n",
       " [36.984877822834235],\n",
       " [36.99500893914525],\n",
       " [36.99424293998349],\n",
       " [36.9948558807306],\n",
       " [36.994665819738685],\n",
       " [36.995210312709],\n",
       " [36.99527409757314],\n",
       " [36.994293156339225],\n",
       " [36.99526929013885],\n",
       " [36.994809515277524],\n",
       " [36.99527873864916],\n",
       " [36.99524671166651],\n",
       " [36.99527378953505],\n",
       " [36.99528235394776],\n",
       " [36.99490456314954],\n",
       " [36.99501381660552],\n",
       " [36.99524866177131],\n",
       " [36.99524392844938],\n",
       " [36.993079974546944],\n",
       " [36.99512259898377],\n",
       " [36.994952172309965],\n",
       " [36.99528646522593],\n",
       " [36.99484143814391],\n",
       " [36.99528295582384],\n",
       " [36.9632070805851],\n",
       " [36.99521292275605],\n",
       " [36.99518314341718],\n",
       " [36.99484967984435],\n",
       " [36.99526886326496],\n",
       " [36.99528379901753],\n",
       " [36.99521961777661],\n",
       " [36.99523770303696],\n",
       " [36.99497025490891],\n",
       " [36.99215244647865],\n",
       " [36.99365363976995],\n",
       " [36.99512905699749],\n",
       " [36.99507311745643],\n",
       " [36.9951246605893],\n",
       " [36.9952838303754],\n",
       " [36.9951977230171],\n",
       " [36.995199266486665],\n",
       " [36.99189339027982],\n",
       " [36.99193530102684],\n",
       " [36.995246206244076],\n",
       " [36.995249058167474],\n",
       " [36.99292753645716],\n",
       " [36.99526904986471],\n",
       " [36.995272448693726],\n",
       " [36.99499702442692],\n",
       " [36.995006997448826],\n",
       " [36.98602876962911],\n",
       " [36.99499125931888],\n",
       " [36.995286442567135],\n",
       " [36.994524837210605],\n",
       " [36.99518518516522],\n",
       " [36.99435308845365],\n",
       " [36.9952829573961],\n",
       " [36.99523247512721]]"
      ]
     },
     "execution_count": 18,
     "metadata": {},
     "output_type": "execute_result"
    }
   ],
   "source": [
    "ys"
   ]
  },
  {
   "cell_type": "code",
   "execution_count": 19,
   "metadata": {
    "collapsed": false
   },
   "outputs": [
    {
     "data": {
      "text/plain": [
       "[[0.0],\n",
       " [-3.0],\n",
       " [3.0],\n",
       " [-2.9909631357092628],\n",
       " [-3.9072990620734416],\n",
       " [-5.154510671437249],\n",
       " [6.0],\n",
       " [-4.292750992203204],\n",
       " [-4.1358321056176],\n",
       " [-4.207125992376998],\n",
       " [-4.202025269614043],\n",
       " [-4.433129846083104],\n",
       " [-4.2379430374327915],\n",
       " [-4.165536285377848],\n",
       " [-4.236876171220038],\n",
       " [-4.095703125],\n",
       " [-4.20858208234037],\n",
       " [-4.197488483044337],\n",
       " [-4.261267752289159],\n",
       " [-4.190758317313027],\n",
       " [-4.215817184373035],\n",
       " [-4.187929221723975],\n",
       " [-4.22081366059501],\n",
       " [-4.197312761575535],\n",
       " [-4.2248211568816],\n",
       " [-4.181232914892704],\n",
       " [-4.2195257298583755],\n",
       " [-4.188265828215901],\n",
       " [-4.226190853574292],\n",
       " [-4.2041015625],\n",
       " [-4.183189247933724],\n",
       " [-4.218848988018945],\n",
       " [-4.207586801296898],\n",
       " [-4.204727453036943],\n",
       " [-4.241642702121619],\n",
       " [-4.18309347904879],\n",
       " [-4.204618401911096],\n",
       " [-4.210176441358349],\n",
       " [-4.2300706936708465],\n",
       " [-4.197599453116449],\n",
       " [-4.202723143456307],\n",
       " [-4.24321923926871],\n",
       " [-4.1997239757228115],\n",
       " [-4.2073632162342145],\n",
       " [-4.195251975383848],\n",
       " [-4.1679181814573845],\n",
       " [-4.199644566944517],\n",
       " [-4.193847522879446],\n",
       " [-4.21347578817324],\n",
       " [-4.215011895393158],\n",
       " [-4.209035290409189],\n",
       " [-4.2045079493595425],\n",
       " [-4.217448077525648],\n",
       " [-4.207342112290409],\n",
       " [-4.197725973220302],\n",
       " [-4.206837955597257],\n",
       " [-4.2081405525732825],\n",
       " [-4.207126335746585],\n",
       " [-4.206560260351549],\n",
       " [-4.213029785791786],\n",
       " [-4.1996990145473685],\n",
       " [-4.208082689280012],\n",
       " [-4.203396524381908],\n",
       " [-4.223144567720132],\n",
       " [-4.201072955753528],\n",
       " [-4.21256512336295],\n",
       " [-4.205765943975604],\n",
       " [-4.198001410866096],\n",
       " [-4.206503319825162],\n",
       " [-4.271542514087924],\n",
       " [-4.202636724291766],\n",
       " [-4.2020487055235956],\n",
       " [-4.19807411047857],\n",
       " [-4.207361025450807],\n",
       " [-4.205203903843283],\n",
       " [-4.2088318879131705],\n",
       " [-4.208391064360305],\n",
       " [-4.199228633945709],\n",
       " [-4.18505859375],\n",
       " [-4.190841311495393],\n",
       " [-4.210446374931173],\n",
       " [-4.2004045985671965],\n",
       " [-4.210510645407662],\n",
       " [-4.205207456332699],\n",
       " [-4.209291612438682],\n",
       " [-4.209261212902922],\n",
       " [-4.1842159049002055],\n",
       " [-4.22716317062942],\n",
       " [-4.208155316362214],\n",
       " [-4.208070746260013],\n",
       " [-4.187812222800767],\n",
       " [-4.207352786451708],\n",
       " [-4.207194161046067],\n",
       " [-4.199513537296156],\n",
       " [-4.1996230246586235],\n",
       " [-4.1700833926221925],\n",
       " [-4.212158203125],\n",
       " [-4.2057387429773625],\n",
       " [-4.216002479681819],\n",
       " [-4.209529348376141],\n",
       " [-4.2170919640140205],\n",
       " [-4.205115317354105],\n",
       " [-4.203091033567861]]"
      ]
     },
     "execution_count": 19,
     "metadata": {},
     "output_type": "execute_result"
    }
   ],
   "source": [
    "bayesian_optimizer.X_"
   ]
  },
  {
   "cell_type": "code",
   "execution_count": 47,
   "metadata": {
    "collapsed": false
   },
   "outputs": [],
   "source": [
    "x = arange(-6, 6, 0.1)"
   ]
  },
  {
   "cell_type": "code",
   "execution_count": 48,
   "metadata": {
    "collapsed": false
   },
   "outputs": [
    {
     "data": {
      "text/plain": [
       "array([ -6.00000000e+00,  -5.90000000e+00,  -5.80000000e+00,\n",
       "        -5.70000000e+00,  -5.60000000e+00,  -5.50000000e+00,\n",
       "        -5.40000000e+00,  -5.30000000e+00,  -5.20000000e+00,\n",
       "        -5.10000000e+00,  -5.00000000e+00,  -4.90000000e+00,\n",
       "        -4.80000000e+00,  -4.70000000e+00,  -4.60000000e+00,\n",
       "        -4.50000000e+00,  -4.40000000e+00,  -4.30000000e+00,\n",
       "        -4.20000000e+00,  -4.10000000e+00,  -4.00000000e+00,\n",
       "        -3.90000000e+00,  -3.80000000e+00,  -3.70000000e+00,\n",
       "        -3.60000000e+00,  -3.50000000e+00,  -3.40000000e+00,\n",
       "        -3.30000000e+00,  -3.20000000e+00,  -3.10000000e+00,\n",
       "        -3.00000000e+00,  -2.90000000e+00,  -2.80000000e+00,\n",
       "        -2.70000000e+00,  -2.60000000e+00,  -2.50000000e+00,\n",
       "        -2.40000000e+00,  -2.30000000e+00,  -2.20000000e+00,\n",
       "        -2.10000000e+00,  -2.00000000e+00,  -1.90000000e+00,\n",
       "        -1.80000000e+00,  -1.70000000e+00,  -1.60000000e+00,\n",
       "        -1.50000000e+00,  -1.40000000e+00,  -1.30000000e+00,\n",
       "        -1.20000000e+00,  -1.10000000e+00,  -1.00000000e+00,\n",
       "        -9.00000000e-01,  -8.00000000e-01,  -7.00000000e-01,\n",
       "        -6.00000000e-01,  -5.00000000e-01,  -4.00000000e-01,\n",
       "        -3.00000000e-01,  -2.00000000e-01,  -1.00000000e-01,\n",
       "        -2.13162821e-14,   1.00000000e-01,   2.00000000e-01,\n",
       "         3.00000000e-01,   4.00000000e-01,   5.00000000e-01,\n",
       "         6.00000000e-01,   7.00000000e-01,   8.00000000e-01,\n",
       "         9.00000000e-01,   1.00000000e+00,   1.10000000e+00,\n",
       "         1.20000000e+00,   1.30000000e+00,   1.40000000e+00,\n",
       "         1.50000000e+00,   1.60000000e+00,   1.70000000e+00,\n",
       "         1.80000000e+00,   1.90000000e+00,   2.00000000e+00,\n",
       "         2.10000000e+00,   2.20000000e+00,   2.30000000e+00,\n",
       "         2.40000000e+00,   2.50000000e+00,   2.60000000e+00,\n",
       "         2.70000000e+00,   2.80000000e+00,   2.90000000e+00,\n",
       "         3.00000000e+00,   3.10000000e+00,   3.20000000e+00,\n",
       "         3.30000000e+00,   3.40000000e+00,   3.50000000e+00,\n",
       "         3.60000000e+00,   3.70000000e+00,   3.80000000e+00,\n",
       "         3.90000000e+00,   4.00000000e+00,   4.10000000e+00,\n",
       "         4.20000000e+00,   4.30000000e+00,   4.40000000e+00,\n",
       "         4.50000000e+00,   4.60000000e+00,   4.70000000e+00,\n",
       "         4.80000000e+00,   4.90000000e+00,   5.00000000e+00,\n",
       "         5.10000000e+00,   5.20000000e+00,   5.30000000e+00,\n",
       "         5.40000000e+00,   5.50000000e+00,   5.60000000e+00,\n",
       "         5.70000000e+00,   5.80000000e+00,   5.90000000e+00])"
      ]
     },
     "execution_count": 48,
     "metadata": {},
     "output_type": "execute_result"
    }
   ],
   "source": [
    "x"
   ]
  },
  {
   "cell_type": "code",
   "execution_count": null,
   "metadata": {
    "collapsed": true
   },
   "outputs": [],
   "source": []
  },
  {
   "cell_type": "code",
   "execution_count": 58,
   "metadata": {
    "collapsed": false
   },
   "outputs": [
    {
     "data": {
      "text/plain": [
       "6.1062782093520092"
      ]
     },
     "execution_count": 58,
     "metadata": {},
     "output_type": "execute_result"
    }
   ],
   "source": [
    "bayesian_optimizer.gaussian_process_regressor_.predict([[2.4]], return_std = False)[0]"
   ]
  },
  {
   "cell_type": "code",
   "execution_count": 7,
   "metadata": {
    "collapsed": false
   },
   "outputs": [
    {
     "data": {
      "text/plain": [
       "GaussianProcessRegressor_(nu=1.5)"
      ]
     },
     "execution_count": 7,
     "metadata": {},
     "output_type": "execute_result"
    }
   ],
   "source": [
    "bayesian_optimizer.gaussian_process_regressor_"
   ]
  },
  {
   "cell_type": "code",
   "execution_count": 23,
   "metadata": {
    "collapsed": true
   },
   "outputs": [],
   "source": [
    "import ghalton\n",
    "sequencer = ghalton.Halton(3)"
   ]
  },
  {
   "cell_type": "code",
   "execution_count": 31,
   "metadata": {
    "collapsed": false
   },
   "outputs": [
    {
     "data": {
      "text/plain": [
       "[[0.75, 0.1111111111111111, 0.6]]"
      ]
     },
     "execution_count": 31,
     "metadata": {},
     "output_type": "execute_result"
    }
   ],
   "source": [
    "points = sequencer.get(1)\n",
    "points"
   ]
  },
  {
   "cell_type": "code",
   "execution_count": 16,
   "metadata": {
    "collapsed": false
   },
   "outputs": [
    {
     "data": {
      "text/plain": [
       "-1"
      ]
     },
     "execution_count": 16,
     "metadata": {},
     "output_type": "execute_result"
    }
   ],
   "source": [
    "0-1"
   ]
  },
  {
   "cell_type": "code",
   "execution_count": null,
   "metadata": {
    "collapsed": true
   },
   "outputs": [],
   "source": [
    "x_l x_u"
   ]
  },
  {
   "cell_type": "code",
   "execution_count": null,
   "metadata": {
    "collapsed": true
   },
   "outputs": [],
   "source": [
    "[x_l - x_l, x_u - x_l]"
   ]
  },
  {
   "cell_type": "code",
   "execution_count": 33,
   "metadata": {
    "collapsed": false
   },
   "outputs": [],
   "source": [
    "import ghalton\n",
    "\n",
    "class Halton:\n",
    "    def __init__(self, ranges):\n",
    "        self.num_dim = len(ranges)\n",
    "        self.lower, self.upper = zip(*ranges)\n",
    "        self.sequencer = ghalton.Halton(self.num_dim)\n",
    "        return None\n",
    "    def Get(self, num_points=1):\n",
    "        point = self.sequencer.get(1)[0]\n",
    "        scaled_point = []\n",
    "        for i in range(self.num_dim):\n",
    "            scaled_point.append(point[i]*(self.upper[i] - self.lower[i]) + self.lower[i])\n",
    "        return scaled_point"
   ]
  },
  {
   "cell_type": "code",
   "execution_count": 34,
   "metadata": {
    "collapsed": false
   },
   "outputs": [],
   "source": [
    "halton = Halton([(-2,0),(-12,-11),(0,1)])"
   ]
  },
  {
   "cell_type": "code",
   "execution_count": 38,
   "metadata": {
    "collapsed": false
   },
   "outputs": [
    {
     "data": {
      "text/plain": [
       "[-1.75, -11.555555555555555, 0.8]"
      ]
     },
     "execution_count": 38,
     "metadata": {},
     "output_type": "execute_result"
    }
   ],
   "source": [
    "halton.Get()"
   ]
  },
  {
   "cell_type": "code",
   "execution_count": 32,
   "metadata": {
    "collapsed": false
   },
   "outputs": [
    {
     "data": {
      "text/plain": [
       "-11.8888888889"
      ]
     },
     "execution_count": 32,
     "metadata": {},
     "output_type": "execute_result"
    }
   ],
   "source": [
    "(-11 - (-12))*0.1111111111 + -12"
   ]
  },
  {
   "cell_type": "code",
   "execution_count": null,
   "metadata": {
    "collapsed": true
   },
   "outputs": [],
   "source": []
  }
 ],
 "metadata": {
  "kernelspec": {
   "display_name": "Python 2",
   "language": "python",
   "name": "python2"
  },
  "language_info": {
   "codemirror_mode": {
    "name": "ipython",
    "version": 2
   },
   "file_extension": ".py",
   "mimetype": "text/x-python",
   "name": "python",
   "nbconvert_exporter": "python",
   "pygments_lexer": "ipython2",
   "version": "2.7.13"
  }
 },
 "nbformat": 4,
 "nbformat_minor": 2
}
