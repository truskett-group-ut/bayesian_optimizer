{
 "cells": [
  {
   "cell_type": "markdown",
   "metadata": {},
   "source": [
    "### Things to do:\n",
    "\n",
    "**(1)** Program capabilities for categorical data as well\n",
    "\n",
    "**(2)** Set ranges on the possible numerical data types\n",
    "\n",
    "**(3)** Code up a simulated annealing algo capable of handling both data types\n",
    "\n",
    "**(4)** Create a function to add new (X, y) for next optimization\n"
   ]
  },
  {
   "cell_type": "markdown",
   "metadata": {},
   "source": [
    "### Testing"
   ]
  },
  {
   "cell_type": "code",
   "execution_count": 1158,
   "metadata": {
    "collapsed": true
   },
   "outputs": [],
   "source": [
    "bayesian_random_forest_optimizer = BayesianRandomForestOptimizer()"
   ]
  },
  {
   "cell_type": "code",
   "execution_count": 1159,
   "metadata": {
    "collapsed": true
   },
   "outputs": [],
   "source": [
    "import random"
   ]
  },
  {
   "cell_type": "code",
   "execution_count": 1160,
   "metadata": {
    "collapsed": true
   },
   "outputs": [],
   "source": [
    "for i in range(5):\n",
    "    rand_num = random.uniform(-3.0, 8.0)"
   ]
  },
  {
   "cell_type": "code",
   "execution_count": 30,
   "metadata": {
    "collapsed": true
   },
   "outputs": [],
   "source": [
    "import matplotlib.pyplot as plt\n",
    "from numpy import arange\n",
    "%matplotlib inline "
   ]
  },
  {
   "cell_type": "code",
   "execution_count": 1162,
   "metadata": {
    "collapsed": false
   },
   "outputs": [],
   "source": [
    "x = arange(-6, 6, 0.1)\n",
    "x_col = arange(-6, 6, 0.1)\n",
    "x_col.shape = (len(x), 1)\n",
    "y = Polynomial(x)"
   ]
  },
  {
   "cell_type": "code",
   "execution_count": 1163,
   "metadata": {
    "collapsed": false
   },
   "outputs": [
    {
     "data": {
      "text/plain": [
       "[<matplotlib.lines.Line2D at 0x7c78c320>]"
      ]
     },
     "execution_count": 1163,
     "metadata": {},
     "output_type": "execute_result"
    },
    {
     "data": {
      "image/png": "[encoded data removed]",
      "text/plain": [
       "<matplotlib.figure.Figure at 0x7c92ec50>"
      ]
     },
     "metadata": {},
     "output_type": "display_data"
    }
   ],
   "source": [
    "#things to plot\n",
    "plt.plot(x, y, c=\"r\", linestyle = '-', linewidth = 2, label = \"Train\")"
   ]
  },
  {
   "cell_type": "code",
   "execution_count": 1335,
   "metadata": {
    "collapsed": true
   },
   "outputs": [],
   "source": [
    "points = [-5.8, -5.5, -4.5, -3.0, -2.5, 0, 2, 5, 5.5, 5.8]\n",
    "features = [{'x': -5.8}, {'x': -5.5}, {'x': -4.5}, {'x': -3}, {'x': -2.5}, {'x': 0}, {'x': 2}, {'x': 5}, {'x': 5.5}, {'x': 5.8}]\n",
    "fitness = [Polynomial(-5.8), Polynomial(-5.5), Polynomial(-4.5), Polynomial(-3), Polynomial(-2.5), Polynomial(0), Polynomial(2), Polynomial(5), Polynomial(5.5), Polynomial(5.8)]"
   ]
  },
  {
   "cell_type": "code",
   "execution_count": 1165,
   "metadata": {
    "collapsed": true
   },
   "outputs": [],
   "source": [
    "points = [-5.8, -5.5, -3.0, -2.5, 0, 2, 5, 5.5, 5.8]\n",
    "features = [{'x': -5.8}, {'x': -5.5}, {'x': -3}, {'x': -2.5}, {'x': 0}, {'x': 2}, {'x': 5}, {'x': 5.5}, {'x': 5.8}]\n",
    "fitness = [Polynomial(-5.8), Polynomial(-5.5), Polynomial(-3), Polynomial(-2.5), Polynomial(0), Polynomial(2), Polynomial(5), Polynomial(5.5), Polynomial(5.8)]"
   ]
  },
  {
   "cell_type": "code",
   "execution_count": 1166,
   "metadata": {
    "collapsed": false
   },
   "outputs": [],
   "source": [
    "bayesian_random_forest_optimizer.InitialSamples(features, fitness)"
   ]
  },
  {
   "cell_type": "code",
   "execution_count": 1167,
   "metadata": {
    "collapsed": false
   },
   "outputs": [],
   "source": [
    "bayesian_random_forest_optimizer.Bootstrap()"
   ]
  },
  {
   "cell_type": "code",
   "execution_count": 1168,
   "metadata": {
    "collapsed": false
   },
   "outputs": [
    {
     "data": {
      "text/plain": [
       "RandomForestRegressor(bootstrap=True, criterion='mse', max_depth=None,\n",
       "           max_features='auto', max_leaf_nodes=None,\n",
       "           min_impurity_split=1e-07, min_samples_leaf=1,\n",
       "           min_samples_split=2, min_weight_fraction_leaf=0.0,\n",
       "           n_estimators=20, n_jobs=1, oob_score=False, random_state=None,\n",
       "           verbose=0, warm_start=False)"
      ]
     },
     "execution_count": 1168,
     "metadata": {},
     "output_type": "execute_result"
    }
   ],
   "source": [
    "bayesian_random_forest_optimizer.bootstrap_models[0]"
   ]
  },
  {
   "cell_type": "code",
   "execution_count": 1169,
   "metadata": {
    "collapsed": false
   },
   "outputs": [
    {
     "data": {
      "text/plain": [
       "<matplotlib.collections.PathCollection at 0x8191cac8>"
      ]
     },
     "execution_count": 1169,
     "metadata": {},
     "output_type": "execute_result"
    },
    {
     "data": {
      "image/png": "[encoded data removed]",
      "text/plain": [
       "<matplotlib.figure.Figure at 0x80bef748>"
      ]
     },
     "metadata": {},
     "output_type": "display_data"
    }
   ],
   "source": [
    "#things to plot\n",
    "plt.plot(x, y, c=\"r\", linestyle = '-', linewidth = 1, label = \"Train\")\n",
    "for model in bayesian_random_forest_optimizer.bootstrap_models[1:999]:\n",
    "    y_pred = model.predict(x_col)\n",
    "    plt.plot(x, y_pred, linestyle = '-', c = 'b', linewidth = 0.05, label = \"Train\")\n",
    "    \n",
    "model = bayesian_random_forest_optimizer.bootstrap_models[0]\n",
    "y_pred = model.predict(x_col)\n",
    "plt.plot(x, y_pred, c=\"b\", linestyle = '-', linewidth = 5, label = \"Train\")\n",
    "plt.scatter(points, fitness, c=\"b\", s=90, alpha=0.9)"
   ]
  },
  {
   "cell_type": "code",
   "execution_count": 948,
   "metadata": {
    "collapsed": false
   },
   "outputs": [
    {
     "data": {
      "text/plain": [
       "<matplotlib.collections.PathCollection at 0x76786f60>"
      ]
     },
     "execution_count": 948,
     "metadata": {},
     "output_type": "execute_result"
    },
    {
     "data": {
      "image/png": "[encoded data removed]",
      "text/plain": [
       "<matplotlib.figure.Figure at 0x7566b6a0>"
      ]
     },
     "metadata": {},
     "output_type": "display_data"
    }
   ],
   "source": [
    "#things to plot\n",
    "plt.plot(x, y, c=\"r\", linestyle = '-', linewidth = 1, label = \"Train\")\n",
    "for model in bayesian_random_forest_optimizer.bootstrap_models[1:999]:\n",
    "    y_pred = model.predict(x_col)\n",
    "    plt.plot(x, y_pred, linestyle = '-', c = 'b', linewidth = 0.05, label = \"Train\")\n",
    "    \n",
    "model = bayesian_random_forest_optimizer.bootstrap_models[0]\n",
    "y_pred = model.predict(x_col)\n",
    "plt.plot(x, y_pred, c=\"b\", linestyle = '-', linewidth = 5, label = \"Train\")\n",
    "plt.scatter(points, fitness, c=\"b\", s=90, alpha=0.9)"
   ]
  },
  {
   "cell_type": "code",
   "execution_count": 928,
   "metadata": {
    "collapsed": false
   },
   "outputs": [
    {
     "data": {
      "text/plain": [
       "0.14859917700000053"
      ]
     },
     "execution_count": 928,
     "metadata": {},
     "output_type": "execute_result"
    }
   ],
   "source": [
    "bayesian_random_forest_optimizer.ExpectedImprovement(-2)"
   ]
  },
  {
   "cell_type": "code",
   "execution_count": 969,
   "metadata": {
    "collapsed": true
   },
   "outputs": [],
   "source": [
    "EI = [bayesian_random_forest_optimizer.ExpectedImprovement(x_) for x_ in x]"
   ]
  },
  {
   "cell_type": "code",
   "execution_count": null,
   "metadata": {
    "collapsed": true
   },
   "outputs": [],
   "source": []
  },
  {
   "cell_type": "code",
   "execution_count": null,
   "metadata": {
    "collapsed": true
   },
   "outputs": [],
   "source": []
  },
  {
   "cell_type": "code",
   "execution_count": 472,
   "metadata": {
    "collapsed": false
   },
   "outputs": [],
   "source": [
    "RandomForestRegressor?"
   ]
  },
  {
   "cell_type": "code",
   "execution_count": 932,
   "metadata": {
    "collapsed": false
   },
   "outputs": [
    {
     "data": {
      "text/plain": [
       "<matplotlib.collections.PathCollection at 0x760b4240>"
      ]
     },
     "execution_count": 932,
     "metadata": {},
     "output_type": "execute_result"
    },
    {
     "data": {
      "image/png": "[encoded data removed]",
      "text/plain": [
       "<matplotlib.figure.Figure at 0x75f2b668>"
      ]
     },
     "metadata": {},
     "output_type": "display_data"
    }
   ],
   "source": [
    "plt.plot(x, y, c=\"r\", linestyle = '-', linewidth = 2, label = \"Train\")\n",
    "#plt.plot(x, EI, c=\"b\", linestyle = '-', linewidth = 2, label = \"Train\")\n",
    "plt.scatter(points, fitness, c=\"b\", s=90, alpha=0.9)"
   ]
  },
  {
   "cell_type": "code",
   "execution_count": 973,
   "metadata": {
    "collapsed": false
   },
   "outputs": [
    {
     "data": {
      "image/png": "[encoded data removed]",
      "text/plain": [
       "<matplotlib.figure.Figure at 0x64e79710>"
      ]
     },
     "metadata": {},
     "output_type": "display_data"
    }
   ],
   "source": [
    "#plt.plot(x, y, c=\"r\", linestyle = '-', linewidth = 2, label = \"Train\")\n",
    "plt.plot(x, EI, c=\"b\", linestyle = '-', linewidth = 2, label = \"Train\")\n",
    "plt.ylim(0.00001,2)\n",
    "plt.yscale('log')\n",
    "#plt.scatter(points, fitness, c=\"b\", s=90, alpha=0.9)"
   ]
  },
  {
   "cell_type": "code",
   "execution_count": 307,
   "metadata": {
    "collapsed": false
   },
   "outputs": [
    {
     "data": {
      "text/plain": [
       "[20.81874999999998, 29.1, 1.5, 9.1, 11.5, -12.252960000000002]"
      ]
     },
     "execution_count": 307,
     "metadata": {},
     "output_type": "execute_result"
    }
   ],
   "source": [
    "fitness"
   ]
  },
  {
   "cell_type": "code",
   "execution_count": 106,
   "metadata": {
    "collapsed": true
   },
   "outputs": [],
   "source": [
    "model?"
   ]
  },
  {
   "cell_type": "code",
   "execution_count": 165,
   "metadata": {
    "collapsed": true
   },
   "outputs": [],
   "source": [
    "from sklearn import ensemble"
   ]
  },
  {
   "cell_type": "code",
   "execution_count": 194,
   "metadata": {
    "collapsed": false
   },
   "outputs": [],
   "source": [
    "model = ensemble.GradientBoostingRegressor(n_estimators=200)"
   ]
  },
  {
   "cell_type": "code",
   "execution_count": 265,
   "metadata": {
    "collapsed": true
   },
   "outputs": [],
   "source": [
    "model = ensemble.BaggingRegressor(n_estimators=5000, oob_score=True)"
   ]
  },
  {
   "cell_type": "code",
   "execution_count": 268,
   "metadata": {
    "collapsed": true
   },
   "outputs": [],
   "source": [
    "X0 = [[point] for point in points]\n",
    "y0 = [f for f in fitness]"
   ]
  },
  {
   "cell_type": "code",
   "execution_count": 269,
   "metadata": {
    "collapsed": false
   },
   "outputs": [
    {
     "data": {
      "text/plain": [
       "BaggingRegressor(base_estimator=None, bootstrap=True,\n",
       "         bootstrap_features=False, max_features=1.0, max_samples=1.0,\n",
       "         n_estimators=5000, n_jobs=1, oob_score=True, random_state=None,\n",
       "         verbose=0, warm_start=False)"
      ]
     },
     "execution_count": 269,
     "metadata": {},
     "output_type": "execute_result"
    }
   ],
   "source": [
    "model.fit(X0, y0)"
   ]
  },
  {
   "cell_type": "code",
   "execution_count": 270,
   "metadata": {
    "collapsed": true
   },
   "outputs": [],
   "source": [
    "y_pred0 = model.predict(X0)"
   ]
  },
  {
   "cell_type": "code",
   "execution_count": 271,
   "metadata": {
    "collapsed": false
   },
   "outputs": [
    {
     "data": {
      "text/plain": [
       "array([ 0. ,  0.1,  0.2,  0.3,  0.4,  0.5,  0.6,  0.7,  0.8,  0.9])"
      ]
     },
     "execution_count": 271,
     "metadata": {},
     "output_type": "execute_result"
    }
   ],
   "source": [
    "from numpy import arange\n",
    "arange(0,1,0.1)"
   ]
  },
  {
   "cell_type": "code",
   "execution_count": 272,
   "metadata": {
    "collapsed": false
   },
   "outputs": [],
   "source": [
    "Xs = [[num] for num in arange(-7, 7, 0.01)]\n",
    "y_pred = model.predict(Xs)"
   ]
  },
  {
   "cell_type": "code",
   "execution_count": 273,
   "metadata": {
    "collapsed": false
   },
   "outputs": [
    {
     "data": {
      "text/plain": [
       "[<matplotlib.lines.Line2D at 0x1e35e940>]"
      ]
     },
     "execution_count": 273,
     "metadata": {},
     "output_type": "execute_result"
    },
    {
     "data": {
      "image/png": "[encoded data removed]",
      "text/plain": [
       "<matplotlib.figure.Figure at 0x1e75e390>"
      ]
     },
     "metadata": {},
     "output_type": "display_data"
    }
   ],
   "source": [
    "plt.scatter(points, fitness, c=\"b\", s=90, alpha=0.9)\n",
    "plt.plot(x, y, c=\"r\", linestyle = '-', linewidth = 2, label = \"Train\")\n",
    "plt.plot(arange(-7, 7, 0.01), y_pred, c=\"r\", linestyle = '-', linewidth = 2, label = \"Train\")"
   ]
  },
  {
   "cell_type": "code",
   "execution_count": 274,
   "metadata": {
    "collapsed": false
   },
   "outputs": [
    {
     "data": {
      "text/plain": [
       "0.47618938988298154"
      ]
     },
     "execution_count": 274,
     "metadata": {},
     "output_type": "execute_result"
    }
   ],
   "source": [
    "model.oob_score_"
   ]
  },
  {
   "cell_type": "code",
   "execution_count": 1128,
   "metadata": {
    "collapsed": true
   },
   "outputs": [],
   "source": [
    "from sklearn.model_selection import cross_val_score\n",
    "from numpy import mean"
   ]
  },
  {
   "cell_type": "code",
   "execution_count": 1135,
   "metadata": {
    "collapsed": false
   },
   "outputs": [
    {
     "name": "stdout",
     "output_type": "stream",
     "text": [
      "50\n",
      "100\n",
      "150\n",
      "200\n",
      "250\n",
      "300\n",
      "350\n",
      "400\n",
      "450\n"
     ]
    }
   ],
   "source": [
    "n = []\n",
    "scores = []\n",
    "for n_estimators in range(1, 500):\n",
    "    if n_estimators % 50 == 0:\n",
    "        print n_estimators\n",
    "    model_ = ensemble.GradientBoostingRegressor(n_estimators=n_estimators)\n",
    "    n.append(n_estimators)\n",
    "    scores.append(mean(cross_val_score(estimator = model_, X=X0, y=y0, cv = 8)))"
   ]
  },
  {
   "cell_type": "code",
   "execution_count": 1138,
   "metadata": {
    "collapsed": false
   },
   "outputs": [
    {
     "data": {
      "text/plain": [
       "[<matplotlib.lines.Line2D at 0x7b9b6eb8>]"
      ]
     },
     "execution_count": 1138,
     "metadata": {},
     "output_type": "execute_result"
    },
    {
     "data": {
      "image/png": "[encoded data removed]",
      "text/plain": [
       "<matplotlib.figure.Figure at 0x7e25f630>"
      ]
     },
     "metadata": {},
     "output_type": "display_data"
    }
   ],
   "source": [
    "plt.plot(n, scores, c=\"b\", linestyle = '-', linewidth = 2, label = \"Train\")\n",
    "#plt.ylim(0.00001,2)\n",
    "#plt.yscale('log')"
   ]
  },
  {
   "cell_type": "code",
   "execution_count": 1139,
   "metadata": {
    "collapsed": false
   },
   "outputs": [
    {
     "data": {
      "text/plain": [
       "[-0.13513344557510909,\n",
       " -0.055776693143031013,\n",
       " -0.013895740334283091,\n",
       " -0.00013038355430905479,\n",
       " -0.0071228380581306316,\n",
       " -0.029114880352266698,\n",
       " -0.061623773341953264,\n",
       " -0.10118178152189233,\n",
       " -0.14512699252010652,\n",
       " -0.19143551536387726,\n",
       " -0.23858703060902695,\n",
       " -0.28545720852512407,\n",
       " -0.33123175814793621,\n",
       " -0.37533787830210996,\n",
       " -0.41738969709071705,\n",
       " -0.4571449456268426,\n",
       " -0.49447064472672253,\n",
       " -0.52931601400468198,\n",
       " -0.56169116082617998,\n",
       " -0.59165038768730949,\n",
       " -0.61927918358696799,\n",
       " -0.64468414819362141,\n",
       " -0.66798524546014759,\n",
       " -0.6893099025876569,\n",
       " -0.70878856636840037,\n",
       " -0.72655140638751714,\n",
       " -0.74272591692404499,\n",
       " -0.75743521956757165,\n",
       " -0.77079690890687313,\n",
       " -0.78292231604994789,\n",
       " -0.79391609073625524,\n",
       " -0.80387602364253885,\n",
       " -0.81289304716596611,\n",
       " -0.82105136630234576,\n",
       " -0.82842868187697638,\n",
       " -0.83509647685917376,\n",
       " -0.84112034322482621,\n",
       " -0.84656033216806992,\n",
       " -0.85147131468045556,\n",
       " -0.85590334283701053,\n",
       " -0.85990200473319078,\n",
       " -0.8635087680495297,\n",
       " -0.86676130879815472,\n",
       " -0.86969382302069154,\n",
       " -0.87233732013548215,\n",
       " -0.87471989733354505,\n",
       " -0.87686699494555054,\n",
       " -0.87880163308469117,\n",
       " -0.88054463014347029,\n",
       " -0.88211480391054908,\n",
       " -0.88352915619640338,\n",
       " -0.88480304192901404,\n",
       " -0.88595032371539073,\n",
       " -0.88698351287102128,\n",
       " -0.88791389790488129,\n",
       " -0.88863080332987576,\n",
       " -0.88927626556340278,\n",
       " -0.88985738192791275,\n",
       " -0.89038054894298369,\n",
       " -0.89085153070902723,\n",
       " -0.89127552077497518,\n",
       " -0.89165719808029986,\n",
       " -0.89200077751432949,\n",
       " -0.89231005559093868,\n",
       " -0.89258845169453216,\n",
       " -0.89283904531382929,\n",
       " -0.89306460964330792,\n",
       " -0.89326764189824814,\n",
       " -0.89357157603573945,\n",
       " -0.89384516096124633,\n",
       " -0.89409142319763135,\n",
       " -0.89431308821115563,\n",
       " -0.89451261021395756,\n",
       " -0.89469219904388941,\n",
       " -0.89479769515297103,\n",
       " -0.89489264696867188,\n",
       " -0.89503426282020571,\n",
       " -0.89516172666634464,\n",
       " -0.89523096012096592,\n",
       " -0.89533876586882999,\n",
       " -0.89543579659146966,\n",
       " -0.89548627524102664,\n",
       " -0.89556856167292109,\n",
       " -0.89560945230060685,\n",
       " -0.89567942573849613,\n",
       " -0.89571254912508258,\n",
       " -0.89577221623804004,\n",
       " -0.89579904752376027,\n",
       " -0.89585006720171556,\n",
       " -0.8958959861540674,\n",
       " -0.89591680025995246,\n",
       " -0.89595604733384127,\n",
       " -0.89599137043531818,\n",
       " -0.89600754632334234,\n",
       " -0.8960377203729033,\n",
       " -0.89606487745190244,\n",
       " -0.89607667014355308,\n",
       " -0.896099932738603,\n",
       " -0.8961208693323155,\n",
       " -0.89613005584274807,\n",
       " -0.89614798041996835,\n",
       " -0.8961641126927371,\n",
       " -0.89617080981577379,\n",
       " -0.89618465932081082,\n",
       " -0.89619712396684226,\n",
       " -0.89620834222238344,\n",
       " -0.89621308323667259,\n",
       " -0.89622270564873352,\n",
       " -0.89622654590011597,\n",
       " -0.89623482210632721,\n",
       " -0.8962422707245894,\n",
       " -0.89624507029759237,\n",
       " -0.89625149413241889,\n",
       " -0.89625727560344615,\n",
       " -0.89626247894331423,\n",
       " -0.89626462491150116,\n",
       " -0.89626655628506646,\n",
       " -0.89627083157885623,\n",
       " -0.89627467935198524,\n",
       " -0.8962764901836302,\n",
       " -0.8962752967395764,\n",
       " -0.89627869800475934,\n",
       " -0.89627869800475934,\n",
       " -0.89627869800475934,\n",
       " -0.89627869800475934,\n",
       " -0.89627869800475934,\n",
       " -0.89627869800475934,\n",
       " -0.89627869800475934,\n",
       " -0.89627869800475934,\n",
       " -0.89627869800475934,\n",
       " -0.89627869800475934,\n",
       " -0.89627869800475934,\n",
       " -0.89627869800475934,\n",
       " -0.89627869800475934,\n",
       " -0.89627869800475934,\n",
       " -0.89627869800475934,\n",
       " -0.89627869800475934,\n",
       " -0.89627869800475934,\n",
       " -0.89627869800475934,\n",
       " -0.89627869800475934,\n",
       " -0.89627869800475934,\n",
       " -0.89627869800475934,\n",
       " -0.89627869800475934,\n",
       " -0.89627869800475934,\n",
       " -0.89627869800475934,\n",
       " -0.89627869800475934,\n",
       " -0.89627869800475934,\n",
       " -0.89627869800475934,\n",
       " -0.89627869800475934,\n",
       " -0.89627869800475934,\n",
       " -0.89627869800475934,\n",
       " -0.89627869800475934,\n",
       " -0.89627869800475934,\n",
       " -0.89627869800475934,\n",
       " -0.89627869800475934,\n",
       " -0.89627869800475934,\n",
       " -0.89627869800475934,\n",
       " -0.89627869800475934,\n",
       " -0.89627869800475934,\n",
       " -0.89627869800475934,\n",
       " -0.89627869800475934,\n",
       " -0.89627869800475934,\n",
       " -0.89627869800475934,\n",
       " -0.89627869800475934,\n",
       " -0.89627869800475934,\n",
       " -0.89627869800475934,\n",
       " -0.89627869800475934,\n",
       " -0.89627869800475934,\n",
       " -0.89627869800475934,\n",
       " -0.89627869800475934,\n",
       " -0.89627869800475934,\n",
       " -0.89627869800475934,\n",
       " -0.89627869800475934,\n",
       " -0.89627869800475934,\n",
       " -0.89627869800475934,\n",
       " -0.89627869800475934,\n",
       " -0.89627869800475934,\n",
       " -0.89627869800475934,\n",
       " -0.89627869800475934,\n",
       " -0.89627869800475934,\n",
       " -0.89627869800475934,\n",
       " -0.89627869800475934,\n",
       " -0.89627869800475934,\n",
       " -0.89627869800475934,\n",
       " -0.89627869800475934,\n",
       " -0.89627869800475934,\n",
       " -0.89627869800475934,\n",
       " -0.89627869800475934,\n",
       " -0.89627869800475934,\n",
       " -0.89627869800475934,\n",
       " -0.89627869800475934,\n",
       " -0.89627869800475934,\n",
       " -0.89627869800475934,\n",
       " -0.89627869800475934,\n",
       " -0.89627869800475934,\n",
       " -0.89627869800475934,\n",
       " -0.89627869800475934,\n",
       " -0.89627869800475934,\n",
       " -0.89627869800475934,\n",
       " -0.89627869800475934,\n",
       " -0.89627869800475934,\n",
       " -0.89627869800475934,\n",
       " -0.89627869800475934,\n",
       " -0.89627869800475934,\n",
       " -0.89627869800475934,\n",
       " -0.89627869800475934,\n",
       " -0.89627869800475934,\n",
       " -0.89627869800475934,\n",
       " -0.89627869800475934,\n",
       " -0.89627869800475934,\n",
       " -0.89627869800475934,\n",
       " -0.89627869800475934,\n",
       " -0.89627869800475934,\n",
       " -0.89627869800475934,\n",
       " -0.89627869800475934,\n",
       " -0.89627869800475934,\n",
       " -0.89627869800475934,\n",
       " -0.89627869800475934,\n",
       " -0.89627869800475934,\n",
       " -0.89627869800475934,\n",
       " -0.89627869800475934,\n",
       " -0.89627869800475934,\n",
       " -0.89627869800475934,\n",
       " -0.89627869800475934,\n",
       " -0.89627869800475934,\n",
       " -0.89627869800475934,\n",
       " -0.89627869800475934,\n",
       " -0.89627869800475934,\n",
       " -0.89627869800475934,\n",
       " -0.89627869800475934,\n",
       " -0.89627869800475934,\n",
       " -0.89627869800475934,\n",
       " -0.89627869800475934,\n",
       " -0.89627869800475934,\n",
       " -0.89627869800475934,\n",
       " -0.89627869800475934,\n",
       " -0.89627869800475934,\n",
       " -0.89627869800475934,\n",
       " -0.89627869800475934,\n",
       " -0.89627869800475934,\n",
       " -0.89627869800475934,\n",
       " -0.89627869800475934,\n",
       " -0.89627869800475934,\n",
       " -0.89627869800475934,\n",
       " -0.89627869800475934,\n",
       " -0.89627869800475934,\n",
       " -0.89627869800475934,\n",
       " -0.89627869800475934,\n",
       " -0.89627869800475934,\n",
       " -0.89627869800475934,\n",
       " -0.89627869800475934,\n",
       " -0.89627869800475934,\n",
       " -0.89627869800475934,\n",
       " -0.89627869800475934,\n",
       " -0.89627869800475934,\n",
       " -0.89627869800475934,\n",
       " -0.89627869800475934,\n",
       " -0.89627869800475934,\n",
       " -0.89627869800475934,\n",
       " -0.89627869800475934,\n",
       " -0.89627869800475934,\n",
       " -0.89627869800475934,\n",
       " -0.89627869800475934,\n",
       " -0.89627869800475934,\n",
       " -0.89627869800475934,\n",
       " -0.89627869800475934,\n",
       " -0.89627869800475934,\n",
       " -0.89627869800475934,\n",
       " -0.89627869800475934,\n",
       " -0.89627869800475934,\n",
       " -0.89627869800475934,\n",
       " -0.89627869800475934,\n",
       " -0.89627869800475934,\n",
       " -0.89627869800475934,\n",
       " -0.89627869800475934,\n",
       " -0.89627869800475934,\n",
       " -0.89627869800475934,\n",
       " -0.89627869800475934,\n",
       " -0.89627869800475934,\n",
       " -0.89627869800475934,\n",
       " -0.89627869800475934,\n",
       " -0.89627869800475934,\n",
       " -0.89627869800475934,\n",
       " -0.89627869800475934,\n",
       " -0.89627869800475934,\n",
       " -0.89627869800475934,\n",
       " -0.89627869800475934,\n",
       " -0.89627869800475934,\n",
       " -0.89627869800475934,\n",
       " -0.89627869800475934,\n",
       " -0.89627869800475934,\n",
       " -0.89627869800475934,\n",
       " -0.89627869800475934,\n",
       " -0.89627869800475934,\n",
       " -0.89627869800475934,\n",
       " -0.89627869800475934,\n",
       " -0.89627869800475934,\n",
       " -0.89627869800475934,\n",
       " -0.89627869800475934,\n",
       " -0.89627869800475934,\n",
       " -0.89627869800475934,\n",
       " -0.89627869800475934,\n",
       " -0.89627869800475934,\n",
       " -0.89627869800475934,\n",
       " -0.89627869800475934,\n",
       " -0.89627869800475934,\n",
       " -0.89627869800475934,\n",
       " -0.89627869800475934,\n",
       " -0.89627869800475934,\n",
       " -0.89627869800475934,\n",
       " -0.89627869800475934,\n",
       " -0.89627869800475934,\n",
       " -0.89627869800475934,\n",
       " -0.89627869800475934,\n",
       " -0.89627869800475934,\n",
       " -0.89627869800475934,\n",
       " -0.89627869800475934,\n",
       " -0.89627869800475934,\n",
       " -0.89627869800475934,\n",
       " -0.89627869800475934,\n",
       " -0.89627869800475934,\n",
       " -0.89627869800475934,\n",
       " -0.89627869800475934,\n",
       " -0.89627869800475934,\n",
       " -0.89627869800475934,\n",
       " -0.89627869800475934,\n",
       " -0.89627869800475934,\n",
       " -0.89627869800475934,\n",
       " -0.89627869800475934,\n",
       " -0.89627869800475934,\n",
       " -0.89627869800475934,\n",
       " -0.89627869800475934,\n",
       " -0.89627869800475934,\n",
       " -0.89627869800475934,\n",
       " -0.89627869800475934,\n",
       " -0.89627869800475934,\n",
       " -0.89627869800475934,\n",
       " -0.89627869800475934,\n",
       " -0.89627869800475934,\n",
       " -0.89627869800475934,\n",
       " -0.89627869800475934,\n",
       " -0.89627869800475934,\n",
       " -0.89627869800475934,\n",
       " -0.89627869800475934,\n",
       " -0.89627869800475934,\n",
       " -0.89627869800475934,\n",
       " -0.89627869800475934,\n",
       " -0.89627869800475934,\n",
       " -0.89627869800475934,\n",
       " -0.89627869800475934,\n",
       " -0.89627869800475934,\n",
       " -0.89627869800475934,\n",
       " -0.89627869800475934,\n",
       " -0.89627869800475934,\n",
       " -0.89627869800475934,\n",
       " -0.89627869800475934,\n",
       " -0.89627869800475934,\n",
       " -0.89627869800475934,\n",
       " -0.89627869800475934,\n",
       " -0.89627869800475934,\n",
       " -0.89627869800475934,\n",
       " -0.89627869800475934,\n",
       " -0.89627869800475934,\n",
       " -0.89627869800475934,\n",
       " -0.89627869800475934,\n",
       " -0.89627869800475934,\n",
       " -0.89627869800475934,\n",
       " -0.89627869800475934,\n",
       " -0.89627869800475934,\n",
       " -0.89627869800475934,\n",
       " -0.89627869800475934,\n",
       " -0.89627869800475934,\n",
       " -0.89627869800475934,\n",
       " -0.89627869800475934,\n",
       " -0.89627869800475934,\n",
       " -0.89627869800475934,\n",
       " -0.89627869800475934,\n",
       " -0.89627869800475934,\n",
       " -0.89627869800475934,\n",
       " -0.89627869800475934,\n",
       " -0.89627869800475934,\n",
       " -0.89627869800475934,\n",
       " -0.89627869800475934,\n",
       " -0.89627869800475934,\n",
       " -0.89627869800475934,\n",
       " -0.89627869800475934,\n",
       " -0.89627869800475934,\n",
       " -0.89627869800475934,\n",
       " -0.89627869800475934,\n",
       " -0.89627869800475934,\n",
       " -0.89627869800475934,\n",
       " -0.89627869800475934,\n",
       " -0.89627869800475934,\n",
       " -0.89627869800475934,\n",
       " -0.89627869800475934,\n",
       " -0.89627869800475934,\n",
       " -0.89627869800475934,\n",
       " -0.89627869800475934,\n",
       " -0.89627869800475934,\n",
       " -0.89627869800475934,\n",
       " -0.89627869800475934,\n",
       " -0.89627869800475934,\n",
       " -0.89627869800475934,\n",
       " -0.89627869800475934,\n",
       " -0.89627869800475934,\n",
       " -0.89627869800475934,\n",
       " -0.89627869800475934,\n",
       " -0.89627869800475934,\n",
       " -0.89627869800475934,\n",
       " -0.89627869800475934,\n",
       " -0.89627869800475934,\n",
       " -0.89627869800475934,\n",
       " -0.89627869800475934,\n",
       " -0.89627869800475934,\n",
       " -0.89627869800475934,\n",
       " -0.89627869800475934,\n",
       " -0.89627869800475934,\n",
       " -0.89627869800475934,\n",
       " -0.89627869800475934,\n",
       " -0.89627869800475934,\n",
       " -0.89627869800475934,\n",
       " -0.89627869800475934,\n",
       " -0.89627869800475934,\n",
       " -0.89627869800475934,\n",
       " -0.89627869800475934,\n",
       " -0.89627869800475934,\n",
       " -0.89627869800475934,\n",
       " -0.89627869800475934,\n",
       " -0.89627869800475934,\n",
       " -0.89627869800475934,\n",
       " -0.89627869800475934,\n",
       " -0.89627869800475934,\n",
       " -0.89627869800475934,\n",
       " -0.89627869800475934,\n",
       " -0.89627869800475934,\n",
       " -0.89627869800475934,\n",
       " -0.89627869800475934,\n",
       " -0.89627869800475934,\n",
       " -0.89627869800475934,\n",
       " -0.89627869800475934,\n",
       " -0.89627869800475934,\n",
       " -0.89627869800475934,\n",
       " -0.89627869800475934,\n",
       " -0.89627869800475934,\n",
       " -0.89627869800475934,\n",
       " -0.89627869800475934,\n",
       " -0.89627869800475934,\n",
       " -0.89627869800475934,\n",
       " -0.89627869800475934,\n",
       " -0.89627869800475934,\n",
       " -0.89627869800475934,\n",
       " -0.89627869800475934,\n",
       " -0.89627869800475934,\n",
       " -0.89627869800475934,\n",
       " -0.89627869800475934,\n",
       " -0.89627869800475934,\n",
       " -0.89627869800475934,\n",
       " -0.89627869800475934,\n",
       " -0.89627869800475934,\n",
       " -0.89627869800475934,\n",
       " -0.89627869800475934,\n",
       " -0.89627869800475934,\n",
       " -0.89627869800475934,\n",
       " -0.89627869800475934,\n",
       " -0.89627869800475934,\n",
       " -0.89627869800475934,\n",
       " -0.89627869800475934,\n",
       " -0.89627869800475934,\n",
       " -0.89627869800475934,\n",
       " -0.89627869800475934,\n",
       " -0.89627869800475934,\n",
       " -0.89627869800475934,\n",
       " -0.89627869800475934,\n",
       " -0.89627869800475934,\n",
       " -0.89627869800475934,\n",
       " -0.89627869800475934,\n",
       " -0.89627869800475934,\n",
       " -0.89627869800475934,\n",
       " -0.89627869800475934,\n",
       " -0.89627869800475934,\n",
       " -0.89627869800475934,\n",
       " -0.89627869800475934,\n",
       " -0.89627869800475934,\n",
       " -0.89627869800475934,\n",
       " -0.89627869800475934,\n",
       " -0.89627869800475934,\n",
       " -0.89627869800475934,\n",
       " -0.89627869800475934,\n",
       " -0.89627869800475934,\n",
       " -0.89627869800475934,\n",
       " -0.89627869800475934,\n",
       " -0.89627869800475934,\n",
       " -0.89627869800475934,\n",
       " -0.89627869800475934,\n",
       " -0.89627869800475934,\n",
       " -0.89627869800475934,\n",
       " -0.89627869800475934,\n",
       " -0.89627869800475934,\n",
       " -0.89627869800475934]"
      ]
     },
     "execution_count": 1139,
     "metadata": {},
     "output_type": "execute_result"
    }
   ],
   "source": [
    "scores"
   ]
  },
  {
   "cell_type": "code",
   "execution_count": null,
   "metadata": {
    "collapsed": true
   },
   "outputs": [],
   "source": []
  },
  {
   "cell_type": "code",
   "execution_count": null,
   "metadata": {
    "collapsed": true
   },
   "outputs": [],
   "source": []
  },
  {
   "cell_type": "code",
   "execution_count": null,
   "metadata": {
    "collapsed": true
   },
   "outputs": [],
   "source": []
  },
  {
   "cell_type": "code",
   "execution_count": null,
   "metadata": {
    "collapsed": true
   },
   "outputs": [],
   "source": []
  },
  {
   "cell_type": "code",
   "execution_count": null,
   "metadata": {
    "collapsed": true
   },
   "outputs": [],
   "source": []
  },
  {
   "cell_type": "code",
   "execution_count": null,
   "metadata": {
    "collapsed": true
   },
   "outputs": [],
   "source": []
  },
  {
   "cell_type": "code",
   "execution_count": 256,
   "metadata": {
    "collapsed": true
   },
   "outputs": [],
   "source": [
    "model?"
   ]
  },
  {
   "cell_type": "code",
   "execution_count": 207,
   "metadata": {
    "collapsed": false
   },
   "outputs": [
    {
     "data": {
      "text/plain": [
       "[array([ 0.]),\n",
       " array([ 0.]),\n",
       " array([ 0.]),\n",
       " array([ 0.]),\n",
       " array([ 0.]),\n",
       " array([ 0.]),\n",
       " array([ 0.]),\n",
       " array([ 0.]),\n",
       " array([ 0.]),\n",
       " array([ 0.]),\n",
       " array([ 0.]),\n",
       " array([ 0.]),\n",
       " array([ 0.]),\n",
       " array([ 0.]),\n",
       " array([ 0.]),\n",
       " array([ 0.]),\n",
       " array([ 0.]),\n",
       " array([ 0.]),\n",
       " array([ 0.]),\n",
       " array([ 0.]),\n",
       " array([ 0.]),\n",
       " array([ 0.]),\n",
       " array([ 0.]),\n",
       " array([ 0.]),\n",
       " array([ 0.]),\n",
       " array([ 0.]),\n",
       " array([ 0.]),\n",
       " array([ 0.]),\n",
       " array([ 0.]),\n",
       " array([ 0.]),\n",
       " array([ 0.]),\n",
       " array([ 0.]),\n",
       " array([ 0.]),\n",
       " array([ 0.]),\n",
       " array([ 0.]),\n",
       " array([ 0.]),\n",
       " array([ 0.]),\n",
       " array([ 0.]),\n",
       " array([ 0.]),\n",
       " array([ 0.]),\n",
       " array([ 0.]),\n",
       " array([ 0.]),\n",
       " array([ 0.]),\n",
       " array([ 0.]),\n",
       " array([ 0.]),\n",
       " array([ 0.]),\n",
       " array([ 0.]),\n",
       " array([ 0.]),\n",
       " array([ 0.]),\n",
       " array([ 0.]),\n",
       " array([ 0.]),\n",
       " array([ 0.]),\n",
       " array([ 0.]),\n",
       " array([ 0.]),\n",
       " array([ 0.]),\n",
       " array([ 0.]),\n",
       " array([ 0.]),\n",
       " array([ 0.]),\n",
       " array([ 0.]),\n",
       " array([ 0.]),\n",
       " array([ 0.]),\n",
       " array([ 0.]),\n",
       " array([ 0.]),\n",
       " array([ 0.]),\n",
       " array([ 0.]),\n",
       " array([ 0.]),\n",
       " array([ 0.]),\n",
       " array([ 0.]),\n",
       " array([ 0.]),\n",
       " array([ 0.]),\n",
       " array([ 0.]),\n",
       " array([ 0.]),\n",
       " array([ 0.]),\n",
       " array([ 0.]),\n",
       " array([ 0.]),\n",
       " array([ 0.]),\n",
       " array([ 0.]),\n",
       " array([ 0.]),\n",
       " array([ 0.]),\n",
       " array([ 0.]),\n",
       " array([ 0.]),\n",
       " array([ 0.]),\n",
       " array([ 0.]),\n",
       " array([ 0.]),\n",
       " array([ 0.]),\n",
       " array([ 0.]),\n",
       " array([ 0.]),\n",
       " array([ 0.]),\n",
       " array([ 0.]),\n",
       " array([ 0.]),\n",
       " array([ 0.]),\n",
       " array([ 0.]),\n",
       " array([ 0.]),\n",
       " array([ 0.]),\n",
       " array([ 0.]),\n",
       " array([ 0.]),\n",
       " array([ 0.]),\n",
       " array([ 0.]),\n",
       " array([ 0.]),\n",
       " array([ 0.]),\n",
       " array([ 0.]),\n",
       " array([ 0.]),\n",
       " array([ 0.]),\n",
       " array([ 0.]),\n",
       " array([ 0.]),\n",
       " array([ 0.]),\n",
       " array([ 0.]),\n",
       " array([ 0.]),\n",
       " array([ 0.]),\n",
       " array([ 0.]),\n",
       " array([ 0.]),\n",
       " array([ 0.]),\n",
       " array([ 0.]),\n",
       " array([ 0.]),\n",
       " array([ 0.]),\n",
       " array([ 0.]),\n",
       " array([ 0.]),\n",
       " array([ 0.]),\n",
       " array([ 0.]),\n",
       " array([ 0.])]"
      ]
     },
     "execution_count": 207,
     "metadata": {},
     "output_type": "execute_result"
    }
   ],
   "source": [
    "EI"
   ]
  },
  {
   "cell_type": "code",
   "execution_count": 183,
   "metadata": {
    "collapsed": false
   },
   "outputs": [
    {
     "data": {
      "text/plain": [
       "array([ 0.])"
      ]
     },
     "execution_count": 183,
     "metadata": {},
     "output_type": "execute_result"
    }
   ],
   "source": [
    "bayesian_random_forest_optimizer.ExpectedImprovement(3.4)"
   ]
  },
  {
   "cell_type": "code",
   "execution_count": null,
   "metadata": {
    "collapsed": true
   },
   "outputs": [],
   "source": []
  },
  {
   "cell_type": "code",
   "execution_count": null,
   "metadata": {
    "collapsed": true
   },
   "outputs": [],
   "source": []
  },
  {
   "cell_type": "code",
   "execution_count": null,
   "metadata": {
    "collapsed": true
   },
   "outputs": [],
   "source": []
  },
  {
   "cell_type": "code",
   "execution_count": null,
   "metadata": {
    "collapsed": true
   },
   "outputs": [],
   "source": []
  },
  {
   "cell_type": "code",
   "execution_count": null,
   "metadata": {
    "collapsed": true
   },
   "outputs": [],
   "source": [
    "#transformer to extract the desired feature (or fitness) from the samples\n",
    "\n",
    "#for mapping categorical variables to a onehot encoding\n",
    "from sklearn.preprocessing import OneHotEncoder\n",
    "\n",
    "class DataExtractor(BaseEstimator, TransformerMixin):\n",
    "    def __init__(self, val, data_type, data_range):\n",
    "        self.val = val\n",
    "        self.data_type = data_type\n",
    "        self.data_range = data_range\n",
    "        if data_type == 'categorical':\n",
    "            one_hot_encoder = OneHotEncoder()\n",
    "    \n",
    "    def fit(self, X, y = None):\n",
    "        return self\n",
    "\n",
    "    def transform(self, X):\n",
    "        return [[entry[self.val]] for entry in X]"
   ]
  },
  {
   "cell_type": "code",
   "execution_count": null,
   "metadata": {
    "collapsed": true
   },
   "outputs": [],
   "source": [
    "#transformer for categorical variables\n",
    "class ConvertCategorical(BaseEstimator, TransformerMixin):\n",
    "    def __init__(self, val):\n",
    "        self.val = val\n",
    "    \n",
    "    def fit(self, X, y = None):\n",
    "        return self\n",
    "\n",
    "    def transform(self, X):\n",
    "        return [[entry[self.val]] for entry in X]"
   ]
  },
  {
   "cell_type": "code",
   "execution_count": 68,
   "metadata": {
    "collapsed": true
   },
   "outputs": [],
   "source": [
    "a = np.array([[1, 2], [3, 4]])\n",
    "b = np.array([[5, 6], [3, 3]])"
   ]
  },
  {
   "cell_type": "code",
   "execution_count": 69,
   "metadata": {
    "collapsed": false
   },
   "outputs": [
    {
     "data": {
      "text/plain": [
       "array([[1, 2],\n",
       "       [3, 4],\n",
       "       [5, 6],\n",
       "       [3, 3]])"
      ]
     },
     "execution_count": 69,
     "metadata": {},
     "output_type": "execute_result"
    }
   ],
   "source": [
    "np.concatenate((a, b), axis=0)"
   ]
  },
  {
   "cell_type": "code",
   "execution_count": null,
   "metadata": {
    "collapsed": true
   },
   "outputs": [],
   "source": []
  },
  {
   "cell_type": "code",
   "execution_count": null,
   "metadata": {
    "collapsed": true
   },
   "outputs": [],
   "source": []
  },
  {
   "cell_type": "code",
   "execution_count": null,
   "metadata": {
    "collapsed": true
   },
   "outputs": [],
   "source": []
  },
  {
   "cell_type": "code",
   "execution_count": null,
   "metadata": {
    "collapsed": true
   },
   "outputs": [],
   "source": [
    "features = [{'feature_1': ..., 'feature_2': ..., }, ]\n",
    "feature_states = [{'feature_1': set(['happy', 'sad', 'mad']), 'feature_2': [1.3, 3.0], },]"
   ]
  },
  {
   "cell_type": "code",
   "execution_count": null,
   "metadata": {
    "collapsed": true
   },
   "outputs": [],
   "source": []
  },
  {
   "cell_type": "code",
   "execution_count": 57,
   "metadata": {
    "collapsed": false
   },
   "outputs": [
    {
     "ename": "TypeError",
     "evalue": "'tuple' object is not callable",
     "output_type": "error",
     "traceback": [
      "\u001b[1;31m---------------------------------------------------------------------------\u001b[0m",
      "\u001b[1;31mTypeError\u001b[0m                                 Traceback (most recent call last)",
      "\u001b[1;32m<ipython-input-57-724b55762f74>\u001b[0m in \u001b[0;36m<module>\u001b[1;34m()\u001b[0m\n\u001b[1;32m----> 1\u001b[1;33m \u001b[0mnp\u001b[0m\u001b[1;33m.\u001b[0m\u001b[0marray\u001b[0m\u001b[1;33m(\u001b[0m\u001b[1;33m[\u001b[0m\u001b[1;33m[\u001b[0m\u001b[1;36m3\u001b[0m\u001b[1;33m]\u001b[0m\u001b[1;33m,\u001b[0m\u001b[1;33m[\u001b[0m\u001b[1;36m4\u001b[0m\u001b[1;33m]\u001b[0m\u001b[1;33m,\u001b[0m\u001b[1;33m[\u001b[0m\u001b[1;36m4\u001b[0m\u001b[1;33m]\u001b[0m\u001b[1;33m]\u001b[0m\u001b[1;33m)\u001b[0m\u001b[1;33m.\u001b[0m\u001b[0mshape\u001b[0m\u001b[1;33m(\u001b[0m\u001b[1;36m3\u001b[0m\u001b[1;33m,\u001b[0m \u001b[1;36m1\u001b[0m\u001b[1;33m)\u001b[0m\u001b[1;33m\u001b[0m\u001b[0m\n\u001b[0m",
      "\u001b[1;31mTypeError\u001b[0m: 'tuple' object is not callable"
     ]
    }
   ],
   "source": [
    "array([[3],[4],[4]]).shape(3, 1)"
   ]
  },
  {
   "cell_type": "code",
   "execution_count": 63,
   "metadata": {
    "collapsed": true
   },
   "outputs": [],
   "source": [
    "data_2 = array([3,4,4])"
   ]
  },
  {
   "cell_type": "code",
   "execution_count": 64,
   "metadata": {
    "collapsed": false
   },
   "outputs": [
    {
     "data": {
      "text/plain": [
       "array([[3],\n",
       "       [4],\n",
       "       [4]])"
      ]
     },
     "execution_count": 64,
     "metadata": {},
     "output_type": "execute_result"
    }
   ],
   "source": [
    "data_2.shape = (3, 1)\n",
    "data_2"
   ]
  },
  {
   "cell_type": "code",
   "execution_count": 65,
   "metadata": {
    "collapsed": false
   },
   "outputs": [
    {
     "data": {
      "text/plain": [
       "4"
      ]
     },
     "execution_count": 65,
     "metadata": {},
     "output_type": "execute_result"
    }
   ],
   "source": [
    "amax(data_2, 0)[0]"
   ]
  },
  {
   "cell_type": "code",
   "execution_count": 4,
   "metadata": {
    "collapsed": false
   },
   "outputs": [],
   "source": [
    "import numpy as np"
   ]
  },
  {
   "cell_type": "code",
   "execution_count": 14,
   "metadata": {
    "collapsed": false
   },
   "outputs": [
    {
     "data": {
      "text/plain": [
       "array([[ 2.,  1.],\n",
       "       [ 1.,  0.],\n",
       "       [ 2.,  1.]])"
      ]
     },
     "execution_count": 14,
     "metadata": {},
     "output_type": "execute_result"
    }
   ],
   "source": [
    "X = np.array([[1., 0.], [2., 1.], [0., 0.]])\n",
    "y = np.array([0, 1, 2])\n",
    "\n",
    "from scipy.sparse import coo_matrix\n",
    "X_sparse = coo_matrix(X)\n",
    "\n",
    "from sklearn.utils import resample\n",
    "X, y = resample(X, y)\n",
    "X\n"
   ]
  },
  {
   "cell_type": "code",
   "execution_count": 16,
   "metadata": {
    "collapsed": false
   },
   "outputs": [],
   "source": [
    "array_ = np.array([[1],[2],[3],[4],[5]])"
   ]
  },
  {
   "cell_type": "code",
   "execution_count": 17,
   "metadata": {
    "collapsed": false
   },
   "outputs": [
    {
     "data": {
      "text/plain": [
       "array([[1, 2, 3, 4, 5]])"
      ]
     },
     "execution_count": 17,
     "metadata": {},
     "output_type": "execute_result"
    }
   ],
   "source": [
    "np.transpose(array_)"
   ]
  },
  {
   "cell_type": "code",
   "execution_count": 23,
   "metadata": {
    "collapsed": false
   },
   "outputs": [
    {
     "name": "stdout",
     "output_type": "stream",
     "text": [
      "1\n",
      "2\n",
      "3\n",
      "4\n",
      "5\n"
     ]
    }
   ],
   "source": [
    "for i in np.transpose(array_):\n",
    "    print i"
   ]
  },
  {
   "cell_type": "code",
   "execution_count": null,
   "metadata": {
    "collapsed": true
   },
   "outputs": [],
   "source": [
    "def LoadInitialData(features, fitness):\n",
    "        #create and initialize a dictvectorizer\n",
    "            #features = [{'feature_1': ..., 'feature_2': ..., }, ]\n",
    "            #nominal_feature_states = {'feature_1': set(['happy', 'sad', 'mad']), ...}\n",
    "            #categorical_feature_states = {'feature_2': [1.3, 3.0], ...}\n",
    "        self.dict_vectorizer = DictVectorizer()\n",
    "        init_set = []\n",
    "        entry = features[0]\n",
    "        for categorical_feature in categorical_feature_states:\n",
    "            for category in categorical_feature_states[categorical_feature]:\n",
    "                entry[categorical_feature] = category\n",
    "                init_set.append(entry)\n",
    "        self.dict_vectorizer.fit(init_set)\n",
    "        init_set = None\n",
    "        #convert to training data\n",
    "        self.X = self.dict_vectorizer.transform(features)       \n",
    "        self.y = array(fitness)\n",
    "        self.y.shape = (len(fitness), 1)\n",
    "        self.max_y = amax(self.y, 0)[0]   #find max row and extract number to assign best initial fitness\n",
    "        return None"
   ]
  },
  {
   "cell_type": "code",
   "execution_count": null,
   "metadata": {
    "collapsed": true
   },
   "outputs": [],
   "source": []
  },
  {
   "cell_type": "code",
   "execution_count": 73,
   "metadata": {
    "collapsed": false
   },
   "outputs": [],
   "source": [
    "fitness = [2, 4, 5, 5]\n",
    "fitness_add = [2, 6, 6, 6]\n",
    "y = array(fitness)\n",
    "y_add = array(fitness_add)\n",
    "y.shape = (len(fitness), 1)\n",
    "y_add.shape = (len(fitness_add), 1)"
   ]
  },
  {
   "cell_type": "code",
   "execution_count": 80,
   "metadata": {
    "collapsed": false
   },
   "outputs": [],
   "source": [
    "y = np.concatenate((y, y_add), 0)"
   ]
  },
  {
   "cell_type": "code",
   "execution_count": 81,
   "metadata": {
    "collapsed": false
   },
   "outputs": [
    {
     "data": {
      "text/plain": [
       "array([[2],\n",
       "       [4],\n",
       "       [5],\n",
       "       [5],\n",
       "       [2],\n",
       "       [6],\n",
       "       [6],\n",
       "       [6],\n",
       "       [2],\n",
       "       [6],\n",
       "       [6],\n",
       "       [6],\n",
       "       [2],\n",
       "       [6],\n",
       "       [6],\n",
       "       [6]])"
      ]
     },
     "execution_count": 81,
     "metadata": {},
     "output_type": "execute_result"
    }
   ],
   "source": [
    "y"
   ]
  },
  {
   "cell_type": "code",
   "execution_count": null,
   "metadata": {
    "collapsed": true
   },
   "outputs": [],
   "source": []
  },
  {
   "cell_type": "code",
   "execution_count": null,
   "metadata": {
    "collapsed": true
   },
   "outputs": [],
   "source": []
  },
  {
   "cell_type": "code",
   "execution_count": null,
   "metadata": {
    "collapsed": true
   },
   "outputs": [],
   "source": []
  },
  {
   "cell_type": "code",
   "execution_count": null,
   "metadata": {
    "collapsed": true
   },
   "outputs": [],
   "source": []
  },
  {
   "cell_type": "code",
   "execution_count": 1336,
   "metadata": {
    "collapsed": true
   },
   "outputs": [],
   "source": [
    "from sklearn.gaussian_process import GaussianProcessRegressor\n",
    "from sklearn.gaussian_process.kernels import Matern, RBF"
   ]
  },
  {
   "cell_type": "code",
   "execution_count": 1374,
   "metadata": {
    "collapsed": false
   },
   "outputs": [],
   "source": [
    "dim = 1\n",
    "kernel_ = Matern(length_scale = [10.0 for ax in range(dim)], nu=1.5, length_scale_bounds=(0.00001, 100.0))\n",
    "model = GaussianProcessRegressor(kernel = kernel_, n_restarts_optimizer = 100)"
   ]
  },
  {
   "cell_type": "code",
   "execution_count": 1375,
   "metadata": {
    "collapsed": false
   },
   "outputs": [
    {
     "data": {
      "text/plain": [
       "RBF(length_scale=1)"
      ]
     },
     "execution_count": 1375,
     "metadata": {},
     "output_type": "execute_result"
    }
   ],
   "source": [
    "RBF(length_scale=[1.0 for ax in range(dim)], length_scale_bounds=(0.0000001, 1000.0)) "
   ]
  },
  {
   "cell_type": "code",
   "execution_count": 1376,
   "metadata": {
    "collapsed": true
   },
   "outputs": [],
   "source": [
    "X0 = [[point] for point in points]\n",
    "y0 = [f for f in fitness]"
   ]
  },
  {
   "cell_type": "code",
   "execution_count": 1389,
   "metadata": {
    "collapsed": true
   },
   "outputs": [],
   "source": [
    "scaler_1 = StandardScaler()\n",
    "scaler_2 = StandardScaler()"
   ]
  },
  {
   "cell_type": "code",
   "execution_count": 1391,
   "metadata": {
    "collapsed": false
   },
   "outputs": [
    {
     "name": "stderr",
     "output_type": "stream",
     "text": [
      "C:\\Users\\rbj428\\AppData\\Local\\Continuum\\Anaconda2_2\\lib\\site-packages\\sklearn\\preprocessing\\data.py:586: DeprecationWarning: Passing 1d arrays as data is deprecated in 0.17 and will raise ValueError in 0.19. Reshape your data either using X.reshape(-1, 1) if your data has a single feature or X.reshape(1, -1) if it contains a single sample.\n",
      "  warnings.warn(DEPRECATION_MSG_1D, DeprecationWarning)\n"
     ]
    },
    {
     "data": {
      "text/plain": [
       "StandardScaler(copy=True, with_mean=True, with_std=True)"
      ]
     },
     "execution_count": 1391,
     "metadata": {},
     "output_type": "execute_result"
    }
   ],
   "source": [
    "scaler_1.fit(X0)\n",
    "scaler_2.fit(y0)"
   ]
  },
  {
   "cell_type": "code",
   "execution_count": 1392,
   "metadata": {
    "collapsed": false
   },
   "outputs": [
    {
     "name": "stderr",
     "output_type": "stream",
     "text": [
      "C:\\Users\\rbj428\\AppData\\Local\\Continuum\\Anaconda2_2\\lib\\site-packages\\sklearn\\preprocessing\\data.py:649: DeprecationWarning: Passing 1d arrays as data is deprecated in 0.17 and will raise ValueError in 0.19. Reshape your data either using X.reshape(-1, 1) if your data has a single feature or X.reshape(1, -1) if it contains a single sample.\n",
      "  warnings.warn(DEPRECATION_MSG_1D, DeprecationWarning)\n"
     ]
    }
   ],
   "source": [
    "X0_ = scaler_1.transform(X0)\n",
    "y0_ = scaler_2.transform(y0)"
   ]
  },
  {
   "cell_type": "code",
   "execution_count": 1614,
   "metadata": {
    "collapsed": false
   },
   "outputs": [
    {
     "data": {
      "text/plain": [
       "array([-0.13994818,  0.56496043,  1.67176802,  1.15629916,  0.73633709,\n",
       "       -0.8145324 , -0.27183965, -0.100463  , -1.00599226, -1.7965892 ])"
      ]
     },
     "execution_count": 1614,
     "metadata": {},
     "output_type": "execute_result"
    }
   ],
   "source": [
    "y0_"
   ]
  },
  {
   "cell_type": "code",
   "execution_count": 1393,
   "metadata": {
    "collapsed": false
   },
   "outputs": [
    {
     "data": {
      "text/plain": [
       "GaussianProcessRegressor(alpha=1e-10, copy_X_train=True,\n",
       "             kernel=Matern(length_scale=10, nu=1.5),\n",
       "             n_restarts_optimizer=100, normalize_y=False,\n",
       "             optimizer='fmin_l_bfgs_b', random_state=None)"
      ]
     },
     "execution_count": 1393,
     "metadata": {},
     "output_type": "execute_result"
    }
   ],
   "source": [
    "model.fit(X0_, y0_)"
   ]
  },
  {
   "cell_type": "code",
   "execution_count": 1394,
   "metadata": {
    "collapsed": false
   },
   "outputs": [
    {
     "name": "stderr",
     "output_type": "stream",
     "text": [
      "C:\\Users\\rbj428\\AppData\\Local\\Continuum\\Anaconda2_2\\lib\\site-packages\\sklearn\\preprocessing\\data.py:649: DeprecationWarning: Passing 1d arrays as data is deprecated in 0.17 and will raise ValueError in 0.19. Reshape your data either using X.reshape(-1, 1) if your data has a single feature or X.reshape(1, -1) if it contains a single sample.\n",
      "  warnings.warn(DEPRECATION_MSG_1D, DeprecationWarning)\n"
     ]
    }
   ],
   "source": [
    "y_ = scaler_2.transform(y)"
   ]
  },
  {
   "cell_type": "code",
   "execution_count": 1395,
   "metadata": {
    "collapsed": true
   },
   "outputs": [],
   "source": [
    "y_samples_ = scaler_2.transform(y_samples)"
   ]
  },
  {
   "cell_type": "code",
   "execution_count": 1396,
   "metadata": {
    "collapsed": false
   },
   "outputs": [
    {
     "name": "stderr",
     "output_type": "stream",
     "text": [
      "C:\\Users\\rbj428\\AppData\\Local\\Continuum\\Anaconda2_2\\lib\\site-packages\\sklearn\\preprocessing\\data.py:649: DeprecationWarning: Passing 1d arrays as data is deprecated in 0.17 and will raise ValueError in 0.19. Reshape your data either using X.reshape(-1, 1) if your data has a single feature or X.reshape(1, -1) if it contains a single sample.\n",
      "  warnings.warn(DEPRECATION_MSG_1D, DeprecationWarning)\n"
     ]
    }
   ],
   "source": [
    "fitness_ = scaler_2.transform(fitness)"
   ]
  },
  {
   "cell_type": "code",
   "execution_count": 1397,
   "metadata": {
    "collapsed": false
   },
   "outputs": [
    {
     "data": {
      "text/plain": [
       "Matern(length_scale=0.237, nu=1.5)"
      ]
     },
     "execution_count": 1397,
     "metadata": {},
     "output_type": "execute_result"
    }
   ],
   "source": [
    "model.kernel_"
   ]
  },
  {
   "cell_type": "code",
   "execution_count": 1566,
   "metadata": {
    "collapsed": false
   },
   "outputs": [
    {
     "name": "stderr",
     "output_type": "stream",
     "text": [
      "C:\\Users\\rbj428\\AppData\\Local\\Continuum\\Anaconda2_2\\lib\\site-packages\\sklearn\\preprocessing\\data.py:649: DeprecationWarning: Passing 1d arrays as data is deprecated in 0.17 and will raise ValueError in 0.19. Reshape your data either using X.reshape(-1, 1) if your data has a single feature or X.reshape(1, -1) if it contains a single sample.\n",
      "  warnings.warn(DEPRECATION_MSG_1D, DeprecationWarning)\n",
      "C:\\Users\\rbj428\\AppData\\Local\\Continuum\\Anaconda2_2\\lib\\site-packages\\sklearn\\preprocessing\\data.py:649: DeprecationWarning: Passing 1d arrays as data is deprecated in 0.17 and will raise ValueError in 0.19. Reshape your data either using X.reshape(-1, 1) if your data has a single feature or X.reshape(1, -1) if it contains a single sample.\n",
      "  warnings.warn(DEPRECATION_MSG_1D, DeprecationWarning)\n",
      "C:\\Users\\rbj428\\AppData\\Local\\Continuum\\Anaconda2_2\\lib\\site-packages\\sklearn\\preprocessing\\data.py:649: DeprecationWarning: Passing 1d arrays as data is deprecated in 0.17 and will raise ValueError in 0.19. Reshape your data either using X.reshape(-1, 1) if your data has a single feature or X.reshape(1, -1) if it contains a single sample.\n",
      "  warnings.warn(DEPRECATION_MSG_1D, DeprecationWarning)\n"
     ]
    },
    {
     "data": {
      "text/plain": [
       "[<matplotlib.lines.Line2D at 0x8dcd42e8>,\n",
       " <matplotlib.lines.Line2D at 0x8e10f2b0>,\n",
       " <matplotlib.lines.Line2D at 0x8e10f390>,\n",
       " <matplotlib.lines.Line2D at 0x8e10f470>,\n",
       " <matplotlib.lines.Line2D at 0x8e10f550>,\n",
       " <matplotlib.lines.Line2D at 0x8e10f668>,\n",
       " <matplotlib.lines.Line2D at 0x8e10f780>,\n",
       " <matplotlib.lines.Line2D at 0x8e10f898>,\n",
       " <matplotlib.lines.Line2D at 0x8e10f9b0>,\n",
       " <matplotlib.lines.Line2D at 0x8e10fac8>,\n",
       " <matplotlib.lines.Line2D at 0x8e10fbe0>,\n",
       " <matplotlib.lines.Line2D at 0x8e10fcf8>,\n",
       " <matplotlib.lines.Line2D at 0x8e10fe10>,\n",
       " <matplotlib.lines.Line2D at 0x8e10ff28>,\n",
       " <matplotlib.lines.Line2D at 0x8e179080>,\n",
       " <matplotlib.lines.Line2D at 0x8e179198>,\n",
       " <matplotlib.lines.Line2D at 0x8e1792b0>,\n",
       " <matplotlib.lines.Line2D at 0x8e1793c8>,\n",
       " <matplotlib.lines.Line2D at 0x8e1794e0>,\n",
       " <matplotlib.lines.Line2D at 0x8e1795f8>,\n",
       " <matplotlib.lines.Line2D at 0x8e179710>,\n",
       " <matplotlib.lines.Line2D at 0x8e179828>,\n",
       " <matplotlib.lines.Line2D at 0x8e179940>,\n",
       " <matplotlib.lines.Line2D at 0x8e179a58>,\n",
       " <matplotlib.lines.Line2D at 0x8e179b70>,\n",
       " <matplotlib.lines.Line2D at 0x8e102ac8>,\n",
       " <matplotlib.lines.Line2D at 0x8e229d68>,\n",
       " <matplotlib.lines.Line2D at 0x8e2299e8>,\n",
       " <matplotlib.lines.Line2D at 0x8e229780>,\n",
       " <matplotlib.lines.Line2D at 0x8e229400>,\n",
       " <matplotlib.lines.Line2D at 0x8e229128>,\n",
       " <matplotlib.lines.Line2D at 0x8e21c898>,\n",
       " <matplotlib.lines.Line2D at 0x8e21cc50>,\n",
       " <matplotlib.lines.Line2D at 0x8e21c080>,\n",
       " <matplotlib.lines.Line2D at 0x8e21c240>,\n",
       " <matplotlib.lines.Line2D at 0x8e21c518>,\n",
       " <matplotlib.lines.Line2D at 0x8e246978>,\n",
       " <matplotlib.lines.Line2D at 0x8e246710>,\n",
       " <matplotlib.lines.Line2D at 0x8e2085c0>,\n",
       " <matplotlib.lines.Line2D at 0x8e2087f0>,\n",
       " <matplotlib.lines.Line2D at 0x8e208eb8>,\n",
       " <matplotlib.lines.Line2D at 0x8e208c50>,\n",
       " <matplotlib.lines.Line2D at 0x8e2084e0>,\n",
       " <matplotlib.lines.Line2D at 0x8e1ebc50>,\n",
       " <matplotlib.lines.Line2D at 0x8e1ebf28>,\n",
       " <matplotlib.lines.Line2D at 0x8e1ebf60>,\n",
       " <matplotlib.lines.Line2D at 0x8e1ebb70>,\n",
       " <matplotlib.lines.Line2D at 0x8e1eb780>,\n",
       " <matplotlib.lines.Line2D at 0x8e179c50>,\n",
       " <matplotlib.lines.Line2D at 0x8e179d68>,\n",
       " <matplotlib.lines.Line2D at 0x8e179e48>,\n",
       " <matplotlib.lines.Line2D at 0x8e179f28>,\n",
       " <matplotlib.lines.Line2D at 0x8e183048>,\n",
       " <matplotlib.lines.Line2D at 0x8e183128>,\n",
       " <matplotlib.lines.Line2D at 0x8e183208>,\n",
       " <matplotlib.lines.Line2D at 0x8e1832e8>,\n",
       " <matplotlib.lines.Line2D at 0x8e1833c8>,\n",
       " <matplotlib.lines.Line2D at 0x8e1834a8>,\n",
       " <matplotlib.lines.Line2D at 0x8e183588>,\n",
       " <matplotlib.lines.Line2D at 0x8e183668>,\n",
       " <matplotlib.lines.Line2D at 0x8e183748>,\n",
       " <matplotlib.lines.Line2D at 0x8e183828>,\n",
       " <matplotlib.lines.Line2D at 0x8e183908>,\n",
       " <matplotlib.lines.Line2D at 0x8e1839e8>,\n",
       " <matplotlib.lines.Line2D at 0x8e183ac8>,\n",
       " <matplotlib.lines.Line2D at 0x8e183ba8>,\n",
       " <matplotlib.lines.Line2D at 0x8e183cc0>,\n",
       " <matplotlib.lines.Line2D at 0x8e183dd8>,\n",
       " <matplotlib.lines.Line2D at 0x8e183ef0>,\n",
       " <matplotlib.lines.Line2D at 0x8e18f048>,\n",
       " <matplotlib.lines.Line2D at 0x8e18f160>,\n",
       " <matplotlib.lines.Line2D at 0x8e18f278>,\n",
       " <matplotlib.lines.Line2D at 0x8e18f390>,\n",
       " <matplotlib.lines.Line2D at 0x8e18f4a8>,\n",
       " <matplotlib.lines.Line2D at 0x8e18f5c0>,\n",
       " <matplotlib.lines.Line2D at 0x8e18f6d8>,\n",
       " <matplotlib.lines.Line2D at 0x8e18f7f0>,\n",
       " <matplotlib.lines.Line2D at 0x8e18f908>,\n",
       " <matplotlib.lines.Line2D at 0x8e18fa20>,\n",
       " <matplotlib.lines.Line2D at 0x8e18fb38>,\n",
       " <matplotlib.lines.Line2D at 0x8e18fc50>,\n",
       " <matplotlib.lines.Line2D at 0x8e18fd68>,\n",
       " <matplotlib.lines.Line2D at 0x8e18fe80>,\n",
       " <matplotlib.lines.Line2D at 0x8e18ff98>,\n",
       " <matplotlib.lines.Line2D at 0x8e19a0f0>,\n",
       " <matplotlib.lines.Line2D at 0x8e19a208>,\n",
       " <matplotlib.lines.Line2D at 0x8e19a3c8>,\n",
       " <matplotlib.lines.Line2D at 0x8e19a4e0>,\n",
       " <matplotlib.lines.Line2D at 0x8e19a588>,\n",
       " <matplotlib.lines.Line2D at 0x8e19a668>,\n",
       " <matplotlib.lines.Line2D at 0x8e19a780>,\n",
       " <matplotlib.lines.Line2D at 0x8e19a898>,\n",
       " <matplotlib.lines.Line2D at 0x8e19a9b0>,\n",
       " <matplotlib.lines.Line2D at 0x8e19aac8>,\n",
       " <matplotlib.lines.Line2D at 0x8e19abe0>,\n",
       " <matplotlib.lines.Line2D at 0x8e19acf8>,\n",
       " <matplotlib.lines.Line2D at 0x8e19ae10>,\n",
       " <matplotlib.lines.Line2D at 0x8e19af28>,\n",
       " <matplotlib.lines.Line2D at 0x8e1a4080>,\n",
       " <matplotlib.lines.Line2D at 0x8e1a4198>,\n",
       " <matplotlib.lines.Line2D at 0x8e1a42b0>,\n",
       " <matplotlib.lines.Line2D at 0x8e1a43c8>]"
      ]
     },
     "execution_count": 1566,
     "metadata": {},
     "output_type": "execute_result"
    },
    {
     "data": {
      "image/png": "[encoded data removed]",
      "text/plain": [
       "<matplotlib.figure.Figure at 0x8e1eac88>"
      ]
     },
     "metadata": {},
     "output_type": "display_data"
    }
   ],
   "source": [
    "#things to plot\n",
    "plt.plot(scaler_2.transform(x), y_, c=\"r\", linestyle = '-', linewidth = 1.5, label = \"Train\")\n",
    "y_pred_ = model.predict(scaler_1.transform(x_col))\n",
    "plt.plot(scaler_2.transform(x), y_pred_, linestyle = '--', c = 'b', linewidth = 1.5, label = \"Train\")\n",
    "plt.scatter(scaler_2.transform(points), fitness_, c=\"b\", s=90, alpha=0.9)\n",
    "\n",
    "y_samples = model.sample_y(scaler_1.transform(x_col), 102)\n",
    "plt.plot(scaler_2.transform(x_col), y_samples, lw=0.1, c='b')"
   ]
  },
  {
   "cell_type": "code",
   "execution_count": 1264,
   "metadata": {
    "collapsed": false
   },
   "outputs": [],
   "source": [
    "from sklearn.preprocessing import StandardScaler"
   ]
  },
  {
   "cell_type": "code",
   "execution_count": 1567,
   "metadata": {
    "collapsed": false
   },
   "outputs": [
    {
     "data": {
      "text/plain": [
       "102"
      ]
     },
     "execution_count": 1567,
     "metadata": {},
     "output_type": "execute_result"
    }
   ],
   "source": [
    "len(y_samples[0])"
   ]
  },
  {
   "cell_type": "code",
   "execution_count": 1571,
   "metadata": {
    "collapsed": false
   },
   "outputs": [
    {
     "data": {
      "text/plain": [
       "array([[-0.43102288, -0.33024234, -0.69782238, ..., -0.2358185 ,\n",
       "        -0.59744898, -0.29797406],\n",
       "       [-0.28934929, -0.20661312, -0.46529538, ..., -0.18807795,\n",
       "        -0.37992593, -0.20076449],\n",
       "       [-0.13996672, -0.13993397, -0.13994057, ..., -0.13995959,\n",
       "        -0.13994991, -0.13995322],\n",
       "       ..., \n",
       "       [-1.51038942, -1.56896182, -1.68457162, ..., -1.53420352,\n",
       "        -1.56398405, -1.54543603],\n",
       "       [-1.79659388, -1.79658609, -1.79657204, ..., -1.7965906 ,\n",
       "        -1.79661858, -1.79657659],\n",
       "       [-2.01235815, -1.92641688, -1.77041241, ..., -1.79380178,\n",
       "        -2.06467103, -1.82332267]])"
      ]
     },
     "execution_count": 1571,
     "metadata": {},
     "output_type": "execute_result"
    }
   ],
   "source": [
    "y_samples"
   ]
  },
  {
   "cell_type": "code",
   "execution_count": 1573,
   "metadata": {
    "collapsed": false
   },
   "outputs": [
    {
     "data": {
      "text/plain": [
       "(120L, 1L)"
      ]
     },
     "execution_count": 1573,
     "metadata": {},
     "output_type": "execute_result"
    }
   ],
   "source": [
    "scaler_2.transform(x_col).shape"
   ]
  },
  {
   "cell_type": "code",
   "execution_count": 586,
   "metadata": {
    "collapsed": true
   },
   "outputs": [],
   "source": [
    "scaler = StandardScaler()"
   ]
  },
  {
   "cell_type": "code",
   "execution_count": 587,
   "metadata": {
    "collapsed": false
   },
   "outputs": [
    {
     "name": "stderr",
     "output_type": "stream",
     "text": [
      "C:\\Users\\rbj428\\AppData\\Local\\Continuum\\Anaconda2_2\\lib\\site-packages\\sklearn\\preprocessing\\data.py:586: DeprecationWarning: Passing 1d arrays as data is deprecated in 0.17 and will raise ValueError in 0.19. Reshape your data either using X.reshape(-1, 1) if your data has a single feature or X.reshape(1, -1) if it contains a single sample.\n",
      "  warnings.warn(DEPRECATION_MSG_1D, DeprecationWarning)\n"
     ]
    },
    {
     "data": {
      "text/plain": [
       "StandardScaler(copy=True, with_mean=True, with_std=True)"
      ]
     },
     "execution_count": 587,
     "metadata": {},
     "output_type": "execute_result"
    }
   ],
   "source": [
    "scaler.fit(y0)"
   ]
  },
  {
   "cell_type": "code",
   "execution_count": null,
   "metadata": {
    "collapsed": true
   },
   "outputs": [],
   "source": [
    "scaler.transform(y0)"
   ]
  },
  {
   "cell_type": "code",
   "execution_count": null,
   "metadata": {
    "collapsed": true
   },
   "outputs": [],
   "source": []
  },
  {
   "cell_type": "code",
   "execution_count": null,
   "metadata": {
    "collapsed": true
   },
   "outputs": [],
   "source": []
  },
  {
   "cell_type": "code",
   "execution_count": null,
   "metadata": {
    "collapsed": true
   },
   "outputs": [],
   "source": []
  },
  {
   "cell_type": "code",
   "execution_count": null,
   "metadata": {
    "collapsed": true
   },
   "outputs": [],
   "source": [
    "from sklearn.gaussian_process.kernels import (RBF, Matern, RationalQuadratic,\n",
    "                                              ExpSineSquared, DotProduct,\n",
    "                                              ConstantKernel)\n",
    "\n",
    "\n",
    "kernels = [1.0 * RBF(length_scale=1.0, length_scale_bounds=(1e-1, 10.0)),\n",
    "           1.0 * RationalQuadratic(length_scale=1.0, alpha=0.1),\n",
    "           1.0 * ExpSineSquared(length_scale=1.0, periodicity=3.0,\n",
    "                                length_scale_bounds=(0.1, 10.0),\n",
    "                                periodicity_bounds=(1.0, 10.0)),\n",
    "           ConstantKernel(0.1, (0.01, 10.0))\n",
    "               * (DotProduct(sigma_0=1.0, sigma_0_bounds=(0.0, 10.0)) ** 2),\n",
    "           1.0 * Matern(length_scale=1.0, length_scale_bounds=(1e-1, 10.0),\n",
    "                        nu=1.5)]\n"
   ]
  },
  {
   "cell_type": "code",
   "execution_count": null,
   "metadata": {
    "collapsed": true
   },
   "outputs": [],
   "source": []
  },
  {
   "cell_type": "code",
   "execution_count": null,
   "metadata": {
    "collapsed": true
   },
   "outputs": [],
   "source": []
  },
  {
   "cell_type": "code",
   "execution_count": null,
   "metadata": {
    "collapsed": true
   },
   "outputs": [],
   "source": []
  },
  {
   "cell_type": "code",
   "execution_count": null,
   "metadata": {
    "collapsed": true
   },
   "outputs": [],
   "source": []
  },
  {
   "cell_type": "code",
   "execution_count": null,
   "metadata": {
    "collapsed": true
   },
   "outputs": [],
   "source": []
  },
  {
   "cell_type": "code",
   "execution_count": 1,
   "metadata": {
    "collapsed": true
   },
   "outputs": [],
   "source": [
    "from sklearn.base import BaseEstimator, ClassifierMixin\n",
    "from sklearn.feature_extraction import DictVectorizer\n",
    "from sklearn.preprocessing import StandardScaler\n",
    "from sklearn.gaussian_process import GaussianProcessRegressor\n",
    "from sklearn.gaussian_process.kernels import Matern\n",
    "from sklearn.gaussian_process.kernels import WhiteKernel\n",
    "from numpy import array\n",
    "\n",
    "class GaussianProcessRegressor_(BaseEstimator, ClassifierMixin):\n",
    "    #standard init function\n",
    "    def __init__(self, nu = 1.5):\n",
    "        self.nu = nu\n",
    "        return None\n",
    "    #creates an explicit pipeline so that special features of the gp regressor can be accessed\n",
    "    def fit(self, X, y, dy = None):\n",
    "        #transformers\n",
    "        self.dict_vectorizer_ = DictVectorizer(sparse = False)\n",
    "        self.standard_scaler_ = StandardScaler()\n",
    "        self.standard_scaler_y_ = StandardScaler()\n",
    "        #predictor\n",
    "        dimensions = len(X[0])\n",
    "        kernel = (Matern(length_scale = [1.0 for axis in range(dimensions)], nu = self.nu) \n",
    "                  + WhiteKernel(noise_level=1.0, noise_level_bounds=(1e-05, 100000.0)))\n",
    "        if dy is None:\n",
    "            self.gaussian_process_ = GaussianProcessRegressor(kernel = kernel, n_restarts_optimizer = 100)\n",
    "        else:\n",
    "            self.gaussian_process_ = GaussianProcessRegressor(kernel = kernel, alpha = dy, n_restarts_optimizer = 100)\n",
    "        #transform and fit\n",
    "        X = self.dict_vectorizer_.fit_transform(X)\n",
    "        X = self.standard_scaler_.fit_transform(X)\n",
    "        y = array(y)\n",
    "        y.shape = (len(y), 1)\n",
    "        y = self.standard_scaler_y_.fit_transform(y)\n",
    "        y.shape = (1, len(y))\n",
    "        y = y[0]\n",
    "        self.gaussian_process_.fit(X, y)\n",
    "        return self\n",
    "    #predict the thing and inverse transform the predicted scaled output  \n",
    "    def predict(self, X, y = None, return_std = False):\n",
    "        X = self.dict_vectorizer_.transform(X)\n",
    "        X = self.standard_scaler_.transform(X)\n",
    "        y_predict_scaled = self.gaussian_process_.predict(X)\n",
    "        if not return_std:\n",
    "            y_predict_scaled = self.gaussian_process_.predict(X)\n",
    "            y_predict = self.standard_scaler_y_.inverse_transform(y_predict_scaled)\n",
    "            return y_predict\n",
    "        else:\n",
    "            y_predict_scaled, y_std_scaled = self.gaussian_process_.predict(X, return_std = True)\n",
    "            y_predict = self.standard_scaler_y_.inverse_transform(y_predict_scaled)\n",
    "            y_upper = self.standard_scaler_y_.inverse_transform(y_predict_scaled + y_std_scaled)\n",
    "            return y_predict, (y_upper - y_predict)"
   ]
  },
  {
   "cell_type": "code",
   "execution_count": null,
   "metadata": {
    "collapsed": true
   },
   "outputs": [],
   "source": []
  },
  {
   "cell_type": "code",
   "execution_count": null,
   "metadata": {
    "collapsed": true
   },
   "outputs": [],
   "source": []
  },
  {
   "cell_type": "code",
   "execution_count": null,
   "metadata": {
    "collapsed": true
   },
   "outputs": [],
   "source": []
  },
  {
   "cell_type": "code",
   "execution_count": null,
   "metadata": {
    "collapsed": true
   },
   "outputs": [],
   "source": [
    "####################################################################"
   ]
  },
  {
   "cell_type": "code",
   "execution_count": 6,
   "metadata": {
    "collapsed": true
   },
   "outputs": [],
   "source": [
    "from sklearn.base import BaseEstimator, ClassifierMixin\n",
    "from sklearn.feature_extraction import DictVectorizer\n",
    "from sklearn.preprocessing import StandardScaler\n",
    "from sklearn.gaussian_process import GaussianProcessRegressor\n",
    "from sklearn.gaussian_process.kernels import Matern\n",
    "from sklearn.gaussian_process.kernels import WhiteKernel\n",
    "from numpy import array\n",
    "\n",
    "class GaussianProcessRegressor_(BaseEstimator, ClassifierMixin):\n",
    "    #standard init function\n",
    "    def __init__(self, nu = 1.5):\n",
    "        self.nu = nu\n",
    "        return None\n",
    "    #creates an explicit pipeline so that special features of the gp regressor can be accessed\n",
    "    def fit(self, X, y, dy = None):\n",
    "        #transformers\n",
    "        self.standard_scaler_ = StandardScaler()\n",
    "        self.standard_scaler_y_ = StandardScaler()\n",
    "        #predictor\n",
    "        dimensions = len(X[0])\n",
    "        kernel = (Matern(length_scale = [1.0 for axis in range(dimensions)], nu = self.nu) \n",
    "                  + WhiteKernel(noise_level=1.0, noise_level_bounds=(1e-05, 100000.0)))\n",
    "        if dy is None:\n",
    "            self.gaussian_process_ = GaussianProcessRegressor(kernel = kernel, n_restarts_optimizer = 100)\n",
    "        else:\n",
    "            self.gaussian_process_ = GaussianProcessRegressor(kernel = kernel, alpha = dy, n_restarts_optimizer = 100)\n",
    "        #transform and fit\n",
    "        X = self.standard_scaler_.fit_transform(X)\n",
    "        y = array(y)\n",
    "        y.shape = (len(y), 1)\n",
    "        y = self.standard_scaler_y_.fit_transform(y)\n",
    "        y.shape = (1, len(y))\n",
    "        y = y[0]\n",
    "        self.gaussian_process_.fit(X, y)\n",
    "        return self\n",
    "    #predict the thing and inverse transform the predicted scaled output  \n",
    "    def predict(self, X, y = None, return_std = False):\n",
    "        X = self.standard_scaler_.transform(X)\n",
    "        y_predict_scaled = self.gaussian_process_.predict(X)\n",
    "        if not return_std:\n",
    "            y_predict_scaled = self.gaussian_process_.predict(X)\n",
    "            y_predict = self.standard_scaler_y_.inverse_transform(y_predict_scaled)\n",
    "            return y_predict\n",
    "        else:\n",
    "            y_predict_scaled, y_std_scaled = self.gaussian_process_.predict(X, return_std = True)\n",
    "            y_predict = self.standard_scaler_y_.inverse_transform(y_predict_scaled)\n",
    "            y_upper = self.standard_scaler_y_.inverse_transform(y_predict_scaled + y_std_scaled)\n",
    "            return y_predict, (y_upper - y_predict)"
   ]
  },
  {
   "cell_type": "code",
   "execution_count": null,
   "metadata": {
    "collapsed": true
   },
   "outputs": [],
   "source": []
  },
  {
   "cell_type": "code",
   "execution_count": null,
   "metadata": {
    "collapsed": true
   },
   "outputs": [],
   "source": []
  },
  {
   "cell_type": "code",
   "execution_count": null,
   "metadata": {
    "collapsed": true
   },
   "outputs": [],
   "source": []
  },
  {
   "cell_type": "code",
   "execution_count": null,
   "metadata": {
    "collapsed": true
   },
   "outputs": [],
   "source": []
  },
  {
   "cell_type": "code",
   "execution_count": null,
   "metadata": {
    "collapsed": true
   },
   "outputs": [],
   "source": []
  },
  {
   "cell_type": "code",
   "execution_count": null,
   "metadata": {
    "collapsed": true
   },
   "outputs": [],
   "source": []
  },
  {
   "cell_type": "code",
   "execution_count": 60,
   "metadata": {
    "collapsed": false
   },
   "outputs": [
    {
     "ename": "IndentationError",
     "evalue": "expected an indented block (<ipython-input-60-a2f62761cbf2>, line 25)",
     "output_type": "error",
     "traceback": [
      "\u001b[0;36m  File \u001b[0;32m\"<ipython-input-60-a2f62761cbf2>\"\u001b[0;36m, line \u001b[0;32m25\u001b[0m\n\u001b[0;31m    def ObjectiveFunction(self, x):\u001b[0m\n\u001b[0m      ^\u001b[0m\n\u001b[0;31mIndentationError\u001b[0m\u001b[0;31m:\u001b[0m expected an indented block\n"
     ]
    }
   ],
   "source": [
    "-"
   ]
  },
  {
   "cell_type": "code",
   "execution_count": 33,
   "metadata": {
    "collapsed": false
   },
   "outputs": [
    {
     "data": {
      "text/plain": [
       "[3.8829311443269869, 37.336450439324501, 0.87140609640686761]"
      ]
     },
     "execution_count": 33,
     "metadata": {},
     "output_type": "execute_result"
    }
   ],
   "source": [
    "from random import uniform\n",
    "[uniform(lower, upper) for lower, upper in array([(-2,4), (-3.0,55.0), (0, 5)])]"
   ]
  },
  {
   "cell_type": "code",
   "execution_count": 31,
   "metadata": {
    "collapsed": true
   },
   "outputs": [],
   "source": [
    "class RegressorOptimizerWrapper:\n",
    "    def __init__(self):\n",
    "        None"
   ]
  },
  {
   "cell_type": "code",
   "execution_count": null,
   "metadata": {
    "collapsed": true
   },
   "outputs": [],
   "source": [
    "class BayesianOptimizer:\n",
    "    def __init__(self, T_max = 100.0, T_min = 0.00000001, T_scale = 0.999999, num_samples = 10):\n",
    "        #simulated annealing\n",
    "        self.T_max = T_max\n",
    "        self.T_min = T_min\n",
    "        self.T_scale = T_scale\n",
    "        self.num_samples = num_samples\n",
    "        return None\n",
    "    #pickle the \n",
    "    def SaveState(self, filename):\n",
    "        None\n",
    "    def LoadState(self, filename):\n",
    "        None\n",
    "    def \n",
    "        \n",
    "    def Optimize(self, T_max = 100.0, T_min = 0.00000001, T_scale = 0.999999, num_samples = 10):"
   ]
  },
  {
   "cell_type": "code",
   "execution_count": 28,
   "metadata": {
    "collapsed": false
   },
   "outputs": [
    {
     "data": {
      "text/plain": [
       "[(2, 4, 7), (3, 5, 8)]"
      ]
     },
     "execution_count": 28,
     "metadata": {},
     "output_type": "execute_result"
    }
   ],
   "source": [
    "zip(*[(2,3), (4,5), (7,8)])"
   ]
  },
  {
   "cell_type": "code",
   "execution_count": null,
   "metadata": {
    "collapsed": true
   },
   "outputs": [],
   "source": []
  },
  {
   "cell_type": "code",
   "execution_count": 2,
   "metadata": {
    "collapsed": true
   },
   "outputs": [],
   "source": [
    "def Polynomial(x):\n",
    "    return 1.5 - 2.0*x + 3.3*x**2.0 - 0.1*x**4.0"
   ]
  },
  {
   "cell_type": "code",
   "execution_count": 3,
   "metadata": {
    "collapsed": false
   },
   "outputs": [],
   "source": [
    "points = [[-5.8], [-5.5], [-4.5], [-3.0], [-2.5], [0], [2], [5], [5.5], [5.8]]\n",
    "#features = [{'x': -5.8}, {'x': -5.5}, {'x': -4.5}, {'x': -3}, {'x': -2.5}, {'x': 0}, {'x': 2}, {'x': 5}, {'x': 5.5}, {'x': 5.8}]\n",
    "fitness = [Polynomial(-5.8), Polynomial(-5.5), Polynomial(-4.5), Polynomial(-3), Polynomial(-2.5), Polynomial(0), Polynomial(2), Polynomial(5), Polynomial(5.5), Polynomial(5.8)]"
   ]
  },
  {
   "cell_type": "code",
   "execution_count": 14,
   "metadata": {
    "collapsed": true
   },
   "outputs": [],
   "source": [
    "points = [[-5.8], [-3.0], [-2.5], [0], [2], [5], [5.5], [5.8]]\n",
    "#features = [{'x': -5.8}, {'x': -3}, {'x': -2.5}, {'x': 0}, {'x': 2}, {'x': 5}, {'x': 5.5}, {'x': 5.8}]\n",
    "fitness = [Polynomial(-5.8), Polynomial(-3), Polynomial(-2.5), Polynomial(0), Polynomial(2), Polynomial(5), Polynomial(5.5), Polynomial(5.8)]"
   ]
  },
  {
   "cell_type": "code",
   "execution_count": 7,
   "metadata": {
    "collapsed": true
   },
   "outputs": [],
   "source": [
    "gp_pipe = GaussianProcessRegressor_(nu = 1.5)"
   ]
  },
  {
   "cell_type": "code",
   "execution_count": 8,
   "metadata": {
    "collapsed": false
   },
   "outputs": [
    {
     "data": {
      "text/plain": [
       "GaussianProcessRegressor_(nu=1.5)"
      ]
     },
     "execution_count": 8,
     "metadata": {},
     "output_type": "execute_result"
    }
   ],
   "source": [
    "gp_pipe.fit(points, fitness)"
   ]
  },
  {
   "cell_type": "code",
   "execution_count": 9,
   "metadata": {
    "collapsed": false
   },
   "outputs": [
    {
     "name": "stderr",
     "output_type": "stream",
     "text": [
      "C:\\Users\\rbj428\\AppData\\Local\\Continuum\\Anaconda2_3\\lib\\site-packages\\sklearn\\utils\\validation.py:429: DataConversionWarning: Data with input dtype int32 was converted to float64 by StandardScaler.\n",
      "  warnings.warn(msg, _DataConversionWarning)\n"
     ]
    },
    {
     "data": {
      "text/plain": [
       "(array([ 14.99013008]), array([ 11.52595322]))"
      ]
     },
     "execution_count": 9,
     "metadata": {},
     "output_type": "execute_result"
    }
   ],
   "source": [
    "gp_pipe.predict(array([array([4])]), return_std = True)"
   ]
  },
  {
   "cell_type": "code",
   "execution_count": 59,
   "metadata": {
    "collapsed": false
   },
   "outputs": [
    {
     "data": {
      "text/plain": [
       "array([[4]])"
      ]
     },
     "execution_count": 59,
     "metadata": {},
     "output_type": "execute_result"
    }
   ],
   "source": [
    "array([array([4])])"
   ]
  },
  {
   "cell_type": "code",
   "execution_count": null,
   "metadata": {
    "collapsed": true
   },
   "outputs": [],
   "source": []
  },
  {
   "cell_type": "code",
   "execution_count": 23,
   "metadata": {
    "collapsed": false
   },
   "outputs": [
    {
     "data": {
      "text/plain": [
       "array([[4, 5, 6],\n",
       "       [4, 5, 6]])"
      ]
     },
     "execution_count": 23,
     "metadata": {},
     "output_type": "execute_result"
    }
   ],
   "source": [
    "array([array([4,5,6]),array([4,5,6])])"
   ]
  },
  {
   "cell_type": "code",
   "execution_count": null,
   "metadata": {
    "collapsed": true
   },
   "outputs": [],
   "source": []
  },
  {
   "cell_type": "code",
   "execution_count": null,
   "metadata": {
    "collapsed": true
   },
   "outputs": [],
   "source": []
  },
  {
   "cell_type": "code",
   "execution_count": 39,
   "metadata": {
    "collapsed": true
   },
   "outputs": [],
   "source": [
    "r_init = -20\n",
    "r_end = 20\n",
    "r = r_init\n",
    "dr = 0.01\n",
    "rs = []\n",
    "data = []\n",
    "while r <= r_end:\n",
    "    data.append([r])\n",
    "    rs.append(r)\n",
    "    r = r + dr"
   ]
  },
  {
   "cell_type": "code",
   "execution_count": 40,
   "metadata": {
    "collapsed": false
   },
   "outputs": [],
   "source": [
    "mean_gp = gp_pipe.predict(data)"
   ]
  },
  {
   "cell_type": "code",
   "execution_count": 41,
   "metadata": {
    "collapsed": false
   },
   "outputs": [
    {
     "data": {
      "text/plain": [
       "Matern(length_scale=0.252, nu=1.5) + WhiteKernel(noise_level=0.0156)"
      ]
     },
     "execution_count": 41,
     "metadata": {},
     "output_type": "execute_result"
    }
   ],
   "source": [
    "gp_pipe.gaussian_process_.kernel_"
   ]
  },
  {
   "cell_type": "code",
   "execution_count": 42,
   "metadata": {
    "collapsed": false
   },
   "outputs": [],
   "source": [
    "mean_gp, std_gp = gp_pipe.predict(data, return_std = True)"
   ]
  },
  {
   "cell_type": "code",
   "execution_count": 43,
   "metadata": {
    "collapsed": true
   },
   "outputs": [],
   "source": [
    "def Polynomial(x):\n",
    "    return 1.5 - 2.0*x + 3.3*x**2.0 - 0.1*x**4.0"
   ]
  },
  {
   "cell_type": "code",
   "execution_count": 44,
   "metadata": {
    "collapsed": true
   },
   "outputs": [],
   "source": [
    "poly = [Polynomial(r) for r in rs]"
   ]
  },
  {
   "cell_type": "code",
   "execution_count": 45,
   "metadata": {
    "collapsed": false
   },
   "outputs": [
    {
     "data": {
      "text/plain": [
       "array([-1.2059946 , -1.20599461, -1.20599461, ..., -1.20599472,\n",
       "       -1.20599472, -1.20599471])"
      ]
     },
     "execution_count": 45,
     "metadata": {},
     "output_type": "execute_result"
    }
   ],
   "source": [
    "mean_gp - std_gp"
   ]
  },
  {
   "cell_type": "code",
   "execution_count": 46,
   "metadata": {
    "collapsed": false
   },
   "outputs": [
    {
     "name": "stdout",
     "output_type": "stream",
     "text": [
      "[ 14.11290253  14.11290253  14.11290253  14.11290253  14.11290253\n",
      "  14.11290253  14.11290253  14.11290253  14.11290253  14.11290253\n",
      "  14.11290253  14.11290253  14.11290253  14.11290253  14.11290253\n",
      "  14.11290253  14.11290253  14.11290253  14.11290253  14.11290253\n",
      "  14.11290253  14.11290253  14.11290253  14.11290253  14.11290253\n",
      "  14.11290253  14.11290253  14.11290253  14.11290253  14.11290253\n",
      "  14.11290253  14.11290253  14.11290253  14.11290253  14.11290253\n",
      "  14.11290253  14.11290253  14.11290253  14.11290253  14.11290253\n",
      "  14.11290253  14.11290253  14.11290253  14.11290253  14.11290253\n",
      "  14.11290253  14.11290253  14.11290253  14.11290253  14.11290253\n",
      "  14.11290253  14.11290253  14.11290253  14.11290253  14.11290253\n",
      "  14.11290253  14.11290253  14.11290253  14.11290253  14.11290253\n",
      "  14.11290253  14.11290253  14.11290253  14.11290253  14.11290253\n",
      "  14.11290253  14.11290253  14.11290253  14.11290253  14.11290253\n",
      "  14.11290253  14.11290253  14.11290253  14.11290253  14.11290253\n",
      "  14.11290253  14.11290253  14.11290253  14.11290253  14.11290253\n",
      "  14.11290253  14.11290253  14.11290253  14.11290253  14.11290253\n",
      "  14.11290253  14.11290253  14.11290253  14.11290253  14.11290253\n",
      "  14.11290253  14.11290253  14.11290253  14.11290253  14.11290253\n",
      "  14.11290253  14.11290253  14.11290253  14.11290253  14.11290253]\n"
     ]
    }
   ],
   "source": [
    "print std_gp[0:100]"
   ]
  },
  {
   "cell_type": "code",
   "execution_count": 15,
   "metadata": {
    "collapsed": false
   },
   "outputs": [
    {
     "data": {
      "text/plain": [
       "(array([ 14.99013008]), array([ 11.52595322]))"
      ]
     },
     "execution_count": 15,
     "metadata": {},
     "output_type": "execute_result"
    }
   ],
   "source": [
    "gp_pipe.predict(array([array([4])]), return_std = True)"
   ]
  },
  {
   "cell_type": "code",
   "execution_count": null,
   "metadata": {
    "collapsed": true
   },
   "outputs": [],
   "source": []
  },
  {
   "cell_type": "code",
   "execution_count": null,
   "metadata": {
    "collapsed": true
   },
   "outputs": [],
   "source": []
  },
  {
   "cell_type": "code",
   "execution_count": null,
   "metadata": {
    "collapsed": true
   },
   "outputs": [],
   "source": []
  },
  {
   "cell_type": "code",
   "execution_count": null,
   "metadata": {
    "collapsed": true
   },
   "outputs": [],
   "source": []
  },
  {
   "cell_type": "code",
   "execution_count": 47,
   "metadata": {
    "collapsed": true
   },
   "outputs": [],
   "source": [
    "import matplotlib.pyplot as plt"
   ]
  },
  {
   "cell_type": "code",
   "execution_count": 48,
   "metadata": {
    "collapsed": false
   },
   "outputs": [
    {
     "data": {
      "text/plain": [
       "(-15, 15)"
      ]
     },
     "execution_count": 48,
     "metadata": {},
     "output_type": "execute_result"
    },
    {
     "data": {
      "image/png": "[encoded data removed]",
      "text/plain": [
       "<matplotlib.figure.Figure at 0xa753c50>"
      ]
     },
     "metadata": {},
     "output_type": "display_data"
    }
   ],
   "source": [
    "plt.plot(rs, poly, lw=2, c='r')\n",
    "plt.plot(rs, mean_gp, lw=2, c='b')\n",
    "plt.fill_between(rs, mean_gp - 2*std_gp, mean_gp + 2*std_gp,\n",
    "                     alpha=0.2, color='b')\n",
    "plt.scatter(points, fitness, c=\"b\", s=90, alpha=0.9)\n",
    "plt.ylim(-40, 60)\n",
    "plt.xlim(-15, 15)\n",
    "#plt.plot([[r] for r in rs], ensemble_gp, lw=0.02, c='b')\n",
    "#plt.plot([r for r in rs], ensemble_gp, lw=0.02, c='b')"
   ]
  },
  {
   "cell_type": "code",
   "execution_count": 2209,
   "metadata": {
    "collapsed": false
   },
   "outputs": [
    {
     "data": {
      "text/plain": [
       "(-15, 15)"
      ]
     },
     "execution_count": 2209,
     "metadata": {},
     "output_type": "execute_result"
    },
    {
     "data": {
      "image/png": "[encoded data removed]",
      "text/plain": [
       "<matplotlib.figure.Figure at 0x93e86860>"
      ]
     },
     "metadata": {},
     "output_type": "display_data"
    }
   ],
   "source": [
    "plt.plot(rs, poly, lw=2, c='r')\n",
    "plt.plot(rs, mean_gp, lw=2, c='b')\n",
    "plt.fill_between(rs, mean_gp - 2*std_gp, mean_gp + 2*std_gp,\n",
    "                     alpha=0.2, color='b')\n",
    "plt.scatter(points, fitness, c=\"b\", s=90, alpha=0.9)\n",
    "plt.ylim(-40, 60)\n",
    "plt.xlim(-15, 15)\n",
    "#plt.plot([[r] for r in rs], ensemble_gp, lw=0.02, c='b')\n",
    "#plt.plot([r for r in rs], ensemble_gp, lw=0.02, c='b')"
   ]
  },
  {
   "cell_type": "code",
   "execution_count": 1909,
   "metadata": {
    "collapsed": false
   },
   "outputs": [
    {
     "data": {
      "text/plain": [
       "(-20, 20)"
      ]
     },
     "execution_count": 1909,
     "metadata": {},
     "output_type": "execute_result"
    },
    {
     "data": {
      "image/png": "[encoded data removed]",
      "text/plain": [
       "<matplotlib.figure.Figure at 0x908fe940>"
      ]
     },
     "metadata": {},
     "output_type": "display_data"
    }
   ],
   "source": [
    "plt.plot(rs, poly, lw=2, c='r')\n",
    "plt.plot(rs, mean_gp, lw=2, c='b')\n",
    "plt.fill_between(rs, mean_gp - 2*std_gp, mean_gp + 2*std_gp,\n",
    "                     alpha=0.2, color='b')\n",
    "plt.scatter(points, fitness, c=\"b\", s=90, alpha=0.9)\n",
    "plt.ylim(-40, 60)\n",
    "plt.xlim(-20, 20)\n",
    "#plt.plot([[r] for r in rs], ensemble_gp, lw=0.02, c='b')\n",
    "#plt.plot([r for r in rs], ensemble_gp, lw=0.02, c='b')"
   ]
  },
  {
   "cell_type": "code",
   "execution_count": 1706,
   "metadata": {
    "collapsed": false
   },
   "outputs": [
    {
     "data": {
      "text/plain": [
       "array([[  7.23031009,   7.35182938,   7.47906685, ..., -14.65047876,\n",
       "        -14.68164336, -14.70418364]])"
      ]
     },
     "execution_count": 1706,
     "metadata": {},
     "output_type": "execute_result"
    }
   ],
   "source": [
    "mean_gp"
   ]
  },
  {
   "cell_type": "code",
   "execution_count": null,
   "metadata": {
    "collapsed": true
   },
   "outputs": [],
   "source": []
  },
  {
   "cell_type": "code",
   "execution_count": null,
   "metadata": {
    "collapsed": true
   },
   "outputs": [],
   "source": []
  },
  {
   "cell_type": "code",
   "execution_count": null,
   "metadata": {
    "collapsed": true
   },
   "outputs": [],
   "source": []
  },
  {
   "cell_type": "code",
   "execution_count": 1439,
   "metadata": {
    "collapsed": true
   },
   "outputs": [],
   "source": [
    "#will be using numpy a bit for matrix and vector math\n",
    "from numpy import array, amax\n",
    "#for mapping categorical variables to a onehot encoding\n",
    "#from sklearn.preprocessing import OneHotEncoder\n",
    "from sklearn.feature_extraction import DictVectorizer\n",
    "#for ensuring that the mean is removed\n",
    "from sklearn.preprocessing import StandardScaler\n",
    "#model the fitness landscape\n",
    "from sklearn.gaussian_process import GaussianProcessRegressor\n",
    "#used to merge the scaling of data and modeling steps\n",
    "from sklearn.pipeline import Pipeline\n",
    "\n",
    "class BayesianOptimizer:\n",
    "    #initialize any variables needed by the machine learning step\n",
    "    def __init__(self, T_max = 100.0, T_min = 0.00000001, T_scale = 0.999999, num_samples = 10):\n",
    "        #simulated annealing\n",
    "        self.T_max = T_max\n",
    "        self.T_min = T_min\n",
    "        self.T_scale = T_scale\n",
    "        self.num_samples = num_samples\n",
    "        return None\n",
    "    #load in the initial data set to start making predictions\n",
    "    #this also establishes the dimensionality of the data set\n",
    "    #need to have at least one entry with each categorical value\n",
    "    def InitialSamples(self, features, fitness):\n",
    "        #the number of dimensions and the kernel to use\n",
    "        dimensions = len(features[0])\n",
    "        kernel = Matern(length_scale = [1.0 for axis in range(dimensions)], nu = 1.5)\n",
    "        #for the long term model\n",
    "        self.features = features\n",
    "        self.fitness = fitness\n",
    "        self.y_scaler = StandardScaler()\n",
    "        self.model = Pipeline([('dv', DictVectorizer(sparse = False)), \n",
    "                               ('sc', StandardScaler()), \n",
    "                               ('gp', GaussianProcessRegressor(kernel = kernel, n_restarts_optimizer = 100))])\n",
    "        self.max_y = None\n",
    "        #for multipoint sample suggestions \n",
    "        self.features_mp = None\n",
    "        self.fitness_mp = None\n",
    "        self.y_scaler_mp = StandardScaler()\n",
    "        self.model_mp = Pipeline([('dv', DictVectorizer(sparse = False)), \n",
    "                                  ('sc', StandardScaler()), \n",
    "                                  ('gp', GaussianProcessRegressor(kernel = kernel, n_restarts_optimizer = 100))])\n",
    "        self.max_y_mp = None\n",
    "        return None\n",
    "    #add one or more samples to the data set    \n",
    "    def AddSamples(self, new_features, new_fitness):   \n",
    "        self.features = self.features + new_features\n",
    "        self.fitness = self.fitness + new_fitness\n",
    "        return None\n",
    "    #builds the appropriate model when needed    \n",
    "    def BuildModelAndScaler(self, model_type):\n",
    "        if model_type == 'original':\n",
    "            X = self.features\n",
    "            y_raw = array(self.fitness)\n",
    "            y_raw.shape = (len(self.fitness), 1)\n",
    "            y = self.y_scaler.fit_transform(y_raw)\n",
    "            self.max_y = amax(y, 0)[0]\n",
    "            print X\n",
    "            print y\n",
    "            self.model.fit(X, y)\n",
    "        elif model_type == 'multipoint':\n",
    "            X = self.features_mp\n",
    "            y_raw = array(self.fitness_mp)\n",
    "            y_raw.shape = (len(self.fitness_mp), 1)\n",
    "            y = self.y_scaler_mp.fit_transform(y_raw)\n",
    "            self.max_y_mp = amax(y, 0)[0]\n",
    "            self.model_mp.fit(X, y)\n",
    "        return None\n",
    "\n",
    "    #calculates the bayesian expected improvement for a batch of possible sample points\n",
    "    def ExpectedImprovement(self, x):\n",
    "        expected_improvement = 0.0\n",
    "        for i in range(self.num_bootstrap_models):\n",
    "            y_pred = self.bootstrap_models[i].predict(x)\n",
    "            expected_improvement = expected_improvement + float(bool(y_pred < self.max_y))*(y_pred - self.max_y)\n",
    "        expected_improvement = expected_improvement/float(self.num_bootstrap_models)\n",
    "        return expected_improvement\n",
    "    #find the next point to carry out an explicit fitness evaluation\n",
    "    #this uses the \"expected improvement\" as as aquisition function\n",
    "    def FindNextPointSA(self, print_stats = True):\n",
    "        #generate the posterior distribution\n",
    "        if print_stats:\n",
    "            print 'Generating bootstrapped posterior distribution...'\n",
    "        Bootstrap()\n",
    "        #perform the simulated annealing cycles\n",
    "        if print_stats:\n",
    "            print 'Performing %i randomly initialized simulated annealing cycles...' % self.num_samples\n",
    "        for i in range(self.num_samples):\n",
    "            T = self.T_max\n",
    "            #while T >= self.T_min:\n",
    "                #pick random feature\n",
    "                #pick random displacement (based on the range)\n",
    "                #accept or reject based on boltzmann factor\n",
    "                \n",
    "            \n",
    "            \n",
    "        \n",
    "            \n",
    "        \n",
    "   \n",
    "        "
   ]
  },
  {
   "cell_type": "code",
   "execution_count": null,
   "metadata": {
    "collapsed": true
   },
   "outputs": [],
   "source": []
  },
  {
   "cell_type": "code",
   "execution_count": 1440,
   "metadata": {
    "collapsed": true
   },
   "outputs": [],
   "source": [
    "points = [-5.8, -5.5, -4.5, -3.0, -2.5, 0, 2, 5, 5.5, 5.8]\n",
    "features = [{'x': -5.8}, {'x': -5.5}, {'x': -4.5}, {'x': -3}, {'x': -2.5}, {'x': 0}, {'x': 2}, {'x': 5}, {'x': 5.5}, {'x': 5.8}]\n",
    "fitness = [Polynomial(-5.8), Polynomial(-5.5), Polynomial(-4.5), Polynomial(-3), Polynomial(-2.5), Polynomial(0), Polynomial(2), Polynomial(5), Polynomial(5.5), Polynomial(5.8)]"
   ]
  },
  {
   "cell_type": "code",
   "execution_count": 1441,
   "metadata": {
    "collapsed": true
   },
   "outputs": [],
   "source": [
    "bayesian_optimizer = BayesianOptimizer()"
   ]
  },
  {
   "cell_type": "code",
   "execution_count": 1442,
   "metadata": {
    "collapsed": false
   },
   "outputs": [],
   "source": [
    "bayesian_optimizer.InitialSamples(features, fitness)"
   ]
  },
  {
   "cell_type": "code",
   "execution_count": 1443,
   "metadata": {
    "collapsed": false
   },
   "outputs": [
    {
     "name": "stdout",
     "output_type": "stream",
     "text": [
      "[{'x': -5.8}, {'x': -5.5}, {'x': -4.5}, {'x': -3}, {'x': -2.5}, {'x': 0}, {'x': 2}, {'x': 5}, {'x': 5.5}, {'x': 5.8}]\n",
      "[[-0.13994818]\n",
      " [ 0.56496043]\n",
      " [ 1.67176802]\n",
      " [ 1.15629916]\n",
      " [ 0.73633709]\n",
      " [-0.8145324 ]\n",
      " [-0.27183965]\n",
      " [-0.100463  ]\n",
      " [-1.00599226]\n",
      " [-1.7965892 ]]\n"
     ]
    }
   ],
   "source": [
    "bayesian_optimizer.BuildModelAndScaler('original')"
   ]
  },
  {
   "cell_type": "code",
   "execution_count": 1447,
   "metadata": {
    "collapsed": true
   },
   "outputs": [],
   "source": [
    "r_init = -6\n",
    "r_end = 6\n",
    "r = r_init\n",
    "dr = 0.01\n",
    "rs = []\n",
    "data = []\n",
    "while r <= r_end:\n",
    "    data.append({'x' : r})\n",
    "    rs.append(r)\n",
    "    r = r + dr"
   ]
  },
  {
   "cell_type": "code",
   "execution_count": 1466,
   "metadata": {
    "collapsed": false
   },
   "outputs": [
    {
     "ename": "TypeError",
     "evalue": "predict() got an unexpected keyword argument 'gp__return_std'",
     "output_type": "error",
     "traceback": [
      "\u001b[1;31m---------------------------------------------------------------------------\u001b[0m",
      "\u001b[1;31mTypeError\u001b[0m                                 Traceback (most recent call last)",
      "\u001b[1;32m<ipython-input-1466-b2299b42c5ea>\u001b[0m in \u001b[0;36m<module>\u001b[1;34m()\u001b[0m\n\u001b[0;32m      1\u001b[0m \u001b[0mkwargs\u001b[0m \u001b[1;33m=\u001b[0m \u001b[1;33m{\u001b[0m\u001b[1;34m'gp__return_std'\u001b[0m\u001b[1;33m:\u001b[0m \u001b[0mTrue\u001b[0m\u001b[1;33m}\u001b[0m\u001b[1;33m\u001b[0m\u001b[0m\n\u001b[1;32m----> 2\u001b[1;33m \u001b[0mys\u001b[0m \u001b[1;33m=\u001b[0m \u001b[0mbayesian_optimizer\u001b[0m\u001b[1;33m.\u001b[0m\u001b[0mmodel\u001b[0m\u001b[1;33m.\u001b[0m\u001b[0mpredict\u001b[0m\u001b[1;33m(\u001b[0m\u001b[0mdata\u001b[0m\u001b[1;33m,\u001b[0m \u001b[1;33m**\u001b[0m\u001b[0mkwargs\u001b[0m\u001b[1;33m)\u001b[0m\u001b[1;33m\u001b[0m\u001b[0m\n\u001b[0m",
      "\u001b[1;32mC:\\Users\\rbj428\\AppData\\Local\\Continuum\\Anaconda2_2\\lib\\site-packages\\sklearn\\utils\\metaestimators.pyc\u001b[0m in \u001b[0;36m<lambda>\u001b[1;34m(*args, **kwargs)\u001b[0m\n\u001b[0;32m     52\u001b[0m \u001b[1;33m\u001b[0m\u001b[0m\n\u001b[0;32m     53\u001b[0m         \u001b[1;31m# lambda, but not partial, allows help() to work with update_wrapper\u001b[0m\u001b[1;33m\u001b[0m\u001b[1;33m\u001b[0m\u001b[0m\n\u001b[1;32m---> 54\u001b[1;33m         \u001b[0mout\u001b[0m \u001b[1;33m=\u001b[0m \u001b[1;32mlambda\u001b[0m \u001b[1;33m*\u001b[0m\u001b[0margs\u001b[0m\u001b[1;33m,\u001b[0m \u001b[1;33m**\u001b[0m\u001b[0mkwargs\u001b[0m\u001b[1;33m:\u001b[0m \u001b[0mself\u001b[0m\u001b[1;33m.\u001b[0m\u001b[0mfn\u001b[0m\u001b[1;33m(\u001b[0m\u001b[0mobj\u001b[0m\u001b[1;33m,\u001b[0m \u001b[1;33m*\u001b[0m\u001b[0margs\u001b[0m\u001b[1;33m,\u001b[0m \u001b[1;33m**\u001b[0m\u001b[0mkwargs\u001b[0m\u001b[1;33m)\u001b[0m\u001b[1;33m\u001b[0m\u001b[0m\n\u001b[0m\u001b[0;32m     55\u001b[0m         \u001b[1;31m# update the docstring of the returned function\u001b[0m\u001b[1;33m\u001b[0m\u001b[1;33m\u001b[0m\u001b[0m\n\u001b[0;32m     56\u001b[0m         \u001b[0mupdate_wrapper\u001b[0m\u001b[1;33m(\u001b[0m\u001b[0mout\u001b[0m\u001b[1;33m,\u001b[0m \u001b[0mself\u001b[0m\u001b[1;33m.\u001b[0m\u001b[0mfn\u001b[0m\u001b[1;33m)\u001b[0m\u001b[1;33m\u001b[0m\u001b[0m\n",
      "\u001b[1;31mTypeError\u001b[0m: predict() got an unexpected keyword argument 'gp__return_std'"
     ]
    }
   ],
   "source": [
    "kwargs = {'gp__return_std': True}\n",
    "ys = bayesian_optimizer.model.predict(data, **kwargs)"
   ]
  },
  {
   "cell_type": "code",
   "execution_count": 1452,
   "metadata": {
    "collapsed": true
   },
   "outputs": [],
   "source": [
    "bayesian_optimizer.model.predict?"
   ]
  },
  {
   "cell_type": "code",
   "execution_count": null,
   "metadata": {
    "collapsed": true
   },
   "outputs": [],
   "source": []
  },
  {
   "cell_type": "code",
   "execution_count": 1450,
   "metadata": {
    "collapsed": false
   },
   "outputs": [
    {
     "data": {
      "text/plain": [
       "[<matplotlib.lines.Line2D at 0x8b5ed908>]"
      ]
     },
     "execution_count": 1450,
     "metadata": {},
     "output_type": "execute_result"
    },
    {
     "data": {
      "image/png": "[encoded data removed]",
      "text/plain": [
       "<matplotlib.figure.Figure at 0x8d8d9978>"
      ]
     },
     "metadata": {},
     "output_type": "display_data"
    }
   ],
   "source": [
    "plt.plot(rs, ys, lw=1, c='b')"
   ]
  },
  {
   "cell_type": "code",
   "execution_count": null,
   "metadata": {
    "collapsed": true
   },
   "outputs": [],
   "source": []
  },
  {
   "cell_type": "code",
   "execution_count": null,
   "metadata": {
    "collapsed": true
   },
   "outputs": [],
   "source": []
  },
  {
   "cell_type": "code",
   "execution_count": null,
   "metadata": {
    "collapsed": true
   },
   "outputs": [],
   "source": []
  },
  {
   "cell_type": "code",
   "execution_count": 1444,
   "metadata": {
    "collapsed": false
   },
   "outputs": [
    {
     "ename": "SyntaxError",
     "evalue": "invalid syntax (<ipython-input-1444-099c411ddb61>, line 1)",
     "output_type": "error",
     "traceback": [
      "\u001b[1;36m  File \u001b[1;32m\"<ipython-input-1444-099c411ddb61>\"\u001b[1;36m, line \u001b[1;32m1\u001b[0m\n\u001b[1;33m    bayesian_optimizer.\u001b[0m\n\u001b[1;37m                       ^\u001b[0m\n\u001b[1;31mSyntaxError\u001b[0m\u001b[1;31m:\u001b[0m invalid syntax\n"
     ]
    }
   ],
   "source": [
    "bayesian_optimizer."
   ]
  },
  {
   "cell_type": "code",
   "execution_count": 1892,
   "metadata": {
    "collapsed": true
   },
   "outputs": [],
   "source": [
    "from numpy import linspace\n",
    "from numpy import atleast_2d\n",
    "from numpy.random import random, normal"
   ]
  },
  {
   "cell_type": "code",
   "execution_count": 1894,
   "metadata": {
    "collapsed": false
   },
   "outputs": [],
   "source": [
    "# now the noisy case\n",
    "X = linspace(0.1, 9.9, 20)\n",
    "X = atleast_2d(X).T\n",
    "\n",
    "# Observations and noise\n",
    "#y = f(X).ravel()\n",
    "dy = 0.5 + 1.0 * random(y.shape)\n",
    "noise = normal(0, dy)\n",
    "y += noise\n",
    "\n",
    "# Instanciate a Gaussian Process model\n",
    "#gp = GaussianProcessRegressor(kernel=kernel, alpha=(dy / y) ** 2,\n",
    "                             # n_restarts_optimizer=10)\n"
   ]
  },
  {
   "cell_type": "code",
   "execution_count": 1896,
   "metadata": {
    "collapsed": false
   },
   "outputs": [
    {
     "data": {
      "text/plain": [
       "array([  4.56477780e-01,   8.43502615e-02,   9.94481941e-02,\n",
       "         4.33515537e-02,   5.99034499e-02,   3.93725292e-02,\n",
       "         6.72412461e-02,   5.54990529e-02,   3.55166123e-02,\n",
       "         3.06139800e-02,   1.88294192e-02,   2.88321942e-02,\n",
       "         3.06931763e-02,   1.78533123e-02,   4.18287088e-02,\n",
       "         3.88014114e-02,   1.88630225e-02,   2.34767156e-02,\n",
       "         2.49825653e-02,   1.43015716e-02,   2.74424860e-02,\n",
       "         3.48178774e-02,   1.91895136e-02,   2.21595081e-02,\n",
       "         2.40389956e-02,   2.17694972e-02,   3.28480923e-02,\n",
       "         1.98119142e-02,   4.62246076e-02,   3.42315211e-02,\n",
       "         3.13771462e-02,   4.29783501e-02,   2.61785099e-02,\n",
       "         3.28675821e-02,   4.95954431e-02,   4.99557689e-02,\n",
       "         7.21503263e-02,   5.25345505e-02,   3.79299613e-02,\n",
       "         5.63505875e-02,   9.01201209e-02,   8.75374791e-02,\n",
       "         5.49020139e-02,   7.14094826e-02,   8.98363016e-02,\n",
       "         4.39876601e-02,   8.99749287e-02,   1.03501641e-01,\n",
       "         7.89797217e-02,   1.48093852e-01,   1.27585693e-01,\n",
       "         1.63175820e-01,   1.73171537e-01,   2.22432694e-01,\n",
       "         1.98238269e-01,   2.38414115e-01,   1.87522897e-01,\n",
       "         8.95304495e-01,   8.01960929e-01,   6.12719462e-01,\n",
       "         3.54280760e-01,   1.05146258e+00,   4.16720954e-01,\n",
       "         4.96458432e-01,   6.59860957e-01,   3.91697955e-01,\n",
       "         3.37093830e-01,   3.37464551e-01,  -1.16719276e+03,\n",
       "         1.11399792e+00,   2.97269764e-01,   4.07800706e-01,\n",
       "         1.29264908e-01,   3.33042201e-01,   3.39458795e-01,\n",
       "         1.13814179e-01,   1.13803857e-01,   1.38872582e-01,\n",
       "         1.33497354e-01,   1.41679080e-01,   1.95085169e-01,\n",
       "         5.50428950e-02,   8.03383114e-02,   1.05513711e-01,\n",
       "         5.82450275e-02,   1.34489830e-01,   9.34719708e-02,\n",
       "         6.64164151e-02,   6.53829437e-02,   6.43189582e-02,\n",
       "         7.08445412e-02,   6.10612654e-02,   3.97916636e-02,\n",
       "         6.06083350e-02,   5.61792023e-02,   3.72943262e-02,\n",
       "         5.08977260e-02,   3.22757304e-02,   6.25291554e-02,\n",
       "         2.59385904e-02,   6.01282233e-02,   7.57031555e-02,\n",
       "         3.95898211e-02,   6.86238983e-02,   6.82771346e-02,\n",
       "         6.03797438e-02,   5.24894261e-02,   6.07291643e-02,\n",
       "         6.80146636e-02,   9.11259659e-02,   5.59537957e-02,\n",
       "         1.22907327e-01,   1.91663624e-01,   2.30872888e-01,\n",
       "         4.57761537e-01,  -1.35390942e+00,  -1.71556697e-01,\n",
       "        -1.04507421e-01,  -6.26272843e-02,  -4.33484562e-02])"
      ]
     },
     "execution_count": 1896,
     "metadata": {},
     "output_type": "execute_result"
    }
   ],
   "source": [
    "dy / y"
   ]
  },
  {
   "cell_type": "code",
   "execution_count": 1436,
   "metadata": {
    "collapsed": false
   },
   "outputs": [
    {
     "ename": "AttributeError",
     "evalue": "'list' object has no attribute 'iteritems'",
     "output_type": "error",
     "traceback": [
      "\u001b[1;31m---------------------------------------------------------------------------\u001b[0m",
      "\u001b[1;31mAttributeError\u001b[0m                            Traceback (most recent call last)",
      "\u001b[1;32m<ipython-input-1436-7838ca26ac95>\u001b[0m in \u001b[0;36m<module>\u001b[1;34m()\u001b[0m\n\u001b[1;32m----> 1\u001b[1;33m \u001b[0mbayesian_optimizer\u001b[0m\u001b[1;33m.\u001b[0m\u001b[0mmodel\u001b[0m\u001b[1;33m.\u001b[0m\u001b[0mpredict\u001b[0m\u001b[1;33m(\u001b[0m\u001b[1;33m[\u001b[0m\u001b[1;33m[\u001b[0m\u001b[1;36m3.4\u001b[0m\u001b[1;33m]\u001b[0m\u001b[1;33m]\u001b[0m\u001b[1;33m)\u001b[0m\u001b[1;33m\u001b[0m\u001b[0m\n\u001b[0m",
      "\u001b[1;32mC:\\Users\\rbj428\\AppData\\Local\\Continuum\\Anaconda2_2\\lib\\site-packages\\sklearn\\utils\\metaestimators.pyc\u001b[0m in \u001b[0;36m<lambda>\u001b[1;34m(*args, **kwargs)\u001b[0m\n\u001b[0;32m     52\u001b[0m \u001b[1;33m\u001b[0m\u001b[0m\n\u001b[0;32m     53\u001b[0m         \u001b[1;31m# lambda, but not partial, allows help() to work with update_wrapper\u001b[0m\u001b[1;33m\u001b[0m\u001b[1;33m\u001b[0m\u001b[0m\n\u001b[1;32m---> 54\u001b[1;33m         \u001b[0mout\u001b[0m \u001b[1;33m=\u001b[0m \u001b[1;32mlambda\u001b[0m \u001b[1;33m*\u001b[0m\u001b[0margs\u001b[0m\u001b[1;33m,\u001b[0m \u001b[1;33m**\u001b[0m\u001b[0mkwargs\u001b[0m\u001b[1;33m:\u001b[0m \u001b[0mself\u001b[0m\u001b[1;33m.\u001b[0m\u001b[0mfn\u001b[0m\u001b[1;33m(\u001b[0m\u001b[0mobj\u001b[0m\u001b[1;33m,\u001b[0m \u001b[1;33m*\u001b[0m\u001b[0margs\u001b[0m\u001b[1;33m,\u001b[0m \u001b[1;33m**\u001b[0m\u001b[0mkwargs\u001b[0m\u001b[1;33m)\u001b[0m\u001b[1;33m\u001b[0m\u001b[0m\n\u001b[0m\u001b[0;32m     55\u001b[0m         \u001b[1;31m# update the docstring of the returned function\u001b[0m\u001b[1;33m\u001b[0m\u001b[1;33m\u001b[0m\u001b[0m\n\u001b[0;32m     56\u001b[0m         \u001b[0mupdate_wrapper\u001b[0m\u001b[1;33m(\u001b[0m\u001b[0mout\u001b[0m\u001b[1;33m,\u001b[0m \u001b[0mself\u001b[0m\u001b[1;33m.\u001b[0m\u001b[0mfn\u001b[0m\u001b[1;33m)\u001b[0m\u001b[1;33m\u001b[0m\u001b[0m\n",
      "\u001b[1;32mC:\\Users\\rbj428\\AppData\\Local\\Continuum\\Anaconda2_2\\lib\\site-packages\\sklearn\\pipeline.pyc\u001b[0m in \u001b[0;36mpredict\u001b[1;34m(self, X)\u001b[0m\n\u001b[0;32m    324\u001b[0m         \u001b[1;32mfor\u001b[0m \u001b[0mname\u001b[0m\u001b[1;33m,\u001b[0m \u001b[0mtransform\u001b[0m \u001b[1;32min\u001b[0m \u001b[0mself\u001b[0m\u001b[1;33m.\u001b[0m\u001b[0msteps\u001b[0m\u001b[1;33m[\u001b[0m\u001b[1;33m:\u001b[0m\u001b[1;33m-\u001b[0m\u001b[1;36m1\u001b[0m\u001b[1;33m]\u001b[0m\u001b[1;33m:\u001b[0m\u001b[1;33m\u001b[0m\u001b[0m\n\u001b[0;32m    325\u001b[0m             \u001b[1;32mif\u001b[0m \u001b[0mtransform\u001b[0m \u001b[1;32mis\u001b[0m \u001b[1;32mnot\u001b[0m \u001b[0mNone\u001b[0m\u001b[1;33m:\u001b[0m\u001b[1;33m\u001b[0m\u001b[0m\n\u001b[1;32m--> 326\u001b[1;33m                 \u001b[0mXt\u001b[0m \u001b[1;33m=\u001b[0m \u001b[0mtransform\u001b[0m\u001b[1;33m.\u001b[0m\u001b[0mtransform\u001b[0m\u001b[1;33m(\u001b[0m\u001b[0mXt\u001b[0m\u001b[1;33m)\u001b[0m\u001b[1;33m\u001b[0m\u001b[0m\n\u001b[0m\u001b[0;32m    327\u001b[0m         \u001b[1;32mreturn\u001b[0m \u001b[0mself\u001b[0m\u001b[1;33m.\u001b[0m\u001b[0msteps\u001b[0m\u001b[1;33m[\u001b[0m\u001b[1;33m-\u001b[0m\u001b[1;36m1\u001b[0m\u001b[1;33m]\u001b[0m\u001b[1;33m[\u001b[0m\u001b[1;33m-\u001b[0m\u001b[1;36m1\u001b[0m\u001b[1;33m]\u001b[0m\u001b[1;33m.\u001b[0m\u001b[0mpredict\u001b[0m\u001b[1;33m(\u001b[0m\u001b[0mXt\u001b[0m\u001b[1;33m)\u001b[0m\u001b[1;33m\u001b[0m\u001b[0m\n\u001b[0;32m    328\u001b[0m \u001b[1;33m\u001b[0m\u001b[0m\n",
      "\u001b[1;32mC:\\Users\\rbj428\\AppData\\Local\\Continuum\\Anaconda2_2\\lib\\site-packages\\sklearn\\feature_extraction\\dict_vectorizer.pyc\u001b[0m in \u001b[0;36mtransform\u001b[1;34m(self, X, y)\u001b[0m\n\u001b[0;32m    300\u001b[0m \u001b[1;33m\u001b[0m\u001b[0m\n\u001b[0;32m    301\u001b[0m             \u001b[1;32mfor\u001b[0m \u001b[0mi\u001b[0m\u001b[1;33m,\u001b[0m \u001b[0mx\u001b[0m \u001b[1;32min\u001b[0m \u001b[0menumerate\u001b[0m\u001b[1;33m(\u001b[0m\u001b[0mX\u001b[0m\u001b[1;33m)\u001b[0m\u001b[1;33m:\u001b[0m\u001b[1;33m\u001b[0m\u001b[0m\n\u001b[1;32m--> 302\u001b[1;33m                 \u001b[1;32mfor\u001b[0m \u001b[0mf\u001b[0m\u001b[1;33m,\u001b[0m \u001b[0mv\u001b[0m \u001b[1;32min\u001b[0m \u001b[0msix\u001b[0m\u001b[1;33m.\u001b[0m\u001b[0miteritems\u001b[0m\u001b[1;33m(\u001b[0m\u001b[0mx\u001b[0m\u001b[1;33m)\u001b[0m\u001b[1;33m:\u001b[0m\u001b[1;33m\u001b[0m\u001b[0m\n\u001b[0m\u001b[0;32m    303\u001b[0m                     \u001b[1;32mif\u001b[0m \u001b[0misinstance\u001b[0m\u001b[1;33m(\u001b[0m\u001b[0mv\u001b[0m\u001b[1;33m,\u001b[0m \u001b[0msix\u001b[0m\u001b[1;33m.\u001b[0m\u001b[0mstring_types\u001b[0m\u001b[1;33m)\u001b[0m\u001b[1;33m:\u001b[0m\u001b[1;33m\u001b[0m\u001b[0m\n\u001b[0;32m    304\u001b[0m                         \u001b[0mf\u001b[0m \u001b[1;33m=\u001b[0m \u001b[1;34m\"%s%s%s\"\u001b[0m \u001b[1;33m%\u001b[0m \u001b[1;33m(\u001b[0m\u001b[0mf\u001b[0m\u001b[1;33m,\u001b[0m \u001b[0mself\u001b[0m\u001b[1;33m.\u001b[0m\u001b[0mseparator\u001b[0m\u001b[1;33m,\u001b[0m \u001b[0mv\u001b[0m\u001b[1;33m)\u001b[0m\u001b[1;33m\u001b[0m\u001b[0m\n",
      "\u001b[1;32mC:\\Users\\rbj428\\AppData\\Local\\Continuum\\Anaconda2_2\\lib\\site-packages\\sklearn\\externals\\six.pyc\u001b[0m in \u001b[0;36miteritems\u001b[1;34m(d, **kw)\u001b[0m\n\u001b[0;32m    437\u001b[0m \u001b[1;32mdef\u001b[0m \u001b[0miteritems\u001b[0m\u001b[1;33m(\u001b[0m\u001b[0md\u001b[0m\u001b[1;33m,\u001b[0m \u001b[1;33m**\u001b[0m\u001b[0mkw\u001b[0m\u001b[1;33m)\u001b[0m\u001b[1;33m:\u001b[0m\u001b[1;33m\u001b[0m\u001b[0m\n\u001b[0;32m    438\u001b[0m     \u001b[1;34m\"\"\"Return an iterator over the (key, value) pairs of a dictionary.\"\"\"\u001b[0m\u001b[1;33m\u001b[0m\u001b[0m\n\u001b[1;32m--> 439\u001b[1;33m     \u001b[1;32mreturn\u001b[0m \u001b[0miter\u001b[0m\u001b[1;33m(\u001b[0m\u001b[0mgetattr\u001b[0m\u001b[1;33m(\u001b[0m\u001b[0md\u001b[0m\u001b[1;33m,\u001b[0m \u001b[0m_iteritems\u001b[0m\u001b[1;33m)\u001b[0m\u001b[1;33m(\u001b[0m\u001b[1;33m**\u001b[0m\u001b[0mkw\u001b[0m\u001b[1;33m)\u001b[0m\u001b[1;33m)\u001b[0m\u001b[1;33m\u001b[0m\u001b[0m\n\u001b[0m\u001b[0;32m    440\u001b[0m \u001b[1;33m\u001b[0m\u001b[0m\n\u001b[0;32m    441\u001b[0m \u001b[1;32mdef\u001b[0m \u001b[0miterlists\u001b[0m\u001b[1;33m(\u001b[0m\u001b[0md\u001b[0m\u001b[1;33m,\u001b[0m \u001b[1;33m**\u001b[0m\u001b[0mkw\u001b[0m\u001b[1;33m)\u001b[0m\u001b[1;33m:\u001b[0m\u001b[1;33m\u001b[0m\u001b[0m\n",
      "\u001b[1;31mAttributeError\u001b[0m: 'list' object has no attribute 'iteritems'"
     ]
    }
   ],
   "source": [
    "bayesian_optimizer.model.predict([[3.4]])"
   ]
  },
  {
   "cell_type": "code",
   "execution_count": 1429,
   "metadata": {
    "collapsed": false
   },
   "outputs": [
    {
     "ename": "AttributeError",
     "evalue": "'numpy.ndarray' object has no attribute 'iteritems'",
     "output_type": "error",
     "traceback": [
      "\u001b[1;31m---------------------------------------------------------------------------\u001b[0m",
      "\u001b[1;31mAttributeError\u001b[0m                            Traceback (most recent call last)",
      "\u001b[1;32m<ipython-input-1429-63ca491fd09c>\u001b[0m in \u001b[0;36m<module>\u001b[1;34m()\u001b[0m\n\u001b[0;32m      1\u001b[0m \u001b[1;31m#y_samples = bayesian_optimizer.model.sample_y(x_col, 100)\u001b[0m\u001b[1;33m\u001b[0m\u001b[1;33m\u001b[0m\u001b[0m\n\u001b[1;32m----> 2\u001b[1;33m \u001b[0mplt\u001b[0m\u001b[1;33m.\u001b[0m\u001b[0mplot\u001b[0m\u001b[1;33m(\u001b[0m\u001b[0mx_col\u001b[0m\u001b[1;33m,\u001b[0m \u001b[0mbayesian_optimizer\u001b[0m\u001b[1;33m.\u001b[0m\u001b[0mmodel\u001b[0m\u001b[1;33m.\u001b[0m\u001b[0mpredict\u001b[0m\u001b[1;33m(\u001b[0m\u001b[0mx_col\u001b[0m\u001b[1;33m)\u001b[0m\u001b[1;33m,\u001b[0m \u001b[0mlw\u001b[0m\u001b[1;33m=\u001b[0m\u001b[1;36m0.1\u001b[0m\u001b[1;33m,\u001b[0m \u001b[0mc\u001b[0m\u001b[1;33m=\u001b[0m\u001b[1;34m'b'\u001b[0m\u001b[1;33m)\u001b[0m\u001b[1;33m\u001b[0m\u001b[0m\n\u001b[0m",
      "\u001b[1;32mC:\\Users\\rbj428\\AppData\\Local\\Continuum\\Anaconda2_2\\lib\\site-packages\\sklearn\\utils\\metaestimators.pyc\u001b[0m in \u001b[0;36m<lambda>\u001b[1;34m(*args, **kwargs)\u001b[0m\n\u001b[0;32m     52\u001b[0m \u001b[1;33m\u001b[0m\u001b[0m\n\u001b[0;32m     53\u001b[0m         \u001b[1;31m# lambda, but not partial, allows help() to work with update_wrapper\u001b[0m\u001b[1;33m\u001b[0m\u001b[1;33m\u001b[0m\u001b[0m\n\u001b[1;32m---> 54\u001b[1;33m         \u001b[0mout\u001b[0m \u001b[1;33m=\u001b[0m \u001b[1;32mlambda\u001b[0m \u001b[1;33m*\u001b[0m\u001b[0margs\u001b[0m\u001b[1;33m,\u001b[0m \u001b[1;33m**\u001b[0m\u001b[0mkwargs\u001b[0m\u001b[1;33m:\u001b[0m \u001b[0mself\u001b[0m\u001b[1;33m.\u001b[0m\u001b[0mfn\u001b[0m\u001b[1;33m(\u001b[0m\u001b[0mobj\u001b[0m\u001b[1;33m,\u001b[0m \u001b[1;33m*\u001b[0m\u001b[0margs\u001b[0m\u001b[1;33m,\u001b[0m \u001b[1;33m**\u001b[0m\u001b[0mkwargs\u001b[0m\u001b[1;33m)\u001b[0m\u001b[1;33m\u001b[0m\u001b[0m\n\u001b[0m\u001b[0;32m     55\u001b[0m         \u001b[1;31m# update the docstring of the returned function\u001b[0m\u001b[1;33m\u001b[0m\u001b[1;33m\u001b[0m\u001b[0m\n\u001b[0;32m     56\u001b[0m         \u001b[0mupdate_wrapper\u001b[0m\u001b[1;33m(\u001b[0m\u001b[0mout\u001b[0m\u001b[1;33m,\u001b[0m \u001b[0mself\u001b[0m\u001b[1;33m.\u001b[0m\u001b[0mfn\u001b[0m\u001b[1;33m)\u001b[0m\u001b[1;33m\u001b[0m\u001b[0m\n",
      "\u001b[1;32mC:\\Users\\rbj428\\AppData\\Local\\Continuum\\Anaconda2_2\\lib\\site-packages\\sklearn\\pipeline.pyc\u001b[0m in \u001b[0;36mpredict\u001b[1;34m(self, X)\u001b[0m\n\u001b[0;32m    324\u001b[0m         \u001b[1;32mfor\u001b[0m \u001b[0mname\u001b[0m\u001b[1;33m,\u001b[0m \u001b[0mtransform\u001b[0m \u001b[1;32min\u001b[0m \u001b[0mself\u001b[0m\u001b[1;33m.\u001b[0m\u001b[0msteps\u001b[0m\u001b[1;33m[\u001b[0m\u001b[1;33m:\u001b[0m\u001b[1;33m-\u001b[0m\u001b[1;36m1\u001b[0m\u001b[1;33m]\u001b[0m\u001b[1;33m:\u001b[0m\u001b[1;33m\u001b[0m\u001b[0m\n\u001b[0;32m    325\u001b[0m             \u001b[1;32mif\u001b[0m \u001b[0mtransform\u001b[0m \u001b[1;32mis\u001b[0m \u001b[1;32mnot\u001b[0m \u001b[0mNone\u001b[0m\u001b[1;33m:\u001b[0m\u001b[1;33m\u001b[0m\u001b[0m\n\u001b[1;32m--> 326\u001b[1;33m                 \u001b[0mXt\u001b[0m \u001b[1;33m=\u001b[0m \u001b[0mtransform\u001b[0m\u001b[1;33m.\u001b[0m\u001b[0mtransform\u001b[0m\u001b[1;33m(\u001b[0m\u001b[0mXt\u001b[0m\u001b[1;33m)\u001b[0m\u001b[1;33m\u001b[0m\u001b[0m\n\u001b[0m\u001b[0;32m    327\u001b[0m         \u001b[1;32mreturn\u001b[0m \u001b[0mself\u001b[0m\u001b[1;33m.\u001b[0m\u001b[0msteps\u001b[0m\u001b[1;33m[\u001b[0m\u001b[1;33m-\u001b[0m\u001b[1;36m1\u001b[0m\u001b[1;33m]\u001b[0m\u001b[1;33m[\u001b[0m\u001b[1;33m-\u001b[0m\u001b[1;36m1\u001b[0m\u001b[1;33m]\u001b[0m\u001b[1;33m.\u001b[0m\u001b[0mpredict\u001b[0m\u001b[1;33m(\u001b[0m\u001b[0mXt\u001b[0m\u001b[1;33m)\u001b[0m\u001b[1;33m\u001b[0m\u001b[0m\n\u001b[0;32m    328\u001b[0m \u001b[1;33m\u001b[0m\u001b[0m\n",
      "\u001b[1;32mC:\\Users\\rbj428\\AppData\\Local\\Continuum\\Anaconda2_2\\lib\\site-packages\\sklearn\\feature_extraction\\dict_vectorizer.pyc\u001b[0m in \u001b[0;36mtransform\u001b[1;34m(self, X, y)\u001b[0m\n\u001b[0;32m    300\u001b[0m \u001b[1;33m\u001b[0m\u001b[0m\n\u001b[0;32m    301\u001b[0m             \u001b[1;32mfor\u001b[0m \u001b[0mi\u001b[0m\u001b[1;33m,\u001b[0m \u001b[0mx\u001b[0m \u001b[1;32min\u001b[0m \u001b[0menumerate\u001b[0m\u001b[1;33m(\u001b[0m\u001b[0mX\u001b[0m\u001b[1;33m)\u001b[0m\u001b[1;33m:\u001b[0m\u001b[1;33m\u001b[0m\u001b[0m\n\u001b[1;32m--> 302\u001b[1;33m                 \u001b[1;32mfor\u001b[0m \u001b[0mf\u001b[0m\u001b[1;33m,\u001b[0m \u001b[0mv\u001b[0m \u001b[1;32min\u001b[0m \u001b[0msix\u001b[0m\u001b[1;33m.\u001b[0m\u001b[0miteritems\u001b[0m\u001b[1;33m(\u001b[0m\u001b[0mx\u001b[0m\u001b[1;33m)\u001b[0m\u001b[1;33m:\u001b[0m\u001b[1;33m\u001b[0m\u001b[0m\n\u001b[0m\u001b[0;32m    303\u001b[0m                     \u001b[1;32mif\u001b[0m \u001b[0misinstance\u001b[0m\u001b[1;33m(\u001b[0m\u001b[0mv\u001b[0m\u001b[1;33m,\u001b[0m \u001b[0msix\u001b[0m\u001b[1;33m.\u001b[0m\u001b[0mstring_types\u001b[0m\u001b[1;33m)\u001b[0m\u001b[1;33m:\u001b[0m\u001b[1;33m\u001b[0m\u001b[0m\n\u001b[0;32m    304\u001b[0m                         \u001b[0mf\u001b[0m \u001b[1;33m=\u001b[0m \u001b[1;34m\"%s%s%s\"\u001b[0m \u001b[1;33m%\u001b[0m \u001b[1;33m(\u001b[0m\u001b[0mf\u001b[0m\u001b[1;33m,\u001b[0m \u001b[0mself\u001b[0m\u001b[1;33m.\u001b[0m\u001b[0mseparator\u001b[0m\u001b[1;33m,\u001b[0m \u001b[0mv\u001b[0m\u001b[1;33m)\u001b[0m\u001b[1;33m\u001b[0m\u001b[0m\n",
      "\u001b[1;32mC:\\Users\\rbj428\\AppData\\Local\\Continuum\\Anaconda2_2\\lib\\site-packages\\sklearn\\externals\\six.pyc\u001b[0m in \u001b[0;36miteritems\u001b[1;34m(d, **kw)\u001b[0m\n\u001b[0;32m    437\u001b[0m \u001b[1;32mdef\u001b[0m \u001b[0miteritems\u001b[0m\u001b[1;33m(\u001b[0m\u001b[0md\u001b[0m\u001b[1;33m,\u001b[0m \u001b[1;33m**\u001b[0m\u001b[0mkw\u001b[0m\u001b[1;33m)\u001b[0m\u001b[1;33m:\u001b[0m\u001b[1;33m\u001b[0m\u001b[0m\n\u001b[0;32m    438\u001b[0m     \u001b[1;34m\"\"\"Return an iterator over the (key, value) pairs of a dictionary.\"\"\"\u001b[0m\u001b[1;33m\u001b[0m\u001b[0m\n\u001b[1;32m--> 439\u001b[1;33m     \u001b[1;32mreturn\u001b[0m \u001b[0miter\u001b[0m\u001b[1;33m(\u001b[0m\u001b[0mgetattr\u001b[0m\u001b[1;33m(\u001b[0m\u001b[0md\u001b[0m\u001b[1;33m,\u001b[0m \u001b[0m_iteritems\u001b[0m\u001b[1;33m)\u001b[0m\u001b[1;33m(\u001b[0m\u001b[1;33m**\u001b[0m\u001b[0mkw\u001b[0m\u001b[1;33m)\u001b[0m\u001b[1;33m)\u001b[0m\u001b[1;33m\u001b[0m\u001b[0m\n\u001b[0m\u001b[0;32m    440\u001b[0m \u001b[1;33m\u001b[0m\u001b[0m\n\u001b[0;32m    441\u001b[0m \u001b[1;32mdef\u001b[0m \u001b[0miterlists\u001b[0m\u001b[1;33m(\u001b[0m\u001b[0md\u001b[0m\u001b[1;33m,\u001b[0m \u001b[1;33m**\u001b[0m\u001b[0mkw\u001b[0m\u001b[1;33m)\u001b[0m\u001b[1;33m:\u001b[0m\u001b[1;33m\u001b[0m\u001b[0m\n",
      "\u001b[1;31mAttributeError\u001b[0m: 'numpy.ndarray' object has no attribute 'iteritems'"
     ]
    }
   ],
   "source": [
    "#y_samples = bayesian_optimizer.model.sample_y(x_col, 100)\n",
    "plt.plot(x_col, bayesian_optimizer.model.predict(x_col), lw=0.1, c='b')"
   ]
  },
  {
   "cell_type": "code",
   "execution_count": 1437,
   "metadata": {
    "collapsed": true
   },
   "outputs": [],
   "source": [
    "bayesian_optimizer.model.predict?"
   ]
  },
  {
   "cell_type": "code",
   "execution_count": 1430,
   "metadata": {
    "collapsed": false
   },
   "outputs": [
    {
     "ename": "AttributeError",
     "evalue": "'numpy.ndarray' object has no attribute 'iteritems'",
     "output_type": "error",
     "traceback": [
      "\u001b[1;31m---------------------------------------------------------------------------\u001b[0m",
      "\u001b[1;31mAttributeError\u001b[0m                            Traceback (most recent call last)",
      "\u001b[1;32m<ipython-input-1430-891beeb7b5bb>\u001b[0m in \u001b[0;36m<module>\u001b[1;34m()\u001b[0m\n\u001b[1;32m----> 1\u001b[1;33m \u001b[0mbayesian_optimizer\u001b[0m\u001b[1;33m.\u001b[0m\u001b[0mmodel\u001b[0m\u001b[1;33m.\u001b[0m\u001b[0mpredict\u001b[0m\u001b[1;33m(\u001b[0m\u001b[0mx_col\u001b[0m\u001b[1;33m)\u001b[0m\u001b[1;33m\u001b[0m\u001b[0m\n\u001b[0m",
      "\u001b[1;32mC:\\Users\\rbj428\\AppData\\Local\\Continuum\\Anaconda2_2\\lib\\site-packages\\sklearn\\utils\\metaestimators.pyc\u001b[0m in \u001b[0;36m<lambda>\u001b[1;34m(*args, **kwargs)\u001b[0m\n\u001b[0;32m     52\u001b[0m \u001b[1;33m\u001b[0m\u001b[0m\n\u001b[0;32m     53\u001b[0m         \u001b[1;31m# lambda, but not partial, allows help() to work with update_wrapper\u001b[0m\u001b[1;33m\u001b[0m\u001b[1;33m\u001b[0m\u001b[0m\n\u001b[1;32m---> 54\u001b[1;33m         \u001b[0mout\u001b[0m \u001b[1;33m=\u001b[0m \u001b[1;32mlambda\u001b[0m \u001b[1;33m*\u001b[0m\u001b[0margs\u001b[0m\u001b[1;33m,\u001b[0m \u001b[1;33m**\u001b[0m\u001b[0mkwargs\u001b[0m\u001b[1;33m:\u001b[0m \u001b[0mself\u001b[0m\u001b[1;33m.\u001b[0m\u001b[0mfn\u001b[0m\u001b[1;33m(\u001b[0m\u001b[0mobj\u001b[0m\u001b[1;33m,\u001b[0m \u001b[1;33m*\u001b[0m\u001b[0margs\u001b[0m\u001b[1;33m,\u001b[0m \u001b[1;33m**\u001b[0m\u001b[0mkwargs\u001b[0m\u001b[1;33m)\u001b[0m\u001b[1;33m\u001b[0m\u001b[0m\n\u001b[0m\u001b[0;32m     55\u001b[0m         \u001b[1;31m# update the docstring of the returned function\u001b[0m\u001b[1;33m\u001b[0m\u001b[1;33m\u001b[0m\u001b[0m\n\u001b[0;32m     56\u001b[0m         \u001b[0mupdate_wrapper\u001b[0m\u001b[1;33m(\u001b[0m\u001b[0mout\u001b[0m\u001b[1;33m,\u001b[0m \u001b[0mself\u001b[0m\u001b[1;33m.\u001b[0m\u001b[0mfn\u001b[0m\u001b[1;33m)\u001b[0m\u001b[1;33m\u001b[0m\u001b[0m\n",
      "\u001b[1;32mC:\\Users\\rbj428\\AppData\\Local\\Continuum\\Anaconda2_2\\lib\\site-packages\\sklearn\\pipeline.pyc\u001b[0m in \u001b[0;36mpredict\u001b[1;34m(self, X)\u001b[0m\n\u001b[0;32m    324\u001b[0m         \u001b[1;32mfor\u001b[0m \u001b[0mname\u001b[0m\u001b[1;33m,\u001b[0m \u001b[0mtransform\u001b[0m \u001b[1;32min\u001b[0m \u001b[0mself\u001b[0m\u001b[1;33m.\u001b[0m\u001b[0msteps\u001b[0m\u001b[1;33m[\u001b[0m\u001b[1;33m:\u001b[0m\u001b[1;33m-\u001b[0m\u001b[1;36m1\u001b[0m\u001b[1;33m]\u001b[0m\u001b[1;33m:\u001b[0m\u001b[1;33m\u001b[0m\u001b[0m\n\u001b[0;32m    325\u001b[0m             \u001b[1;32mif\u001b[0m \u001b[0mtransform\u001b[0m \u001b[1;32mis\u001b[0m \u001b[1;32mnot\u001b[0m \u001b[0mNone\u001b[0m\u001b[1;33m:\u001b[0m\u001b[1;33m\u001b[0m\u001b[0m\n\u001b[1;32m--> 326\u001b[1;33m                 \u001b[0mXt\u001b[0m \u001b[1;33m=\u001b[0m \u001b[0mtransform\u001b[0m\u001b[1;33m.\u001b[0m\u001b[0mtransform\u001b[0m\u001b[1;33m(\u001b[0m\u001b[0mXt\u001b[0m\u001b[1;33m)\u001b[0m\u001b[1;33m\u001b[0m\u001b[0m\n\u001b[0m\u001b[0;32m    327\u001b[0m         \u001b[1;32mreturn\u001b[0m \u001b[0mself\u001b[0m\u001b[1;33m.\u001b[0m\u001b[0msteps\u001b[0m\u001b[1;33m[\u001b[0m\u001b[1;33m-\u001b[0m\u001b[1;36m1\u001b[0m\u001b[1;33m]\u001b[0m\u001b[1;33m[\u001b[0m\u001b[1;33m-\u001b[0m\u001b[1;36m1\u001b[0m\u001b[1;33m]\u001b[0m\u001b[1;33m.\u001b[0m\u001b[0mpredict\u001b[0m\u001b[1;33m(\u001b[0m\u001b[0mXt\u001b[0m\u001b[1;33m)\u001b[0m\u001b[1;33m\u001b[0m\u001b[0m\n\u001b[0;32m    328\u001b[0m \u001b[1;33m\u001b[0m\u001b[0m\n",
      "\u001b[1;32mC:\\Users\\rbj428\\AppData\\Local\\Continuum\\Anaconda2_2\\lib\\site-packages\\sklearn\\feature_extraction\\dict_vectorizer.pyc\u001b[0m in \u001b[0;36mtransform\u001b[1;34m(self, X, y)\u001b[0m\n\u001b[0;32m    300\u001b[0m \u001b[1;33m\u001b[0m\u001b[0m\n\u001b[0;32m    301\u001b[0m             \u001b[1;32mfor\u001b[0m \u001b[0mi\u001b[0m\u001b[1;33m,\u001b[0m \u001b[0mx\u001b[0m \u001b[1;32min\u001b[0m \u001b[0menumerate\u001b[0m\u001b[1;33m(\u001b[0m\u001b[0mX\u001b[0m\u001b[1;33m)\u001b[0m\u001b[1;33m:\u001b[0m\u001b[1;33m\u001b[0m\u001b[0m\n\u001b[1;32m--> 302\u001b[1;33m                 \u001b[1;32mfor\u001b[0m \u001b[0mf\u001b[0m\u001b[1;33m,\u001b[0m \u001b[0mv\u001b[0m \u001b[1;32min\u001b[0m \u001b[0msix\u001b[0m\u001b[1;33m.\u001b[0m\u001b[0miteritems\u001b[0m\u001b[1;33m(\u001b[0m\u001b[0mx\u001b[0m\u001b[1;33m)\u001b[0m\u001b[1;33m:\u001b[0m\u001b[1;33m\u001b[0m\u001b[0m\n\u001b[0m\u001b[0;32m    303\u001b[0m                     \u001b[1;32mif\u001b[0m \u001b[0misinstance\u001b[0m\u001b[1;33m(\u001b[0m\u001b[0mv\u001b[0m\u001b[1;33m,\u001b[0m \u001b[0msix\u001b[0m\u001b[1;33m.\u001b[0m\u001b[0mstring_types\u001b[0m\u001b[1;33m)\u001b[0m\u001b[1;33m:\u001b[0m\u001b[1;33m\u001b[0m\u001b[0m\n\u001b[0;32m    304\u001b[0m                         \u001b[0mf\u001b[0m \u001b[1;33m=\u001b[0m \u001b[1;34m\"%s%s%s\"\u001b[0m \u001b[1;33m%\u001b[0m \u001b[1;33m(\u001b[0m\u001b[0mf\u001b[0m\u001b[1;33m,\u001b[0m \u001b[0mself\u001b[0m\u001b[1;33m.\u001b[0m\u001b[0mseparator\u001b[0m\u001b[1;33m,\u001b[0m \u001b[0mv\u001b[0m\u001b[1;33m)\u001b[0m\u001b[1;33m\u001b[0m\u001b[0m\n",
      "\u001b[1;32mC:\\Users\\rbj428\\AppData\\Local\\Continuum\\Anaconda2_2\\lib\\site-packages\\sklearn\\externals\\six.pyc\u001b[0m in \u001b[0;36miteritems\u001b[1;34m(d, **kw)\u001b[0m\n\u001b[0;32m    437\u001b[0m \u001b[1;32mdef\u001b[0m \u001b[0miteritems\u001b[0m\u001b[1;33m(\u001b[0m\u001b[0md\u001b[0m\u001b[1;33m,\u001b[0m \u001b[1;33m**\u001b[0m\u001b[0mkw\u001b[0m\u001b[1;33m)\u001b[0m\u001b[1;33m:\u001b[0m\u001b[1;33m\u001b[0m\u001b[0m\n\u001b[0;32m    438\u001b[0m     \u001b[1;34m\"\"\"Return an iterator over the (key, value) pairs of a dictionary.\"\"\"\u001b[0m\u001b[1;33m\u001b[0m\u001b[0m\n\u001b[1;32m--> 439\u001b[1;33m     \u001b[1;32mreturn\u001b[0m \u001b[0miter\u001b[0m\u001b[1;33m(\u001b[0m\u001b[0mgetattr\u001b[0m\u001b[1;33m(\u001b[0m\u001b[0md\u001b[0m\u001b[1;33m,\u001b[0m \u001b[0m_iteritems\u001b[0m\u001b[1;33m)\u001b[0m\u001b[1;33m(\u001b[0m\u001b[1;33m**\u001b[0m\u001b[0mkw\u001b[0m\u001b[1;33m)\u001b[0m\u001b[1;33m)\u001b[0m\u001b[1;33m\u001b[0m\u001b[0m\n\u001b[0m\u001b[0;32m    440\u001b[0m \u001b[1;33m\u001b[0m\u001b[0m\n\u001b[0;32m    441\u001b[0m \u001b[1;32mdef\u001b[0m \u001b[0miterlists\u001b[0m\u001b[1;33m(\u001b[0m\u001b[0md\u001b[0m\u001b[1;33m,\u001b[0m \u001b[1;33m**\u001b[0m\u001b[0mkw\u001b[0m\u001b[1;33m)\u001b[0m\u001b[1;33m:\u001b[0m\u001b[1;33m\u001b[0m\u001b[0m\n",
      "\u001b[1;31mAttributeError\u001b[0m: 'numpy.ndarray' object has no attribute 'iteritems'"
     ]
    }
   ],
   "source": [
    "bayesian_optimizer.model.predict(x_col)"
   ]
  },
  {
   "cell_type": "code",
   "execution_count": null,
   "metadata": {
    "collapsed": true
   },
   "outputs": [],
   "source": []
  },
  {
   "cell_type": "code",
   "execution_count": null,
   "metadata": {
    "collapsed": true
   },
   "outputs": [],
   "source": []
  },
  {
   "cell_type": "code",
   "execution_count": null,
   "metadata": {
    "collapsed": true
   },
   "outputs": [],
   "source": []
  },
  {
   "cell_type": "code",
   "execution_count": null,
   "metadata": {
    "collapsed": true
   },
   "outputs": [],
   "source": []
  },
  {
   "cell_type": "code",
   "execution_count": null,
   "metadata": {
    "collapsed": true
   },
   "outputs": [],
   "source": [
    "#for now the random forest regressor will be used to make predictions\n",
    "#this is chosen as it requires minimal optimization to yield good results\n",
    "from sklearn.ensemble import RandomForestRegressor\n",
    "#performs the resampling to bootstrap and calculate model distribution\n",
    "from sklearn.utils import resample\n",
    "#will be using numpy a bit for matrix and vector math\n",
    "from numpy import array, amax\n",
    "#for mapping categorical variables to a onehot encoding\n",
    "#from sklearn.preprocessing import OneHotEncoder\n",
    "from sklearn.feature_extraction import DictVectorizer\n",
    "\n",
    "class BayesianRandomForestOptimizer:\n",
    "    #initialize any variables needed by the machine learning step\n",
    "    def __init__(self, \n",
    "                 num_trees = 20, tree_depth = None, num_bootstrap_models = 200,                #fitness modeling\n",
    "                 T_max = 100.0, T_min = 0.00000001, T_scale = 0.999999, num_samples = 10     #simulated annealing\n",
    "                ):\n",
    "        #fitness modeling\n",
    "        self.num_trees = num_trees\n",
    "        self.tree_depth = tree_depth\n",
    "        self.num_bootstrap_models = num_bootstrap_models\n",
    "        self.bootstrap_models = []\n",
    "        for i in range(self.num_bootstrap_models):\n",
    "            self.bootstrap_models.append(\n",
    "                #ensemble.BaggingRegressor(n_estimators=10)# oob_score=True)\n",
    "                #ensemble.GradientBoostingRegressor(n_estimators=4)\n",
    "                RandomForestRegressor(n_estimators = self.num_trees, max_depth = self.tree_depth)\n",
    "            )\n",
    "        #simulated annealing\n",
    "        self.T_max = T_max\n",
    "        self.T_min = T_min\n",
    "        self.T_scale = T_scale\n",
    "        self.num_samples = num_samples\n",
    "        return None\n",
    "    #load in the initial data set to start making predictions\n",
    "    #this also establishes the dimensionality of the data set\n",
    "    #need to have at least one entry with each categorical value\n",
    "    def InitialSamples(self, features, fitness):\n",
    "        #create and initialize a dictvectorizer\n",
    "        self.dict_vectorizer = DictVectorizer(sparse=False)\n",
    "        self.dict_vectorizer.fit(features)\n",
    "        #convert to training data\n",
    "        self.X = self.dict_vectorizer.transform(features)       \n",
    "        self.y = array(fitness)\n",
    "        self.y.shape = (len(fitness), 1)\n",
    "        #find max row and extract number to assign best initial fitness\n",
    "        self.max_y = amax(self.y, 0)[0]\n",
    "        return None\n",
    "    def AddSamples(self, features, fitness):\n",
    "        #transform new samples\n",
    "        X_add = self.dict_vectorizer.transform(features) \n",
    "        y_add = array(fitness)\n",
    "        y_add.shape = (len(fitness), 1)\n",
    "        #concatenate new samples\n",
    "        self.X = np.concatenate((self.X, X_add), axis=0)\n",
    "        self.y = np.concatenate((self.y, y_add), axis=0)\n",
    "        #find max row and extract number to assign best initial fitness\n",
    "        self.max_y = amax(self.y, 0)[0]\n",
    "        return None\n",
    "    #perform the bootstrap analysis to get a distribution of predictions\n",
    "    def Bootstrap(self):\n",
    "        #generate the bootstrap models\n",
    "        self.bootstrap_models[0].fit(self.X, self.y.ravel())\n",
    "        for i in range(1, self.num_bootstrap_models):\n",
    "            X_btsp, y_btsp = resample(self.X, self.y.ravel())\n",
    "            self.bootstrap_models[i].fit(X_btsp, y_btsp)     \n",
    "        #find the maximum expected value (approximated by the baseline, non-bootstrapped model)\n",
    "        self.y_mean = self.bootstrap_models[0].predict(self.X)\n",
    "        self.y_mean.shape = (len(self.X), 1)\n",
    "        self.max_y = amax(self.y_mean, 0)[0] \n",
    "        return None\n",
    "    #calculates the bayesian expected improvement for a batch of possible sample points\n",
    "    def ExpectedImprovement(self, x):\n",
    "        expected_improvement = 0.0\n",
    "        for i in range(1, self.num_bootstrap_models):\n",
    "            y_pred = self.bootstrap_models[i].predict(x)[0]\n",
    "            expected_improvement = expected_improvement + float(bool(y_pred > self.max_y))*(y_pred - self.max_y)\n",
    "        expected_improvement = expected_improvement/float(self.num_bootstrap_models) + 0.00001\n",
    "        return expected_improvement\n",
    "    #find the next point to carry out an explicit fitness evaluation\n",
    "    #this uses the \"expected improvement\" as as aquisition function\n",
    "    def FindNextPointSA(self, print_stats = True):\n",
    "        #generate the posterior distribution\n",
    "        if print_stats:\n",
    "            print 'Generating bootstrapped posterior distribution...'\n",
    "        Bootstrap()\n",
    "        #perform the simulated annealing cycles\n",
    "        if print_stats:\n",
    "            print 'Performing %i randomly initialized simulated annealing cycles...' % self.num_samples\n",
    "        for i in range(self.num_samples):\n",
    "            T = self.T_max\n",
    "            #while T >= self.T_min:\n",
    "                #pick random feature\n",
    "                #pick random displacement (based on the range)\n",
    "                #accept or reject based on boltzmann factor\n",
    "                \n",
    "            \n",
    "            \n",
    "        \n",
    "            \n",
    "        \n",
    "   \n",
    "        "
   ]
  },
  {
   "cell_type": "code",
   "execution_count": 1757,
   "metadata": {
    "collapsed": false
   },
   "outputs": [
    {
     "data": {
      "text/plain": [
       "array([2, 3, 4, 5, 6])"
      ]
     },
     "execution_count": 1757,
     "metadata": {},
     "output_type": "execute_result"
    }
   ],
   "source": [
    "b = array([2,3,4,5,6])\n",
    "b"
   ]
  },
  {
   "cell_type": "code",
   "execution_count": 1758,
   "metadata": {
    "collapsed": false
   },
   "outputs": [
    {
     "data": {
      "text/plain": [
       "array([[2],\n",
       "       [3],\n",
       "       [4],\n",
       "       [5],\n",
       "       [6]])"
      ]
     },
     "execution_count": 1758,
     "metadata": {},
     "output_type": "execute_result"
    }
   ],
   "source": [
    "b = array([2,3,4,5,6])\n",
    "b.shape = (len(b),1)\n",
    "b"
   ]
  },
  {
   "cell_type": "code",
   "execution_count": 1759,
   "metadata": {
    "collapsed": false
   },
   "outputs": [
    {
     "data": {
      "text/plain": [
       "array([[2, 3, 4, 5, 6]])"
      ]
     },
     "execution_count": 1759,
     "metadata": {},
     "output_type": "execute_result"
    }
   ],
   "source": [
    "b.shape = (1,len(b))\n",
    "b"
   ]
  },
  {
   "cell_type": "code",
   "execution_count": 1760,
   "metadata": {
    "collapsed": false
   },
   "outputs": [
    {
     "data": {
      "text/plain": [
       "array([2, 3, 4, 5, 6])"
      ]
     },
     "execution_count": 1760,
     "metadata": {},
     "output_type": "execute_result"
    }
   ],
   "source": [
    "b[0]"
   ]
  },
  {
   "cell_type": "code",
   "execution_count": 2092,
   "metadata": {
    "collapsed": true
   },
   "outputs": [],
   "source": [
    "from math import factorial"
   ]
  },
  {
   "cell_type": "code",
   "execution_count": 2102,
   "metadata": {
    "collapsed": false
   },
   "outputs": [
    {
     "data": {
      "text/plain": [
       "2.35591681336244e-10"
      ]
     },
     "execution_count": 2102,
     "metadata": {},
     "output_type": "execute_result"
    }
   ],
   "source": [
    "prob = 0\n",
    "for i in range(14, 37):\n",
    "    prob = prob + (float(factorial(36))/(factorial(i)*factorial(36-i)))*((1.0/22.0)**i)*((21.0/22.0)**(36-i))\n",
    "prob"
   ]
  },
  {
   "cell_type": "code",
   "execution_count": 2105,
   "metadata": {
    "collapsed": false
   },
   "outputs": [
    {
     "name": "stdout",
     "output_type": "stream",
     "text": [
      "[[1 0 0 0 3]\n",
      " [0 1 1 0 1]\n",
      " [0 1 1 1 0]]\n",
      "[[0 0 0 0 3]\n",
      " [0 0 2 1 1]\n",
      " [0 2 0 1 1]\n",
      " [0 1 1 0 0]\n",
      " [3 1 1 0 0]]\n"
     ]
    }
   ],
   "source": [
    "from sklearn.feature_extraction.text import CountVectorizer\n",
    "docs = ['this this this book',\n",
    "        'this cat good',\n",
    "        'cat good shit']\n",
    "count_model = CountVectorizer(ngram_range=(1,1)) # default unigram model\n",
    "X = count_model.fit_transform(docs)\n",
    "print X.todense()\n",
    "Xc = (X.T * X) # this is co-occurrence matrix in sparse csr format\n",
    "Xc.setdiag(0) # sometimes you want to fill same word cooccurence to 0\n",
    "print(Xc.todense()) # print out matrix in dense format"
   ]
  },
  {
   "cell_type": "code",
   "execution_count": null,
   "metadata": {
    "collapsed": true
   },
   "outputs": [],
   "source": []
  }
 ],
 "metadata": {
  "anaconda-cloud": {},
  "kernelspec": {
   "display_name": "Python 2",
   "language": "python",
   "name": "python2"
  },
  "language_info": {
   "codemirror_mode": {
    "name": "ipython",
    "version": 2
   },
   "file_extension": ".py",
   "mimetype": "text/x-python",
   "name": "python",
   "nbconvert_exporter": "python",
   "pygments_lexer": "ipython2",
   "version": "2.7.13"
  }
 },
 "nbformat": 4,
 "nbformat_minor": 0
}
